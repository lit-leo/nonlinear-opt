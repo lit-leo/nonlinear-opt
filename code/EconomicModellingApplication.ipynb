{
 "cells": [
  {
   "cell_type": "code",
   "execution_count": 1,
   "metadata": {},
   "outputs": [],
   "source": [
    "import numpy as np\n",
    "from time import time\n",
    "import matplotlib.pyplot as plt\n",
    "from tqdm.notebook import tqdm\n",
    "from scipy.optimize import minimize_scalar\n",
    "\n",
    "%matplotlib inline"
   ]
  },
  {
   "cell_type": "code",
   "execution_count": 2,
   "metadata": {},
   "outputs": [],
   "source": [
    "def make_np_array(x):\n",
    "    if type(x) != np.ndarray and type(x) != list and type(x) != tuple:\n",
    "        return np.array([x])\n",
    "    else:\n",
    "        return np.array(x)"
   ]
  },
  {
   "cell_type": "code",
   "execution_count": 3,
   "metadata": {},
   "outputs": [],
   "source": [
    "def check_convergence_region(algo, problem, x_0, sigma, iterations=50, size=1000, optimization_problem = True):\n",
    "    points = np.random.normal(x_0, sigma, size=(size, x_0.shape[0]))\n",
    "    successes = []\n",
    "    for point in tqdm(points):\n",
    "        x_history, values_history, times_history = algo(problem, point, iterations=iterations)\n",
    "        \n",
    "        if optimization_problem:\n",
    "            result = np.min([np.linalg.norm(problem._g.forward(x), ord=2) for x in x_history])\n",
    "        else:\n",
    "            result = np.min(values_history)\n",
    "        if result < 1e-3 * 1 / np.sqrt(x0.shape[0]):\n",
    "            successes.append(1)\n",
    "        else:\n",
    "            successes.append(0)\n",
    "    return points, successes"
   ]
  },
  {
   "cell_type": "code",
   "execution_count": 50,
   "metadata": {},
   "outputs": [],
   "source": [
    "def draw_plots(values, times, names):\n",
    "    fig, axs = plt.subplots(nrows=1, ncols=2, figsize=(15, 7))\n",
    "    \n",
    "    \n",
    "    for name_, values_ in zip(names, values):\n",
    "        axs[0].plot(values_, label=name_)\n",
    "    axs[0].set_xlabel('Iteration')\n",
    "    axs[0].set_ylabel('log(Value)')\n",
    "    axs[0].set_yscale('log')\n",
    "    \n",
    "    for name_, times_ in zip(names, times):\n",
    "        axs[1].plot(times_, label=name_)\n",
    "    \n",
    "    axs[1].set_xlabel('Iteration')\n",
    "    axs[1].set_ylabel('Time, s')\n",
    "    \n",
    "    axs[0].grid()\n",
    "    axs[1].grid()\n",
    "    \n",
    "    axs[0].legend(loc=1)\n",
    "    axs[1].legend(loc=1)\n",
    "    \n",
    "    plt.show()"
   ]
  },
  {
   "cell_type": "markdown",
   "metadata": {},
   "source": [
    "The considered equation has a form:\n",
    "\n",
    "$\\begin{cases} \\big( x_k + \\sum\\limits_{i = 1}^{n - k - 1} x_i x_{i + k} \\big) x_n - c_n = 0, 1 \\leq k \\leq n - 1 \\\\\n",
    "\\sum\\limits_{i = 1}^{n - 1} x_i+ 1 = 0 \\end{cases}$"
   ]
  },
  {
   "cell_type": "markdown",
   "metadata": {},
   "source": [
    "So the **Jacobian** is:\n",
    "\n",
    "If $i \\neq n$, $j \\neq n$:\n",
    "\n",
    "$\\frac{\\partial g_i}{\\partial x_i} = x_n + x_n x_{2i}I(i + i < n)$\n",
    "\n",
    "$\\frac{\\partial g_i}{\\partial x_j} = x_n x_{j}I(j + i < n) + x_n x_{j} I(j - i > 0)$\n",
    "\n",
    "And if $i = n$:\n",
    "\n",
    "$\\frac{\\partial g_n}{\\partial x_n} = 0$, $\\frac{\\partial g_n}{\\partial x_i} = 1$\n",
    "\n",
    "And if $j = n$:\n",
    "\n",
    "$\\frac{\\partial g_i}{\\partial x_n} = x_i + \\sum\\limits_{l = 1}^{n - i - 1}x_lx_{l + i}$"
   ]
  },
  {
   "cell_type": "markdown",
   "metadata": {},
   "source": [
    "And **Hessian** is:\n",
    "\n",
    "If $i \\neq n$, $j \\neq n$:\n",
    "\n",
    "$\\frac{\\partial^2 g_i}{\\partial x_i^2} = 0$\n",
    "\n",
    "$\\frac{\\partial^2 g_i}{\\partial x_j^2} = 0$\n",
    "\n",
    "And if $i = n$:\n",
    "\n",
    "$\\frac{\\partial g_n}{\\partial x_n} = 0$, $\\frac{\\partial g_n}{\\partial x_i} = 1$\n",
    "\n",
    "And if $j = n$:\n",
    "\n",
    "$\\frac{\\partial g_i}{\\partial x_n} = 0$"
   ]
  },
  {
   "cell_type": "code",
   "execution_count": 5,
   "metadata": {},
   "outputs": [],
   "source": [
    "class EconomicModellingData():\n",
    "    def __init__(self, k, constraint = None,\n",
    "                 smallest_constraint=0,\n",
    "                 largest_constraint=1):\n",
    "        if constraint is None:\n",
    "            self._c = smallest_constraint + (np.random.rand(k) * (largest_constraint - smallest_constraint))\n",
    "        else:\n",
    "            self._c = np.array(constraint)\n",
    "            \n",
    "    def forward(self, x):\n",
    "        n = x.shape[0]\n",
    "        assert n == self._c.shape[0] + 1\n",
    "        first = np.array([(x[i] + (x[:n-i-2] * np.roll(x, shift=-i - 1)[:n-i-2]).sum()) * x[n - 1] - self._c[i] for i in range(n - 1)])\n",
    "        last = np.sum(x[:n - 1]) + 1\n",
    "        return np.hstack((first, last))\n",
    "        \n",
    "    def grad(self, x):\n",
    "        n = x.shape[0]\n",
    "        assert n == self._c.shape[0] + 1\n",
    "        \n",
    "        diag_part = x[n - 1] * np.diag(np.ones(n))\n",
    "        diag_part[n - 1][n - 1] = 0\n",
    "        main_part = np.zeros((n, n))\n",
    "        \n",
    "        for i in range(n - 1):\n",
    "            main_part[n - 1][i] = 1\n",
    "            main_part[i][n - 1] = x[i] + (x[:n-i-2] * np.roll(x, shift=-i - 1)[:n-i-2]).sum()\n",
    "            for j in range(n - 1):\n",
    "                if (i + j + 1 < n - 1):\n",
    "                    main_part[i][j] += x[n - 1] * x[i + j + 1]\n",
    "                if (j - i - 1 >= 0):\n",
    "                    main_part[i][j] += x[n - 1] * x[j - i - 1]           \n",
    "        \n",
    "        return diag_part + main_part\n",
    "    \n",
    "    def hess(self, x):\n",
    "        n = x.shape[0]\n",
    "        return np.zeros((n, n))"
   ]
  },
  {
   "cell_type": "code",
   "execution_count": 6,
   "metadata": {},
   "outputs": [],
   "source": [
    "def dump_forward(x, c):\n",
    "    n = x.shape[0]\n",
    "    \n",
    "    output = np.zeros_like(x)\n",
    "    for i in range(n - 1):\n",
    "        output[i] = x[i]\n",
    "        j = 0\n",
    "        while(j + i + 1 < n - 1):\n",
    "            output[i] += x[j] * x[j + i + 1]\n",
    "            j += 1\n",
    "        output[i] = output[i] * x[n - 1] - c[i]\n",
    "        \n",
    "    output[n - 1] = np.sum(x[:n - 1]) + 1\n",
    "    return output"
   ]
  },
  {
   "cell_type": "code",
   "execution_count": 7,
   "metadata": {},
   "outputs": [],
   "source": [
    "def dump_grad(x, c):\n",
    "    n = x.shape[0]\n",
    "    \n",
    "    output = np.zeros((x.shape[0], x.shape[0]))\n",
    "    for i in range(n - 1):\n",
    "        for j in range(n - 1):\n",
    "            if i == j:\n",
    "                output[i][j] = x[n - 1]\n",
    "                \n",
    "            if j + i + 1 <= n - 2:\n",
    "                output[i][j] += x[n - 1] * x[j + i + 1]\n",
    "            \n",
    "            if j - i - 1 >= 0:\n",
    "                output[i][j] += x[n - 1] * x[j - i - 1]\n",
    "    \n",
    "    for j in range(n - 1):\n",
    "        output[n - 1][j] = 1\n",
    "    \n",
    "    for i in range(n - 1):\n",
    "        output[i][n - 1] = x[i]\n",
    "        \n",
    "        j = 0\n",
    "        while(j + i + 1 < n - 1):\n",
    "            output[i][n - 1] += x[j] * x[j + i + 1]\n",
    "            j += 1\n",
    "        \n",
    "    return output"
   ]
  },
  {
   "cell_type": "code",
   "execution_count": 8,
   "metadata": {},
   "outputs": [],
   "source": [
    "for shape in range(3, 200):\n",
    "    x = np.random.rand(shape)\n",
    "    e = EconomicModellingData(k=shape - 1)\n",
    "    assert ((dump_grad(x, e._c) - e.grad(x)) ** 2).sum() < 1e-9"
   ]
  },
  {
   "cell_type": "code",
   "execution_count": 9,
   "metadata": {},
   "outputs": [],
   "source": [
    "class EconomicModellingDataOptim():\n",
    "    def __init__(self, g, p = 2):\n",
    "        self._g = g\n",
    "        self._p = p\n",
    "    \n",
    "    def forward(self, x):\n",
    "        g = self._g.forward(x)\n",
    "        return (g ** self._p).sum()\n",
    "        \n",
    "    def grad(self, x):\n",
    "        x = np.array(x)\n",
    "        \n",
    "        g = self._g.forward(x)\n",
    "        grad_g = self._g.grad(x)\n",
    "        return self._p * grad_g.T @ (g ** (self._p - 1))\n",
    "    \n",
    "    def hess(self, x):\n",
    "        x = np.array(x)\n",
    "        \n",
    "        g = self._g.forward(x)\n",
    "        grad_g = self._g.grad(x) \n",
    "        return self._p * (self._p - 1) * grad_g.T @ np.diag(g ** (self._p - 2)) @ grad_g"
   ]
  },
  {
   "cell_type": "markdown",
   "metadata": {},
   "source": [
    "# Experiment setup"
   ]
  },
  {
   "cell_type": "markdown",
   "metadata": {},
   "source": [
    "We different system sizes: $\\{10, 100, 1000 \\}$.\n",
    "\n",
    "As the norm of restrictions is not that large, I use try to find $x_0$ such that algorithm converges.\n",
    "\n",
    "Then I generate a family of dots to figure out the convergence area.\n",
    "Than I use PCA to illustrate the convergence area.\n",
    "\n",
    "I also consider two cases - hard and easy ones. In the easy case the restrictions are zeroed, and the equation has an analytical solution, in the hard case restrictions are randomly generated."
   ]
  },
  {
   "cell_type": "code",
   "execution_count": 41,
   "metadata": {},
   "outputs": [],
   "source": [
    "SYSTEM_SIZES = [3, 10, 100]"
   ]
  },
  {
   "cell_type": "code",
   "execution_count": 42,
   "metadata": {},
   "outputs": [],
   "source": [
    "gs, fs = [],[]"
   ]
  },
  {
   "cell_type": "code",
   "execution_count": 43,
   "metadata": {},
   "outputs": [],
   "source": [
    "for i, size in enumerate(SYSTEM_SIZES):\n",
    "    gs.append(EconomicModellingData(size - 1))\n",
    "    fs.append(EconomicModellingDataOptim(gs[-1], p=2))"
   ]
  },
  {
   "cell_type": "markdown",
   "metadata": {},
   "source": [
    "# Newton's Solving algorithm"
   ]
  },
  {
   "cell_type": "code",
   "execution_count": 154,
   "metadata": {},
   "outputs": [],
   "source": [
    "class NewtonSolvingAlgorithm():\n",
    "    def __init__(self):\n",
    "        pass\n",
    "    \n",
    "    def solve(self, equation, x0, iterations=10, eps=1e-9, verbose=False):\n",
    "        x = x0\n",
    "        x_history = [x]\n",
    "        values_history = [np.linalg.norm(equation.forward(x), ord=2)]\n",
    "        times_history = [0]\n",
    "        \n",
    "        start = time()\n",
    "        if verbose:\n",
    "            iter_in = tqdm(range(iterations))\n",
    "        else:\n",
    "            iter_in = range(iterations)\n",
    "        for i in iter_in:\n",
    "            x = x - np.linalg.pinv(equation.grad(x)) @ equation.forward(x)\n",
    "            \n",
    "            values_history.append(np.linalg.norm(equation.forward(x), ord=2))\n",
    "            x_history.append(x)\n",
    "            times_history.append(time() - start)\n",
    "        return x_history, values_history, times_history"
   ]
  },
  {
   "cell_type": "markdown",
   "metadata": {},
   "source": [
    "## Finding x_0 such that algorithm converges..."
   ]
  },
  {
   "cell_type": "code",
   "execution_count": 155,
   "metadata": {},
   "outputs": [],
   "source": [
    "x0s = []"
   ]
  },
  {
   "cell_type": "code",
   "execution_count": 156,
   "metadata": {},
   "outputs": [
    {
     "name": "stdout",
     "output_type": "stream",
     "text": [
      "Started...\n",
      "0.0\n",
      "Finished...\n",
      "Started...\n",
      "1.3916764352120123e-16\n",
      "Finished...\n",
      "Started...\n",
      "6.6520739232098505\n",
      "6.630712459738408\n",
      "5.936363471343645\n",
      "41.17133389480262\n",
      "28.874116844419756\n",
      "8.818545489610043e-15\n",
      "Finished...\n"
     ]
    }
   ],
   "source": [
    "for g in gs:\n",
    "    not_converged = True\n",
    "    print('Started...')\n",
    "    while(not_converged):\n",
    "        x0 = np.zeros(g._c.shape[0] + 1)\n",
    "        point = np.random.normal(x0, np.ones(x0.shape[0]))\n",
    "        x_history, values_history, times_history = NewtonSolvingAlgorithm().solve(g, point, iterations=50)\n",
    "        if np.min(values_history) < 1e-3 * 1 / np.sqrt(x0.shape[0]):\n",
    "            not_converged = False\n",
    "            x0s.append(point)\n",
    "        print(np.min(values_history))\n",
    "    print('Finished...')\n",
    "        "
   ]
  },
  {
   "cell_type": "markdown",
   "metadata": {},
   "source": [
    "## Exploring algorithm behaviour in x_0..."
   ]
  },
  {
   "cell_type": "code",
   "execution_count": 157,
   "metadata": {},
   "outputs": [],
   "source": [
    "def smooth_non_monotone_convergence(values_histories):\n",
    "    new_values_history = [values_histories[0]]\n",
    "    for i in range(1, len(values_histories)):\n",
    "        new_values_history.append(min(new_values_history[-1], values_histories[i]))\n",
    "    return new_values_history"
   ]
  },
  {
   "cell_type": "code",
   "execution_count": 158,
   "metadata": {},
   "outputs": [
    {
     "data": {
      "application/vnd.jupyter.widget-view+json": {
       "model_id": "d11867757de546c0982075af4ee6e39d",
       "version_major": 2,
       "version_minor": 0
      },
      "text/plain": [
       "HBox(children=(FloatProgress(value=0.0, max=50.0), HTML(value='')))"
      ]
     },
     "metadata": {},
     "output_type": "display_data"
    },
    {
     "name": "stdout",
     "output_type": "stream",
     "text": [
      "\n"
     ]
    },
    {
     "data": {
      "application/vnd.jupyter.widget-view+json": {
       "model_id": "9c31811aa06f4495812c852156361d2c",
       "version_major": 2,
       "version_minor": 0
      },
      "text/plain": [
       "HBox(children=(FloatProgress(value=0.0, max=50.0), HTML(value='')))"
      ]
     },
     "metadata": {},
     "output_type": "display_data"
    },
    {
     "name": "stdout",
     "output_type": "stream",
     "text": [
      "\n"
     ]
    },
    {
     "data": {
      "application/vnd.jupyter.widget-view+json": {
       "model_id": "715cdcbb14a74d1b93d9adee85dae91c",
       "version_major": 2,
       "version_minor": 0
      },
      "text/plain": [
       "HBox(children=(FloatProgress(value=0.0, max=50.0), HTML(value='')))"
      ]
     },
     "metadata": {},
     "output_type": "display_data"
    },
    {
     "name": "stdout",
     "output_type": "stream",
     "text": [
      "\n"
     ]
    }
   ],
   "source": [
    "x_history_ns_3, values_history_ns_3, times_history_ns_3 = NewtonSolvingAlgorithm().solve(gs[0], x0s[0], iterations=50, verbose=True)\n",
    "x_history_ns_10, values_history_ns_10, times_history_ns_10 = NewtonSolvingAlgorithm().solve(gs[1], x0s[1], iterations=50, verbose=True)\n",
    "x_history_ns_100, values_history_ns_100, times_history_ns_100 = NewtonSolvingAlgorithm().solve(gs[2], x0s[2], iterations=50, verbose=True)"
   ]
  },
  {
   "cell_type": "code",
   "execution_count": 159,
   "metadata": {},
   "outputs": [
    {
     "data": {
      "image/png": "[encoded data removed]",
      "text/plain": [
       "<Figure size 1080x504 with 2 Axes>"
      ]
     },
     "metadata": {
      "needs_background": "light"
     },
     "output_type": "display_data"
    }
   ],
   "source": [
    "draw_plots([smooth_non_monotone_convergence(values_history_ns_3),\n",
    "            smooth_non_monotone_convergence(values_history_ns_10),\n",
    "            smooth_non_monotone_convergence(values_history_ns_100)],\n",
    "          [times_history_ns_3, times_history_ns_10, times_history_ns_100],\n",
    "          ['Newton Solving size=3', 'Newton Solving size=10', 'Newton Solving size=100'])"
   ]
  },
  {
   "cell_type": "code",
   "execution_count": 162,
   "metadata": {},
   "outputs": [],
   "source": [
    "# good points, which are close to the minimum\n",
    "good_x0s = [x_history_ns_3[-1], x_history_ns_10[-1], x_history_ns_100[-1]]"
   ]
  },
  {
   "cell_type": "code",
   "execution_count": 30,
   "metadata": {},
   "outputs": [
    {
     "data": {
      "application/vnd.jupyter.widget-view+json": {
       "model_id": "054fcdfcc99d4874855a80525bf4194a",
       "version_major": 2,
       "version_minor": 0
      },
      "text/plain": [
       "HBox(children=(FloatProgress(value=0.0, max=1000.0), HTML(value='')))"
      ]
     },
     "metadata": {},
     "output_type": "display_data"
    },
    {
     "name": "stdout",
     "output_type": "stream",
     "text": [
      "\n"
     ]
    }
   ],
   "source": [
    "points_3, successes_3 = check_convergence_region(NewtonSolvingAlgorithm().solve, gs[0], x0s[0],\n",
    "                                                   1000, size=1000, optimization_problem=False)\n"
   ]
  },
  {
   "cell_type": "code",
   "execution_count": 20,
   "metadata": {},
   "outputs": [
    {
     "data": {
      "application/vnd.jupyter.widget-view+json": {
       "model_id": "cb41822d878847abb6929aec65bba637",
       "version_major": 2,
       "version_minor": 0
      },
      "text/plain": [
       "HBox(children=(FloatProgress(value=0.0, max=1000.0), HTML(value='')))"
      ]
     },
     "metadata": {},
     "output_type": "display_data"
    },
    {
     "name": "stdout",
     "output_type": "stream",
     "text": [
      "\n"
     ]
    }
   ],
   "source": [
    "points_10, successes_10 = check_convergence_region(NewtonSolvingAlgorithm().solve, gs[1], x0s[1],\n",
    "                                                   100, size=1000, optimization_problem=False)\n"
   ]
  },
  {
   "cell_type": "code",
   "execution_count": 21,
   "metadata": {},
   "outputs": [
    {
     "data": {
      "application/vnd.jupyter.widget-view+json": {
       "model_id": "e0fc9fd7856a419999133ec7d30acb3d",
       "version_major": 2,
       "version_minor": 0
      },
      "text/plain": [
       "HBox(children=(FloatProgress(value=0.0), HTML(value='')))"
      ]
     },
     "metadata": {},
     "output_type": "display_data"
    },
    {
     "name": "stdout",
     "output_type": "stream",
     "text": [
      "\n"
     ]
    }
   ],
   "source": [
    "points_100, successes_100 = check_convergence_region(NewtonSolvingAlgorithm().solve, gs[2], x0s[2],\n",
    "                                                   1, size=100, optimization_problem=False)"
   ]
  },
  {
   "cell_type": "code",
   "execution_count": 31,
   "metadata": {},
   "outputs": [
    {
     "name": "stdout",
     "output_type": "stream",
     "text": [
      "size=3,   sigma=1000, trials=1000, positive: 1.0, negative: 0.0 \n",
      "size=100, sigma=100,  trials=1000, positive: 0.551, negative: 0.449 \n",
      "size=300, sigma=1,    trials=100,  positive: 0.42, negative: 0.58 \n"
     ]
    }
   ],
   "source": [
    "print(f'size=3,   sigma=1000, trials=1000, positive: {(np.array(successes_3) == 1).sum() / 1000}, negative: {(np.array(successes_3) == 0).sum() / 1000} ')\n",
    "print(f'size=100, sigma=100,  trials=1000, positive: {(np.array(successes_10) == 1).sum() / 1000}, negative: {(np.array(successes_10) == 0).sum() / 1000} ')\n",
    "print(f'size=300, sigma=1,    trials=100,  positive: {(np.array(successes_100) == 1).sum() / 100}, negative: {(np.array(successes_100) == 0).sum() / 100} ')"
   ]
  },
  {
   "cell_type": "markdown",
   "metadata": {},
   "source": [
    "# Newton's Optimizing algorithm"
   ]
  },
  {
   "cell_type": "markdown",
   "metadata": {},
   "source": [
    "Levenberg-Marquart can be used here to receive more stable results."
   ]
  },
  {
   "cell_type": "code",
   "execution_count": 163,
   "metadata": {},
   "outputs": [],
   "source": [
    "class NewtonOptimizationAlgorithm():\n",
    "    def __init__(self):\n",
    "        pass\n",
    "    \n",
    "    def optimize(self, function, x0, iterations=10, eps=1e-9, verbose=False):\n",
    "        x = x0\n",
    "        \n",
    "        x_history = [x]\n",
    "        values_history = [function.forward(x)]\n",
    "        times_history = [0]\n",
    "        \n",
    "        start = time()\n",
    "        if verbose:\n",
    "            iter_in = tqdm(range(iterations))\n",
    "        else:\n",
    "            iter_in = range(iterations)\n",
    "        for i in iter_in:\n",
    "            x = x - np.linalg.pinv(function.hess(x) + eps * np.eye(x.shape[0])) @ function.grad(x)\n",
    "            \n",
    "            if np.isnan(x).any():\n",
    "                break\n",
    "            values_history.append(function.forward(x))\n",
    "            x_history.append(x)\n",
    "            times_history.append(time() - start)\n",
    "        return x_history, values_history, times_history"
   ]
  },
  {
   "cell_type": "markdown",
   "metadata": {},
   "source": [
    "## Find x_0 where algorithm converges..."
   ]
  },
  {
   "cell_type": "code",
   "execution_count": 164,
   "metadata": {},
   "outputs": [],
   "source": [
    "x0s = []"
   ]
  },
  {
   "cell_type": "code",
   "execution_count": 165,
   "metadata": {},
   "outputs": [
    {
     "name": "stdout",
     "output_type": "stream",
     "text": [
      "Started...\n",
      "0.0\n",
      "Finished...\n",
      "Started...\n",
      "1.6948010658922842e-08\n",
      "Finished...\n",
      "Started...\n",
      "6.440750516200611e-29\n",
      "Finished...\n"
     ]
    }
   ],
   "source": [
    "for i in range(3):\n",
    "    not_converged = True\n",
    "    print('Started...')\n",
    "    f = fs[i]\n",
    "    g = gs[i]\n",
    "    \n",
    "    while(not_converged):\n",
    "        x0 = np.zeros(g._c.shape[0] + 1)\n",
    "        point = np.random.normal(x0, np.ones(x0.shape[0]))\n",
    "        point = good_x0s[i] + point\n",
    "        x_history, values_history, times_history = NewtonOptimizationAlgorithm().optimize(f, point, iterations=100, eps=1e-7)\n",
    "        if np.sqrt(np.min(values_history)) < 1e-3 * 1 / np.sqrt(x0.shape[0]):\n",
    "            not_converged = False\n",
    "            x0s.append(point)\n",
    "        print(np.min(values_history))\n",
    "    print('Finished...')"
   ]
  },
  {
   "cell_type": "markdown",
   "metadata": {},
   "source": [
    "## Convergence plots"
   ]
  },
  {
   "cell_type": "code",
   "execution_count": 166,
   "metadata": {},
   "outputs": [
    {
     "data": {
      "application/vnd.jupyter.widget-view+json": {
       "model_id": "5c7ab5e322c3499e99b67a7918b6b25d",
       "version_major": 2,
       "version_minor": 0
      },
      "text/plain": [
       "HBox(children=(FloatProgress(value=0.0, max=50.0), HTML(value='')))"
      ]
     },
     "metadata": {},
     "output_type": "display_data"
    },
    {
     "name": "stdout",
     "output_type": "stream",
     "text": [
      "\n"
     ]
    },
    {
     "data": {
      "application/vnd.jupyter.widget-view+json": {
       "model_id": "54bf2519ee1e44839585271d1f3eb769",
       "version_major": 2,
       "version_minor": 0
      },
      "text/plain": [
       "HBox(children=(FloatProgress(value=0.0), HTML(value='')))"
      ]
     },
     "metadata": {},
     "output_type": "display_data"
    },
    {
     "name": "stdout",
     "output_type": "stream",
     "text": [
      "\n"
     ]
    },
    {
     "data": {
      "application/vnd.jupyter.widget-view+json": {
       "model_id": "f31794cc8028482b9040e89755597ce1",
       "version_major": 2,
       "version_minor": 0
      },
      "text/plain": [
       "HBox(children=(FloatProgress(value=0.0), HTML(value='')))"
      ]
     },
     "metadata": {},
     "output_type": "display_data"
    },
    {
     "name": "stdout",
     "output_type": "stream",
     "text": [
      "\n"
     ]
    }
   ],
   "source": [
    "x_history_no_3, values_history_no_3, times_history_no_3 = NewtonOptimizationAlgorithm().optimize(fs[0], x0s[0], iterations=50, verbose=True, eps=1e-7)\n",
    "x_history_no_10, values_history_no_10, times_history_no_10 = NewtonOptimizationAlgorithm().optimize(fs[1], x0s[1], iterations=100, verbose=True, eps=1e-7)\n",
    "x_history_no_100, values_history_no_100, times_history_no_100 = NewtonOptimizationAlgorithm().optimize(fs[2], x0s[2], iterations=100, verbose=True, eps=1e-7)\n"
   ]
  },
  {
   "cell_type": "code",
   "execution_count": 167,
   "metadata": {},
   "outputs": [],
   "source": [
    "g_values_history_no_3 =  [np.linalg.norm(gs[0].forward(x), ord=2) for x in x_history_no_3]\n",
    "g_values_history_no_10 = [np.linalg.norm(gs[1].forward(x), ord=2) for x in x_history_no_10]\n",
    "g_values_history_no_100 = [np.linalg.norm(gs[2].forward(x), ord=2) for x in x_history_no_100]"
   ]
  },
  {
   "cell_type": "code",
   "execution_count": 168,
   "metadata": {},
   "outputs": [
    {
     "data": {
      "image/png": "[encoded data removed]",
      "text/plain": [
       "<Figure size 1080x504 with 2 Axes>"
      ]
     },
     "metadata": {
      "needs_background": "light"
     },
     "output_type": "display_data"
    }
   ],
   "source": [
    "draw_plots([smooth_non_monotone_convergence(g_values_history_no_3),\n",
    "            smooth_non_monotone_convergence(g_values_history_no_10),\n",
    "            smooth_non_monotone_convergence(g_values_history_no_100)],\n",
    "          [times_history_ns_3, times_history_ns_10, times_history_ns_100],\n",
    "          ['Newton Solving size=3', 'Newton Solving size=10', 'Newton Solving size=100'])"
   ]
  },
  {
   "cell_type": "markdown",
   "metadata": {},
   "source": [
    "## Convergence area analysis"
   ]
  },
  {
   "cell_type": "code",
   "execution_count": 169,
   "metadata": {},
   "outputs": [
    {
     "data": {
      "application/vnd.jupyter.widget-view+json": {
       "model_id": "80595c9669784ba495dea9b301f81282",
       "version_major": 2,
       "version_minor": 0
      },
      "text/plain": [
       "HBox(children=(FloatProgress(value=0.0, max=1000.0), HTML(value='')))"
      ]
     },
     "metadata": {},
     "output_type": "display_data"
    },
    {
     "name": "stdout",
     "output_type": "stream",
     "text": [
      "\n"
     ]
    }
   ],
   "source": [
    "points_3, successes_3 = check_convergence_region(NewtonOptimizationAlgorithm().optimize, fs[0], x0s[0],\n",
    "                                                 1000, size=1000)"
   ]
  },
  {
   "cell_type": "code",
   "execution_count": 170,
   "metadata": {},
   "outputs": [
    {
     "data": {
      "application/vnd.jupyter.widget-view+json": {
       "model_id": "30c9f6ff114c43ac8f762a9f50b1cacc",
       "version_major": 2,
       "version_minor": 0
      },
      "text/plain": [
       "HBox(children=(FloatProgress(value=0.0, max=1000.0), HTML(value='')))"
      ]
     },
     "metadata": {},
     "output_type": "display_data"
    },
    {
     "name": "stdout",
     "output_type": "stream",
     "text": [
      "\n"
     ]
    }
   ],
   "source": [
    "points_10, successes_10 = check_convergence_region(NewtonOptimizationAlgorithm().optimize, fs[1], x0s[1],\n",
    "                                                   100, size=1000)\n"
   ]
  },
  {
   "cell_type": "code",
   "execution_count": 171,
   "metadata": {},
   "outputs": [
    {
     "data": {
      "application/vnd.jupyter.widget-view+json": {
       "model_id": "315964f8b00d40258b2f34c7f00a150c",
       "version_major": 2,
       "version_minor": 0
      },
      "text/plain": [
       "HBox(children=(FloatProgress(value=0.0), HTML(value='')))"
      ]
     },
     "metadata": {},
     "output_type": "display_data"
    },
    {
     "name": "stdout",
     "output_type": "stream",
     "text": [
      "\n"
     ]
    }
   ],
   "source": [
    "points_100, successes_100 = check_convergence_region(NewtonOptimizationAlgorithm().optimize, fs[2], x0s[2],\n",
    "                                                   1, size=100)"
   ]
  },
  {
   "cell_type": "code",
   "execution_count": 172,
   "metadata": {},
   "outputs": [
    {
     "name": "stdout",
     "output_type": "stream",
     "text": [
      "size=3,   sigma=1000, trials=1000, positive: 0.193, negative: 0.807 \n",
      "size=100, sigma=100,  trials=1000, positive: 0.003, negative: 0.997 \n",
      "size=300, sigma=1,    trials=100,  positive: 0.5, negative: 0.5 \n"
     ]
    }
   ],
   "source": [
    "print(f'size=3,   sigma=1000, trials=1000, positive: {(np.array(successes_3) == 1).sum() / 1000}, negative: {(np.array(successes_3) == 0).sum() / 1000} ')\n",
    "print(f'size=100, sigma=100,  trials=1000, positive: {(np.array(successes_10) == 1).sum() / 1000}, negative: {(np.array(successes_10) == 0).sum() / 1000} ')\n",
    "print(f'size=300, sigma=1,    trials=100,  positive: {(np.array(successes_100) == 1).sum() / 100}, negative: {(np.array(successes_100) == 0).sum() / 100} ')"
   ]
  },
  {
   "cell_type": "markdown",
   "metadata": {},
   "source": [
    "# Conjugated Gradients"
   ]
  },
  {
   "cell_type": "code",
   "execution_count": 174,
   "metadata": {},
   "outputs": [],
   "source": [
    "class ConjugateGradient():\n",
    "    def __init__(self):\n",
    "        pass\n",
    "    \n",
    "    def optimize(self, regression, x0, iterations=10, method='fletcher-reeves', default_step=0.01,\n",
    "                line_search_iter=50, line_search_tolerance=10, verbose=False):\n",
    "        # random guess\n",
    "        if x0 is None:\n",
    "            x = np.random.rand(regression.A.shape[1])\n",
    "        else: \n",
    "            x = x0\n",
    "        \n",
    "        # conjugate direction\n",
    "        d = -regression.grad(x)\n",
    "        \n",
    "        # initialize starting time\n",
    "        start = time()\n",
    "        # save the history of iterations for plotting and analysis\n",
    "        x_history = [x]\n",
    "        values_history = [regression.forward(x)]\n",
    "        grads_history = [regression.grad(x)]\n",
    "        times_history = [0]\n",
    "        \n",
    "        \n",
    "        if verbose:\n",
    "            iter_in = tqdm(range(iterations))\n",
    "        else:\n",
    "            iter_in = range(iterations)\n",
    "        for i in iter_in:\n",
    "            # line search alpha\n",
    "            #alpha = line_search(regression.forward, regression.grad, x, d, maxiter=100)[0]\n",
    "            \n",
    "            alpha = minimize_scalar(lambda l: regression.forward(x + l * d),\n",
    "                                       bounds=(0, default_step), method='Brent',\n",
    "                                       options={'maxiter':line_search_iter,\n",
    "                                                'xtol': default_step / line_search_tolerance})\n",
    "            alpha = alpha['x']\n",
    "            if alpha == 0:\n",
    "                if verbose:\n",
    "                    print(f'Line search did not converge on iteration {i}, using default step')\n",
    "                alpha = default_step / (i + 1)\n",
    "                #return x_history, values_history, times_history\n",
    "            \n",
    "            # update x_k + 1\n",
    "            x = x + alpha * d\n",
    "            x_history.append(x)\n",
    "            values_history.append(regression.forward(x))\n",
    "            \n",
    "            # compute g_k + 1\n",
    "            g = regression.grad(x)\n",
    "            grads_history.append(g)\n",
    "            \n",
    "            # update d_k + 1\n",
    "            if method == 'fletcher-reeves':\n",
    "                if (grads_history[-2].T @ grads_history[-2]) == 0:\n",
    "                    beta = 0\n",
    "                else:\n",
    "                    beta = (g.T @ g) / (grads_history[-2].T @ grads_history[-2])\n",
    "            elif method == 'polak-ribiere':\n",
    "                if (grads_history[-2].T @ grads_history[-2]) == 0:\n",
    "                    beta = 0\n",
    "                else:\n",
    "                    beta = ((g - grads_history[-2]).T @ g) / (grads_history[-2].T @ grads_history[-2])\n",
    "            else:\n",
    "                raise Exception(f'Unknown method: {method}')\n",
    "            d = -g + beta * d\n",
    "            \n",
    "            # update times history\n",
    "            times_history.append(time() - start)\n",
    "        if verbose:\n",
    "            print(f'Conjugate gradient converged on iteration {i}')\n",
    "        return x_history, values_history, times_history"
   ]
  },
  {
   "cell_type": "markdown",
   "metadata": {},
   "source": [
    "## Conjugated Gradients: Fletcher-Reeves"
   ]
  },
  {
   "cell_type": "code",
   "execution_count": 195,
   "metadata": {},
   "outputs": [],
   "source": [
    "MAX_POINTS = 20"
   ]
  },
  {
   "cell_type": "code",
   "execution_count": 196,
   "metadata": {},
   "outputs": [
    {
     "name": "stdout",
     "output_type": "stream",
     "text": [
      "Started...\n",
      "0.0\n",
      "Finished...\n",
      "Started...\n"
     ]
    },
    {
     "name": "stderr",
     "output_type": "stream",
     "text": [
      "/Users/dragonstone/opt/anaconda3/lib/python3.7/site-packages/ipykernel_launcher.py:13: RuntimeWarning: overflow encountered in multiply\n",
      "  del sys.path[0]\n",
      "/Users/dragonstone/opt/anaconda3/lib/python3.7/site-packages/ipykernel_launcher.py:13: RuntimeWarning: overflow encountered in double_scalars\n",
      "  del sys.path[0]\n",
      "/Users/dragonstone/opt/anaconda3/lib/python3.7/site-packages/ipykernel_launcher.py:8: RuntimeWarning: overflow encountered in square\n",
      "  \n",
      "/Users/dragonstone/opt/anaconda3/lib/python3.7/site-packages/ipykernel_launcher.py:27: RuntimeWarning: overflow encountered in multiply\n",
      "/Users/dragonstone/opt/anaconda3/lib/python3.7/site-packages/ipykernel_launcher.py:30: RuntimeWarning: overflow encountered in double_scalars\n",
      "/Users/dragonstone/opt/anaconda3/lib/python3.7/site-packages/ipykernel_launcher.py:32: RuntimeWarning: overflow encountered in double_scalars\n",
      "/Users/dragonstone/opt/anaconda3/lib/python3.7/site-packages/ipykernel_launcher.py:32: RuntimeWarning: invalid value encountered in double_scalars\n",
      "/Users/dragonstone/opt/anaconda3/lib/python3.7/site-packages/ipykernel_launcher.py:15: RuntimeWarning: invalid value encountered in matmul\n",
      "  from ipykernel import kernelapp as app\n"
     ]
    },
    {
     "name": "stdout",
     "output_type": "stream",
     "text": [
      "nan\n"
     ]
    },
    {
     "name": "stderr",
     "output_type": "stream",
     "text": [
      "/Users/dragonstone/opt/anaconda3/lib/python3.7/site-packages/ipykernel_launcher.py:15: RuntimeWarning: overflow encountered in matmul\n",
      "  from ipykernel import kernelapp as app\n"
     ]
    },
    {
     "name": "stdout",
     "output_type": "stream",
     "text": [
      "nan\n",
      "1.2847728759180632e-08\n",
      "Finished...\n",
      "Started...\n",
      "1.6976915924765498e-08\n",
      "3.626339452443735e-08\n",
      "4.3687647995974554e-09\n",
      "Finished...\n"
     ]
    }
   ],
   "source": [
    "x0s = []\n",
    "for i in range(3):\n",
    "    not_converged = True\n",
    "    print('Started...')\n",
    "    f = fs[i]\n",
    "    g = gs[i]\n",
    "    \n",
    "    considered_dots = 0\n",
    "    x0 = np.zeros(g._c.shape[0] + 1)\n",
    "    x0s.append(x0)\n",
    "    while(not_converged and considered_dots < MAX_POINTS):\n",
    "        if SYSTEM_SIZES[i] <= 10:\n",
    "            point = np.random.normal(x0, np.ones(x0.shape[0]))\n",
    "        else:\n",
    "            point = np.random.normal(x0, np.ones(x0.shape[0]) * 5e-3)\n",
    "        point = good_x0s[i] + point\n",
    "        x_history, values_history, times_history = ConjugateGradient().optimize(f, point, iterations=300,  method='fletcher-reeves')\n",
    "        if np.sqrt(np.min(values_history)) < 1e-3 * 1 / np.sqrt(x0.shape[0]):\n",
    "            not_converged = False\n",
    "            x0s[-1] = point\n",
    "        \n",
    "        if np.min(values_history) < f.forward(x0s[-1]):\n",
    "            x0s[-1] = point\n",
    "            \n",
    "        considered_dots += 1\n",
    "        print(np.min(values_history))\n",
    "    print('Finished...')"
   ]
  },
  {
   "cell_type": "markdown",
   "metadata": {},
   "source": [
    "### Convergence plots"
   ]
  },
  {
   "cell_type": "code",
   "execution_count": 197,
   "metadata": {},
   "outputs": [
    {
     "data": {
      "application/vnd.jupyter.widget-view+json": {
       "model_id": "0da3df70b5ec404fa46f8c5689c774d3",
       "version_major": 2,
       "version_minor": 0
      },
      "text/plain": [
       "HBox(children=(FloatProgress(value=0.0, max=300.0), HTML(value='')))"
      ]
     },
     "metadata": {},
     "output_type": "display_data"
    },
    {
     "name": "stdout",
     "output_type": "stream",
     "text": [
      "\n",
      "Conjugate gradient converged on iteration 299\n"
     ]
    },
    {
     "data": {
      "application/vnd.jupyter.widget-view+json": {
       "model_id": "689cb5c1e82f488880a527b884c2566d",
       "version_major": 2,
       "version_minor": 0
      },
      "text/plain": [
       "HBox(children=(FloatProgress(value=0.0, max=300.0), HTML(value='')))"
      ]
     },
     "metadata": {},
     "output_type": "display_data"
    },
    {
     "name": "stdout",
     "output_type": "stream",
     "text": [
      "\n",
      "Conjugate gradient converged on iteration 299\n"
     ]
    },
    {
     "data": {
      "application/vnd.jupyter.widget-view+json": {
       "model_id": "c2980c1073344f74bc4d96b4557b6823",
       "version_major": 2,
       "version_minor": 0
      },
      "text/plain": [
       "HBox(children=(FloatProgress(value=0.0, max=300.0), HTML(value='')))"
      ]
     },
     "metadata": {},
     "output_type": "display_data"
    },
    {
     "name": "stdout",
     "output_type": "stream",
     "text": [
      "\n",
      "Conjugate gradient converged on iteration 299\n"
     ]
    }
   ],
   "source": [
    "x_history_no_3, values_history_no_3, times_history_no_3 = ConjugateGradient().optimize(fs[0], x0s[0], iterations=300, verbose=True)\n",
    "x_history_no_10, values_history_no_10, times_history_no_10 = ConjugateGradient().optimize(fs[1], x0s[1], iterations=300, verbose=True)\n",
    "x_history_no_100, values_history_no_100, times_history_no_100 = ConjugateGradient().optimize(fs[2], x0s[2], iterations=300, verbose=True)"
   ]
  },
  {
   "cell_type": "code",
   "execution_count": 198,
   "metadata": {},
   "outputs": [
    {
     "data": {
      "image/png": "[encoded data removed]",
      "text/plain": [
       "<Figure size 1080x504 with 2 Axes>"
      ]
     },
     "metadata": {
      "needs_background": "light"
     },
     "output_type": "display_data"
    }
   ],
   "source": [
    "# to get second norm of g we can just take square root of f \n",
    "draw_plots([np.sqrt(values_history_no_3), np.sqrt(values_history_no_10), np.sqrt(values_history_no_100)],\n",
    "          [times_history_no_3, times_history_no_10, times_history_no_100],\n",
    "          ['CG, Fletcher-Reeves size=3', 'CG, Fletcher-Reeves size=10', 'CG, Fletcher-Reeves size=100'])"
   ]
  },
  {
   "cell_type": "markdown",
   "metadata": {},
   "source": [
    "## Convergence area analysis"
   ]
  },
  {
   "cell_type": "code",
   "execution_count": 200,
   "metadata": {
    "scrolled": true
   },
   "outputs": [
    {
     "data": {
      "application/vnd.jupyter.widget-view+json": {
       "model_id": "1e00e7468de14c3a868553772156f893",
       "version_major": 2,
       "version_minor": 0
      },
      "text/plain": [
       "HBox(children=(FloatProgress(value=0.0, max=1000.0), HTML(value='')))"
      ]
     },
     "metadata": {},
     "output_type": "display_data"
    },
    {
     "name": "stderr",
     "output_type": "stream",
     "text": [
      "/Users/dragonstone/opt/anaconda3/lib/python3.7/site-packages/ipykernel_launcher.py:13: RuntimeWarning: overflow encountered in double_scalars\n",
      "  del sys.path[0]\n",
      "/Users/dragonstone/opt/anaconda3/lib/python3.7/site-packages/ipykernel_launcher.py:8: RuntimeWarning: overflow encountered in square\n",
      "  \n",
      "/Users/dragonstone/opt/anaconda3/lib/python3.7/site-packages/ipykernel_launcher.py:15: RuntimeWarning: overflow encountered in matmul\n",
      "  from ipykernel import kernelapp as app\n",
      "/Users/dragonstone/opt/anaconda3/lib/python3.7/site-packages/ipykernel_launcher.py:66: RuntimeWarning: invalid value encountered in add\n",
      "/Users/dragonstone/opt/anaconda3/lib/python3.7/site-packages/ipykernel_launcher.py:58: RuntimeWarning: overflow encountered in matmul\n",
      "/Users/dragonstone/opt/anaconda3/lib/python3.7/site-packages/ipykernel_launcher.py:33: RuntimeWarning: invalid value encountered in multiply\n",
      "/Users/dragonstone/opt/anaconda3/lib/python3.7/site-packages/ipykernel_launcher.py:21: RuntimeWarning: invalid value encountered in multiply\n",
      "/Users/dragonstone/opt/anaconda3/lib/python3.7/site-packages/ipykernel_launcher.py:15: RuntimeWarning: invalid value encountered in matmul\n",
      "  from ipykernel import kernelapp as app\n",
      "/Users/dragonstone/opt/anaconda3/lib/python3.7/site-packages/ipykernel_launcher.py:55: RuntimeWarning: overflow encountered in matmul\n",
      "/Users/dragonstone/opt/anaconda3/lib/python3.7/site-packages/ipykernel_launcher.py:13: RuntimeWarning: overflow encountered in multiply\n",
      "  del sys.path[0]\n",
      "/Users/dragonstone/opt/anaconda3/lib/python3.7/site-packages/ipykernel_launcher.py:27: RuntimeWarning: overflow encountered in multiply\n",
      "/Users/dragonstone/opt/anaconda3/lib/python3.7/site-packages/ipykernel_launcher.py:30: RuntimeWarning: overflow encountered in double_scalars\n",
      "/Users/dragonstone/opt/anaconda3/lib/python3.7/site-packages/ipykernel_launcher.py:32: RuntimeWarning: overflow encountered in double_scalars\n",
      "/Users/dragonstone/opt/anaconda3/lib/python3.7/site-packages/ipykernel_launcher.py:13: RuntimeWarning: invalid value encountered in double_scalars\n",
      "  del sys.path[0]\n",
      "/Users/dragonstone/opt/anaconda3/lib/python3.7/site-packages/ipykernel_launcher.py:27: RuntimeWarning: invalid value encountered in double_scalars\n",
      "/Users/dragonstone/opt/anaconda3/lib/python3.7/site-packages/ipykernel_launcher.py:34: RuntimeWarning: invalid value encountered in add\n"
     ]
    },
    {
     "name": "stdout",
     "output_type": "stream",
     "text": [
      "\n"
     ]
    }
   ],
   "source": [
    "points_3, successes_3 = check_convergence_region(ConjugateGradient().optimize, fs[0], x0s[0],\n",
    "                                                 1000, size=1000)"
   ]
  },
  {
   "cell_type": "code",
   "execution_count": 201,
   "metadata": {
    "scrolled": true
   },
   "outputs": [
    {
     "data": {
      "application/vnd.jupyter.widget-view+json": {
       "model_id": "be6f6a144cef44c2a1d2f146a2bd8c92",
       "version_major": 2,
       "version_minor": 0
      },
      "text/plain": [
       "HBox(children=(FloatProgress(value=0.0, max=1000.0), HTML(value='')))"
      ]
     },
     "metadata": {},
     "output_type": "display_data"
    },
    {
     "name": "stderr",
     "output_type": "stream",
     "text": [
      "/Users/dragonstone/opt/anaconda3/lib/python3.7/site-packages/ipykernel_launcher.py:8: RuntimeWarning: overflow encountered in square\n",
      "  \n",
      "/Users/dragonstone/opt/anaconda3/lib/python3.7/site-packages/ipykernel_launcher.py:58: RuntimeWarning: overflow encountered in matmul\n",
      "/Users/dragonstone/opt/anaconda3/lib/python3.7/site-packages/ipykernel_launcher.py:33: RuntimeWarning: invalid value encountered in multiply\n",
      "/Users/dragonstone/opt/anaconda3/lib/python3.7/site-packages/ipykernel_launcher.py:13: RuntimeWarning: invalid value encountered in double_scalars\n",
      "  del sys.path[0]\n",
      "/Users/dragonstone/opt/anaconda3/lib/python3.7/site-packages/ipykernel_launcher.py:21: RuntimeWarning: invalid value encountered in multiply\n",
      "/Users/dragonstone/opt/anaconda3/lib/python3.7/site-packages/ipykernel_launcher.py:32: RuntimeWarning: invalid value encountered in double_scalars\n",
      "/Users/dragonstone/opt/anaconda3/lib/python3.7/site-packages/ipykernel_launcher.py:27: RuntimeWarning: invalid value encountered in double_scalars\n",
      "/Users/dragonstone/opt/anaconda3/lib/python3.7/site-packages/ipykernel_launcher.py:34: RuntimeWarning: invalid value encountered in add\n",
      "/Users/dragonstone/opt/anaconda3/lib/python3.7/site-packages/ipykernel_launcher.py:55: RuntimeWarning: overflow encountered in matmul\n",
      "/Users/dragonstone/opt/anaconda3/lib/python3.7/site-packages/ipykernel_launcher.py:15: RuntimeWarning: overflow encountered in matmul\n",
      "  from ipykernel import kernelapp as app\n",
      "/Users/dragonstone/opt/anaconda3/lib/python3.7/site-packages/ipykernel_launcher.py:15: RuntimeWarning: invalid value encountered in matmul\n",
      "  from ipykernel import kernelapp as app\n",
      "/Users/dragonstone/opt/anaconda3/lib/python3.7/site-packages/ipykernel_launcher.py:66: RuntimeWarning: invalid value encountered in add\n",
      "/Users/dragonstone/opt/anaconda3/lib/python3.7/site-packages/ipykernel_launcher.py:13: RuntimeWarning: overflow encountered in multiply\n",
      "  del sys.path[0]\n",
      "/Users/dragonstone/opt/anaconda3/lib/python3.7/site-packages/ipykernel_launcher.py:13: RuntimeWarning: overflow encountered in double_scalars\n",
      "  del sys.path[0]\n",
      "/Users/dragonstone/opt/anaconda3/lib/python3.7/site-packages/ipykernel_launcher.py:27: RuntimeWarning: overflow encountered in multiply\n",
      "/Users/dragonstone/opt/anaconda3/lib/python3.7/site-packages/ipykernel_launcher.py:30: RuntimeWarning: overflow encountered in double_scalars\n",
      "/Users/dragonstone/opt/anaconda3/lib/python3.7/site-packages/ipykernel_launcher.py:32: RuntimeWarning: overflow encountered in double_scalars\n"
     ]
    },
    {
     "name": "stdout",
     "output_type": "stream",
     "text": [
      "\n"
     ]
    }
   ],
   "source": [
    "points_10, successes_10 = check_convergence_region(ConjugateGradient().optimize, fs[1], x0s[1],\n",
    "                                                   100, size=1000)\n"
   ]
  },
  {
   "cell_type": "code",
   "execution_count": 202,
   "metadata": {},
   "outputs": [
    {
     "data": {
      "application/vnd.jupyter.widget-view+json": {
       "model_id": "a099e63b08ec46978af37447093f3d0e",
       "version_major": 2,
       "version_minor": 0
      },
      "text/plain": [
       "HBox(children=(FloatProgress(value=0.0), HTML(value='')))"
      ]
     },
     "metadata": {},
     "output_type": "display_data"
    },
    {
     "name": "stdout",
     "output_type": "stream",
     "text": [
      "\n"
     ]
    }
   ],
   "source": [
    "points_100, successes_100 = check_convergence_region(ConjugateGradient().optimize, fs[2], x0s[2],\n",
    "                                                   1, size=100)"
   ]
  },
  {
   "cell_type": "code",
   "execution_count": 203,
   "metadata": {},
   "outputs": [
    {
     "name": "stdout",
     "output_type": "stream",
     "text": [
      "size=3, sigma=1000,  trials=1000, positive: 0.007,  negative: 0.993 \n",
      "size=10, sigma=100,  trials=1000, positive: 0.0, negative: 1.0 \n",
      "size=100, sigma=1,   trials=100,  positive: 0.0, negative: 1.0 \n"
     ]
    }
   ],
   "source": [
    "print(f'size=3, sigma=1000,  trials=1000, positive: {(np.array(successes_3) == 1).sum() / 1000},  negative: {(np.array(successes_3) == 0).sum() / 1000} ')\n",
    "print(f'size=10, sigma=100,  trials=1000, positive: {(np.array(successes_10) == 1).sum() / 1000}, negative: {(np.array(successes_10) == 0).sum() / 1000} ')\n",
    "print(f'size=100, sigma=1,   trials=100,  positive: {(np.array(successes_100) == 1).sum() / 100}, negative: {(np.array(successes_100) == 0).sum() / 100} ')"
   ]
  },
  {
   "cell_type": "code",
   "execution_count": 204,
   "metadata": {},
   "outputs": [
    {
     "data": {
      "application/vnd.jupyter.widget-view+json": {
       "model_id": "4fb772447a6d4f0993fe1700b4dd015d",
       "version_major": 2,
       "version_minor": 0
      },
      "text/plain": [
       "HBox(children=(FloatProgress(value=0.0, max=1000.0), HTML(value='')))"
      ]
     },
     "metadata": {},
     "output_type": "display_data"
    },
    {
     "name": "stderr",
     "output_type": "stream",
     "text": [
      "/Users/dragonstone/opt/anaconda3/lib/python3.7/site-packages/ipykernel_launcher.py:8: RuntimeWarning: overflow encountered in square\n",
      "  \n",
      "/Users/dragonstone/opt/anaconda3/lib/python3.7/site-packages/ipykernel_launcher.py:15: RuntimeWarning: overflow encountered in matmul\n",
      "  from ipykernel import kernelapp as app\n",
      "/Users/dragonstone/opt/anaconda3/lib/python3.7/site-packages/ipykernel_launcher.py:66: RuntimeWarning: invalid value encountered in add\n",
      "/Users/dragonstone/opt/anaconda3/lib/python3.7/site-packages/ipykernel_launcher.py:13: RuntimeWarning: overflow encountered in multiply\n",
      "  del sys.path[0]\n",
      "/Users/dragonstone/opt/anaconda3/lib/python3.7/site-packages/ipykernel_launcher.py:13: RuntimeWarning: overflow encountered in double_scalars\n",
      "  del sys.path[0]\n",
      "/Users/dragonstone/opt/anaconda3/lib/python3.7/site-packages/ipykernel_launcher.py:27: RuntimeWarning: overflow encountered in multiply\n",
      "/Users/dragonstone/opt/anaconda3/lib/python3.7/site-packages/ipykernel_launcher.py:30: RuntimeWarning: overflow encountered in double_scalars\n",
      "/Users/dragonstone/opt/anaconda3/lib/python3.7/site-packages/ipykernel_launcher.py:32: RuntimeWarning: overflow encountered in double_scalars\n",
      "/Users/dragonstone/opt/anaconda3/lib/python3.7/site-packages/ipykernel_launcher.py:15: RuntimeWarning: invalid value encountered in matmul\n",
      "  from ipykernel import kernelapp as app\n",
      "/Users/dragonstone/opt/anaconda3/lib/python3.7/site-packages/ipykernel_launcher.py:58: RuntimeWarning: overflow encountered in matmul\n",
      "/Users/dragonstone/opt/anaconda3/lib/python3.7/site-packages/ipykernel_launcher.py:33: RuntimeWarning: invalid value encountered in multiply\n",
      "/Users/dragonstone/opt/anaconda3/lib/python3.7/site-packages/ipykernel_launcher.py:21: RuntimeWarning: invalid value encountered in multiply\n",
      "/Users/dragonstone/opt/anaconda3/lib/python3.7/site-packages/ipykernel_launcher.py:55: RuntimeWarning: overflow encountered in matmul\n",
      "/Users/dragonstone/opt/anaconda3/lib/python3.7/site-packages/ipykernel_launcher.py:13: RuntimeWarning: invalid value encountered in double_scalars\n",
      "  del sys.path[0]\n",
      "/Users/dragonstone/opt/anaconda3/lib/python3.7/site-packages/ipykernel_launcher.py:27: RuntimeWarning: invalid value encountered in double_scalars\n",
      "/Users/dragonstone/opt/anaconda3/lib/python3.7/site-packages/ipykernel_launcher.py:34: RuntimeWarning: invalid value encountered in add\n"
     ]
    },
    {
     "name": "stdout",
     "output_type": "stream",
     "text": [
      "\n"
     ]
    }
   ],
   "source": [
    "points_3, successes_3 = check_convergence_region(ConjugateGradient().optimize, fs[0], x0s[0],\n",
    "                                                 100, size=1000)"
   ]
  },
  {
   "cell_type": "code",
   "execution_count": 208,
   "metadata": {},
   "outputs": [
    {
     "data": {
      "application/vnd.jupyter.widget-view+json": {
       "model_id": "b595833dbfc243578364ce88b8409e89",
       "version_major": 2,
       "version_minor": 0
      },
      "text/plain": [
       "HBox(children=(FloatProgress(value=0.0, max=1000.0), HTML(value='')))"
      ]
     },
     "metadata": {},
     "output_type": "display_data"
    },
    {
     "name": "stdout",
     "output_type": "stream",
     "text": [
      "\n"
     ]
    }
   ],
   "source": [
    "points_10, successes_10 = check_convergence_region(ConjugateGradient().optimize, fs[1], x0s[1],\n",
    "                                                   1e-1, size=1000)"
   ]
  },
  {
   "cell_type": "code",
   "execution_count": 209,
   "metadata": {},
   "outputs": [
    {
     "data": {
      "application/vnd.jupyter.widget-view+json": {
       "model_id": "bf4a192e9cfd4eb9a4a78e072faeb7a3",
       "version_major": 2,
       "version_minor": 0
      },
      "text/plain": [
       "HBox(children=(FloatProgress(value=0.0), HTML(value='')))"
      ]
     },
     "metadata": {},
     "output_type": "display_data"
    },
    {
     "name": "stdout",
     "output_type": "stream",
     "text": [
      "\n"
     ]
    }
   ],
   "source": [
    "points_100, successes_100 = check_convergence_region(ConjugateGradient().optimize, fs[2], x0s[2],\n",
    "                                                   1e-3, size=100)"
   ]
  },
  {
   "cell_type": "code",
   "execution_count": 211,
   "metadata": {},
   "outputs": [
    {
     "name": "stdout",
     "output_type": "stream",
     "text": [
      "size=3, sigma=1000,  trials=1000, positive: 0.042,  negative: 0.958 \n",
      "size=10, sigma=1e-1,  trials=1000, positive: 0.0, negative: 1.0 \n",
      "size=100, sigma=1e-3,   trials=100,  positive: 0.0, negative: 1.0 \n"
     ]
    }
   ],
   "source": [
    "print(f'size=3, sigma=1000,  trials=1000, positive: {(np.array(successes_3) == 1).sum() / 1000},  negative: {(np.array(successes_3) == 0).sum() / 1000} ')\n",
    "print(f'size=10, sigma=1e-1,  trials=1000, positive: {(np.array(successes_10) == 1).sum() / 1000}, negative: {(np.array(successes_10) == 0).sum() / 1000} ')\n",
    "print(f'size=100, sigma=1e-3,   trials=100,  positive: {(np.array(successes_100) == 1).sum() / 100}, negative: {(np.array(successes_100) == 0).sum() / 100} ')"
   ]
  },
  {
   "cell_type": "markdown",
   "metadata": {},
   "source": [
    "## Conjugated Gradients: Polyak-Ribiere"
   ]
  },
  {
   "cell_type": "code",
   "execution_count": 216,
   "metadata": {},
   "outputs": [],
   "source": [
    "MAX_POINTS = 20"
   ]
  },
  {
   "cell_type": "code",
   "execution_count": 223,
   "metadata": {},
   "outputs": [
    {
     "name": "stdout",
     "output_type": "stream",
     "text": [
      "Started...\n",
      "0.0\n",
      "Finished...\n",
      "Started...\n",
      "6.389712322056136e-09\n",
      "Finished...\n",
      "Started...\n",
      "2.1023450130176068e-09\n",
      "Finished...\n"
     ]
    }
   ],
   "source": [
    "x0s = []\n",
    "for i in range(3):\n",
    "    not_converged = True\n",
    "    print('Started...')\n",
    "    f = fs[i]\n",
    "    g = gs[i]\n",
    "    \n",
    "    considered_dots = 0\n",
    "    x0 = np.zeros(g._c.shape[0] + 1)\n",
    "    x0s.append(x0)\n",
    "    while(not_converged and considered_dots < MAX_POINTS):\n",
    "        if SYSTEM_SIZES[i] == 10:\n",
    "            point = np.random.normal(x0, np.ones(x0.shape[0]) * 1e-3)\n",
    "        elif SYSTEM_SIZES[i] == 3:\n",
    "            point = np.random.normal(x0, np.ones(x0.shape[0]))\n",
    "        elif SYSTEM_SIZES[i] == 100:\n",
    "            point = np.random.normal(x0, np.ones(x0.shape[0]) * 1e-3)\n",
    "        point = good_x0s[i] + point\n",
    "        x_history, values_history, times_history = ConjugateGradient().optimize(f, point, iterations=300,  method='polak-ribiere')\n",
    "        if np.sqrt(np.min(values_history)) < 1e-3 * 1 / np.sqrt(x0.shape[0]):\n",
    "            not_converged = False\n",
    "            x0s[-1] = point\n",
    "            \n",
    "        if np.min(values_history) < f.forward(x0s[-1]):\n",
    "            x0s[-1] = point\n",
    "            \n",
    "        considered_dots += 1\n",
    "        print(np.min(values_history))\n",
    "    print('Finished...')"
   ]
  },
  {
   "cell_type": "markdown",
   "metadata": {},
   "source": [
    "### Convergence plots"
   ]
  },
  {
   "cell_type": "code",
   "execution_count": 224,
   "metadata": {},
   "outputs": [
    {
     "data": {
      "application/vnd.jupyter.widget-view+json": {
       "model_id": "97fa98afbcbd46b09c1701ef472f59bc",
       "version_major": 2,
       "version_minor": 0
      },
      "text/plain": [
       "HBox(children=(FloatProgress(value=0.0, max=300.0), HTML(value='')))"
      ]
     },
     "metadata": {},
     "output_type": "display_data"
    },
    {
     "name": "stdout",
     "output_type": "stream",
     "text": [
      "\n",
      "Conjugate gradient converged on iteration 299\n"
     ]
    },
    {
     "data": {
      "application/vnd.jupyter.widget-view+json": {
       "model_id": "1a14073bb1d34f16ae2ccb2710b955c8",
       "version_major": 2,
       "version_minor": 0
      },
      "text/plain": [
       "HBox(children=(FloatProgress(value=0.0, max=300.0), HTML(value='')))"
      ]
     },
     "metadata": {},
     "output_type": "display_data"
    },
    {
     "name": "stdout",
     "output_type": "stream",
     "text": [
      "\n",
      "Conjugate gradient converged on iteration 299\n"
     ]
    },
    {
     "data": {
      "application/vnd.jupyter.widget-view+json": {
       "model_id": "bdbf33b32b7646a69f76a7b07b60019f",
       "version_major": 2,
       "version_minor": 0
      },
      "text/plain": [
       "HBox(children=(FloatProgress(value=0.0, max=300.0), HTML(value='')))"
      ]
     },
     "metadata": {},
     "output_type": "display_data"
    },
    {
     "name": "stdout",
     "output_type": "stream",
     "text": [
      "\n",
      "Conjugate gradient converged on iteration 299\n"
     ]
    }
   ],
   "source": [
    "x_history_no_3, values_history_no_3, times_history_no_3 = ConjugateGradient().optimize(fs[0], x0s[0], iterations=300, verbose=True, method='polak-ribiere')\n",
    "x_history_no_10, values_history_no_10, times_history_no_10 = ConjugateGradient().optimize(fs[1], x0s[1], iterations=300, verbose=True, method='polak-ribiere')\n",
    "x_history_no_100, values_history_no_100, times_history_no_100 = ConjugateGradient().optimize(fs[2], x0s[2], iterations=300, verbose=True, method='polak-ribiere')\n"
   ]
  },
  {
   "cell_type": "code",
   "execution_count": 227,
   "metadata": {},
   "outputs": [
    {
     "data": {
      "image/png": "[encoded data removed]",
      "text/plain": [
       "<Figure size 1080x504 with 2 Axes>"
      ]
     },
     "metadata": {
      "needs_background": "light"
     },
     "output_type": "display_data"
    }
   ],
   "source": [
    "draw_plots([np.sqrt(values_history_no_3), np.sqrt(values_history_no_10), np.sqrt(values_history_no_100)],\n",
    "          [times_history_no_3, times_history_no_10, times_history_no_100],\n",
    "          ['CG, Fletcher-Reeves size=3', 'CG, Fletcher-Reeves size=10', 'CG, Fletcher-Reeves size=100'])"
   ]
  },
  {
   "cell_type": "markdown",
   "metadata": {},
   "source": [
    "## Convergence area analysis"
   ]
  },
  {
   "cell_type": "code",
   "execution_count": 228,
   "metadata": {},
   "outputs": [],
   "source": [
    "from functools import partial"
   ]
  },
  {
   "cell_type": "code",
   "execution_count": 229,
   "metadata": {
    "scrolled": true
   },
   "outputs": [
    {
     "data": {
      "application/vnd.jupyter.widget-view+json": {
       "model_id": "42c80da63e374e70a950ab696e87f83c",
       "version_major": 2,
       "version_minor": 0
      },
      "text/plain": [
       "HBox(children=(FloatProgress(value=0.0, max=1000.0), HTML(value='')))"
      ]
     },
     "metadata": {},
     "output_type": "display_data"
    },
    {
     "name": "stderr",
     "output_type": "stream",
     "text": [
      "/Users/dragonstone/opt/anaconda3/lib/python3.7/site-packages/ipykernel_launcher.py:13: RuntimeWarning: overflow encountered in double_scalars\n",
      "  del sys.path[0]\n",
      "/Users/dragonstone/opt/anaconda3/lib/python3.7/site-packages/ipykernel_launcher.py:8: RuntimeWarning: overflow encountered in square\n",
      "  \n",
      "/Users/dragonstone/opt/anaconda3/lib/python3.7/site-packages/ipykernel_launcher.py:15: RuntimeWarning: overflow encountered in matmul\n",
      "  from ipykernel import kernelapp as app\n",
      "/Users/dragonstone/opt/anaconda3/lib/python3.7/site-packages/ipykernel_launcher.py:66: RuntimeWarning: invalid value encountered in add\n",
      "/Users/dragonstone/opt/anaconda3/lib/python3.7/site-packages/ipykernel_launcher.py:63: RuntimeWarning: overflow encountered in matmul\n",
      "/Users/dragonstone/opt/anaconda3/lib/python3.7/site-packages/ipykernel_launcher.py:33: RuntimeWarning: invalid value encountered in multiply\n",
      "/Users/dragonstone/opt/anaconda3/lib/python3.7/site-packages/ipykernel_launcher.py:21: RuntimeWarning: invalid value encountered in multiply\n",
      "/Users/dragonstone/opt/anaconda3/lib/python3.7/site-packages/ipykernel_launcher.py:60: RuntimeWarning: overflow encountered in matmul\n",
      "/Users/dragonstone/opt/anaconda3/lib/python3.7/site-packages/ipykernel_launcher.py:13: RuntimeWarning: invalid value encountered in double_scalars\n",
      "  del sys.path[0]\n",
      "/Users/dragonstone/opt/anaconda3/lib/python3.7/site-packages/ipykernel_launcher.py:27: RuntimeWarning: invalid value encountered in double_scalars\n",
      "/Users/dragonstone/opt/anaconda3/lib/python3.7/site-packages/ipykernel_launcher.py:34: RuntimeWarning: invalid value encountered in add\n",
      "/Users/dragonstone/opt/anaconda3/lib/python3.7/site-packages/ipykernel_launcher.py:15: RuntimeWarning: invalid value encountered in matmul\n",
      "  from ipykernel import kernelapp as app\n",
      "/Users/dragonstone/opt/anaconda3/lib/python3.7/site-packages/ipykernel_launcher.py:13: RuntimeWarning: overflow encountered in multiply\n",
      "  del sys.path[0]\n",
      "/Users/dragonstone/opt/anaconda3/lib/python3.7/site-packages/ipykernel_launcher.py:27: RuntimeWarning: overflow encountered in multiply\n",
      "/Users/dragonstone/opt/anaconda3/lib/python3.7/site-packages/ipykernel_launcher.py:30: RuntimeWarning: overflow encountered in double_scalars\n",
      "/Users/dragonstone/opt/anaconda3/lib/python3.7/site-packages/ipykernel_launcher.py:32: RuntimeWarning: overflow encountered in double_scalars\n"
     ]
    },
    {
     "name": "stdout",
     "output_type": "stream",
     "text": [
      "\n"
     ]
    }
   ],
   "source": [
    "points_3, successes_3 = check_convergence_region(partial(ConjugateGradient().optimize, method='polak-ribiere'),\n",
    "                                                 fs[0], x0s[0],\n",
    "                                                 1000, size=1000)"
   ]
  },
  {
   "cell_type": "code",
   "execution_count": 230,
   "metadata": {
    "scrolled": true
   },
   "outputs": [
    {
     "data": {
      "application/vnd.jupyter.widget-view+json": {
       "model_id": "d8f2e84406cf46f085213d13c451a38a",
       "version_major": 2,
       "version_minor": 0
      },
      "text/plain": [
       "HBox(children=(FloatProgress(value=0.0, max=1000.0), HTML(value='')))"
      ]
     },
     "metadata": {},
     "output_type": "display_data"
    },
    {
     "name": "stderr",
     "output_type": "stream",
     "text": [
      "/Users/dragonstone/opt/anaconda3/lib/python3.7/site-packages/ipykernel_launcher.py:8: RuntimeWarning: overflow encountered in square\n",
      "  \n",
      "/Users/dragonstone/opt/anaconda3/lib/python3.7/site-packages/ipykernel_launcher.py:15: RuntimeWarning: overflow encountered in matmul\n",
      "  from ipykernel import kernelapp as app\n",
      "/Users/dragonstone/opt/anaconda3/lib/python3.7/site-packages/ipykernel_launcher.py:15: RuntimeWarning: invalid value encountered in matmul\n",
      "  from ipykernel import kernelapp as app\n",
      "/Users/dragonstone/opt/anaconda3/lib/python3.7/site-packages/ipykernel_launcher.py:13: RuntimeWarning: overflow encountered in double_scalars\n",
      "  del sys.path[0]\n",
      "/Users/dragonstone/opt/anaconda3/lib/python3.7/site-packages/ipykernel_launcher.py:63: RuntimeWarning: overflow encountered in matmul\n",
      "/Users/dragonstone/opt/anaconda3/lib/python3.7/site-packages/ipykernel_launcher.py:33: RuntimeWarning: invalid value encountered in multiply\n",
      "/Users/dragonstone/opt/anaconda3/lib/python3.7/site-packages/ipykernel_launcher.py:13: RuntimeWarning: invalid value encountered in double_scalars\n",
      "  del sys.path[0]\n",
      "/Users/dragonstone/opt/anaconda3/lib/python3.7/site-packages/ipykernel_launcher.py:21: RuntimeWarning: invalid value encountered in multiply\n",
      "/Users/dragonstone/opt/anaconda3/lib/python3.7/site-packages/ipykernel_launcher.py:27: RuntimeWarning: invalid value encountered in double_scalars\n",
      "/Users/dragonstone/opt/anaconda3/lib/python3.7/site-packages/ipykernel_launcher.py:34: RuntimeWarning: invalid value encountered in add\n",
      "/Users/dragonstone/opt/anaconda3/lib/python3.7/site-packages/ipykernel_launcher.py:60: RuntimeWarning: overflow encountered in matmul\n",
      "/Users/dragonstone/opt/anaconda3/lib/python3.7/site-packages/ipykernel_launcher.py:66: RuntimeWarning: invalid value encountered in add\n",
      "/Users/dragonstone/opt/anaconda3/lib/python3.7/site-packages/ipykernel_launcher.py:13: RuntimeWarning: overflow encountered in multiply\n",
      "  del sys.path[0]\n",
      "/Users/dragonstone/opt/anaconda3/lib/python3.7/site-packages/ipykernel_launcher.py:27: RuntimeWarning: overflow encountered in multiply\n",
      "/Users/dragonstone/opt/anaconda3/lib/python3.7/site-packages/ipykernel_launcher.py:30: RuntimeWarning: overflow encountered in double_scalars\n",
      "/Users/dragonstone/opt/anaconda3/lib/python3.7/site-packages/ipykernel_launcher.py:32: RuntimeWarning: overflow encountered in double_scalars\n",
      "/Users/dragonstone/opt/anaconda3/lib/python3.7/site-packages/ipykernel_launcher.py:32: RuntimeWarning: invalid value encountered in double_scalars\n"
     ]
    },
    {
     "name": "stdout",
     "output_type": "stream",
     "text": [
      "\n"
     ]
    }
   ],
   "source": [
    "points_10, successes_10 = check_convergence_region(partial(ConjugateGradient().optimize, method='polak-ribiere'), fs[1], x0s[1],\n",
    "                                                   100, size=1000)\n"
   ]
  },
  {
   "cell_type": "code",
   "execution_count": 231,
   "metadata": {},
   "outputs": [
    {
     "data": {
      "application/vnd.jupyter.widget-view+json": {
       "model_id": "0714435009db4cb3bf922788bf633e31",
       "version_major": 2,
       "version_minor": 0
      },
      "text/plain": [
       "HBox(children=(FloatProgress(value=0.0), HTML(value='')))"
      ]
     },
     "metadata": {},
     "output_type": "display_data"
    },
    {
     "name": "stdout",
     "output_type": "stream",
     "text": [
      "\n"
     ]
    }
   ],
   "source": [
    "points_100, successes_100 = check_convergence_region(partial(ConjugateGradient().optimize, method='polak-ribiere'), fs[2], x0s[2],\n",
    "                                                   1, size=100)"
   ]
  },
  {
   "cell_type": "code",
   "execution_count": 232,
   "metadata": {},
   "outputs": [
    {
     "name": "stdout",
     "output_type": "stream",
     "text": [
      "size=3, sigma=1000,  trials=1000, positive: 0.016,  negative: 0.984 \n",
      "size=10, sigma=100,  trials=1000, positive: 0.0, negative: 1.0 \n",
      "size=100, sigma=1,   trials=100,  positive: 0.0, negative: 1.0 \n"
     ]
    }
   ],
   "source": [
    "print(f'size=3, sigma=1000,  trials=1000, positive: {(np.array(successes_3) == 1).sum() / 1000},  negative: {(np.array(successes_3) == 0).sum() / 1000} ')\n",
    "print(f'size=10, sigma=100,  trials=1000, positive: {(np.array(successes_10) == 1).sum() / 1000}, negative: {(np.array(successes_10) == 0).sum() / 1000} ')\n",
    "print(f'size=100, sigma=1,   trials=100,  positive: {(np.array(successes_100) == 1).sum() / 100}, negative: {(np.array(successes_100) == 0).sum() / 100} ')"
   ]
  },
  {
   "cell_type": "code",
   "execution_count": 233,
   "metadata": {},
   "outputs": [
    {
     "data": {
      "application/vnd.jupyter.widget-view+json": {
       "model_id": "fa5289a0b427479e873884bf5be67604",
       "version_major": 2,
       "version_minor": 0
      },
      "text/plain": [
       "HBox(children=(FloatProgress(value=0.0, max=1000.0), HTML(value='')))"
      ]
     },
     "metadata": {},
     "output_type": "display_data"
    },
    {
     "name": "stderr",
     "output_type": "stream",
     "text": [
      "/Users/dragonstone/opt/anaconda3/lib/python3.7/site-packages/ipykernel_launcher.py:8: RuntimeWarning: overflow encountered in square\n",
      "  \n",
      "/Users/dragonstone/opt/anaconda3/lib/python3.7/site-packages/ipykernel_launcher.py:15: RuntimeWarning: overflow encountered in matmul\n",
      "  from ipykernel import kernelapp as app\n",
      "/Users/dragonstone/opt/anaconda3/lib/python3.7/site-packages/ipykernel_launcher.py:66: RuntimeWarning: invalid value encountered in add\n",
      "/Users/dragonstone/opt/anaconda3/lib/python3.7/site-packages/ipykernel_launcher.py:63: RuntimeWarning: overflow encountered in matmul\n",
      "/Users/dragonstone/opt/anaconda3/lib/python3.7/site-packages/ipykernel_launcher.py:33: RuntimeWarning: invalid value encountered in multiply\n",
      "/Users/dragonstone/opt/anaconda3/lib/python3.7/site-packages/ipykernel_launcher.py:13: RuntimeWarning: invalid value encountered in double_scalars\n",
      "  del sys.path[0]\n",
      "/Users/dragonstone/opt/anaconda3/lib/python3.7/site-packages/ipykernel_launcher.py:21: RuntimeWarning: invalid value encountered in multiply\n",
      "/Users/dragonstone/opt/anaconda3/lib/python3.7/site-packages/ipykernel_launcher.py:27: RuntimeWarning: invalid value encountered in double_scalars\n",
      "/Users/dragonstone/opt/anaconda3/lib/python3.7/site-packages/ipykernel_launcher.py:34: RuntimeWarning: invalid value encountered in add\n",
      "/Users/dragonstone/opt/anaconda3/lib/python3.7/site-packages/ipykernel_launcher.py:15: RuntimeWarning: invalid value encountered in matmul\n",
      "  from ipykernel import kernelapp as app\n",
      "/Users/dragonstone/opt/anaconda3/lib/python3.7/site-packages/ipykernel_launcher.py:60: RuntimeWarning: overflow encountered in matmul\n",
      "/Users/dragonstone/opt/anaconda3/lib/python3.7/site-packages/ipykernel_launcher.py:13: RuntimeWarning: overflow encountered in multiply\n",
      "  del sys.path[0]\n",
      "/Users/dragonstone/opt/anaconda3/lib/python3.7/site-packages/ipykernel_launcher.py:13: RuntimeWarning: overflow encountered in double_scalars\n",
      "  del sys.path[0]\n",
      "/Users/dragonstone/opt/anaconda3/lib/python3.7/site-packages/ipykernel_launcher.py:27: RuntimeWarning: overflow encountered in multiply\n",
      "/Users/dragonstone/opt/anaconda3/lib/python3.7/site-packages/ipykernel_launcher.py:30: RuntimeWarning: overflow encountered in double_scalars\n",
      "/Users/dragonstone/opt/anaconda3/lib/python3.7/site-packages/ipykernel_launcher.py:32: RuntimeWarning: overflow encountered in double_scalars\n",
      "/Users/dragonstone/opt/anaconda3/lib/python3.7/site-packages/ipykernel_launcher.py:66: RuntimeWarning: overflow encountered in multiply\n"
     ]
    },
    {
     "name": "stdout",
     "output_type": "stream",
     "text": [
      "\n"
     ]
    }
   ],
   "source": [
    "points_3, successes_3 = check_convergence_region(partial(ConjugateGradient().optimize, method='polak-ribiere'), fs[0], x0s[0],\n",
    "                                                 100, size=1000)"
   ]
  },
  {
   "cell_type": "code",
   "execution_count": 244,
   "metadata": {},
   "outputs": [
    {
     "data": {
      "application/vnd.jupyter.widget-view+json": {
       "model_id": "0887e7158b014fa5bcf82c91b6825668",
       "version_major": 2,
       "version_minor": 0
      },
      "text/plain": [
       "HBox(children=(FloatProgress(value=0.0, max=1000.0), HTML(value='')))"
      ]
     },
     "metadata": {},
     "output_type": "display_data"
    },
    {
     "name": "stderr",
     "output_type": "stream",
     "text": [
      "/Users/dragonstone/opt/anaconda3/lib/python3.7/site-packages/ipykernel_launcher.py:63: RuntimeWarning: overflow encountered in matmul\n",
      "/Users/dragonstone/opt/anaconda3/lib/python3.7/site-packages/ipykernel_launcher.py:33: RuntimeWarning: invalid value encountered in multiply\n",
      "/Users/dragonstone/opt/anaconda3/lib/python3.7/site-packages/ipykernel_launcher.py:13: RuntimeWarning: invalid value encountered in double_scalars\n",
      "  del sys.path[0]\n",
      "/Users/dragonstone/opt/anaconda3/lib/python3.7/site-packages/ipykernel_launcher.py:21: RuntimeWarning: invalid value encountered in multiply\n",
      "/Users/dragonstone/opt/anaconda3/lib/python3.7/site-packages/ipykernel_launcher.py:32: RuntimeWarning: invalid value encountered in double_scalars\n",
      "/Users/dragonstone/opt/anaconda3/lib/python3.7/site-packages/ipykernel_launcher.py:27: RuntimeWarning: invalid value encountered in double_scalars\n",
      "/Users/dragonstone/opt/anaconda3/lib/python3.7/site-packages/ipykernel_launcher.py:60: RuntimeWarning: overflow encountered in matmul\n",
      "/Users/dragonstone/opt/anaconda3/lib/python3.7/site-packages/ipykernel_launcher.py:13: RuntimeWarning: overflow encountered in multiply\n",
      "  del sys.path[0]\n",
      "/Users/dragonstone/opt/anaconda3/lib/python3.7/site-packages/ipykernel_launcher.py:13: RuntimeWarning: overflow encountered in double_scalars\n",
      "  del sys.path[0]\n",
      "/Users/dragonstone/opt/anaconda3/lib/python3.7/site-packages/ipykernel_launcher.py:8: RuntimeWarning: overflow encountered in square\n",
      "  \n",
      "/Users/dragonstone/opt/anaconda3/lib/python3.7/site-packages/ipykernel_launcher.py:27: RuntimeWarning: overflow encountered in multiply\n",
      "/Users/dragonstone/opt/anaconda3/lib/python3.7/site-packages/ipykernel_launcher.py:30: RuntimeWarning: overflow encountered in double_scalars\n",
      "/Users/dragonstone/opt/anaconda3/lib/python3.7/site-packages/ipykernel_launcher.py:32: RuntimeWarning: overflow encountered in double_scalars\n",
      "/Users/dragonstone/opt/anaconda3/lib/python3.7/site-packages/ipykernel_launcher.py:15: RuntimeWarning: invalid value encountered in matmul\n",
      "  from ipykernel import kernelapp as app\n"
     ]
    },
    {
     "name": "stdout",
     "output_type": "stream",
     "text": [
      "\n"
     ]
    }
   ],
   "source": [
    "points_10, successes_10 = check_convergence_region(partial(ConjugateGradient().optimize, method='polak-ribiere'), fs[1], x0s[1],\n",
    "                                                   5e-3, size=1000)"
   ]
  },
  {
   "cell_type": "code",
   "execution_count": 245,
   "metadata": {},
   "outputs": [
    {
     "data": {
      "application/vnd.jupyter.widget-view+json": {
       "model_id": "ce2070d48763445c913ae0665e1f8176",
       "version_major": 2,
       "version_minor": 0
      },
      "text/plain": [
       "HBox(children=(FloatProgress(value=0.0), HTML(value='')))"
      ]
     },
     "metadata": {},
     "output_type": "display_data"
    },
    {
     "name": "stdout",
     "output_type": "stream",
     "text": [
      "\n"
     ]
    }
   ],
   "source": [
    "points_100, successes_100 = check_convergence_region(partial(ConjugateGradient().optimize, method='polak-ribiere'), fs[2], x0s[2],\n",
    "                                                   1e-6, size=100)"
   ]
  },
  {
   "cell_type": "code",
   "execution_count": 246,
   "metadata": {},
   "outputs": [
    {
     "name": "stdout",
     "output_type": "stream",
     "text": [
      "size=3, sigma=1000,  trials=1000, positive: 0.345,  negative: 0.655 \n",
      "size=10, sigma=5e-3,  trials=1000, positive: 0.163, negative: 0.837 \n",
      "size=100, sigma=1e-6,   trials=100,  positive: 0.0, negative: 1.0 \n"
     ]
    }
   ],
   "source": [
    "print(f'size=3, sigma=1000,  trials=1000, positive: {(np.array(successes_3) == 1).sum() / 1000},  negative: {(np.array(successes_3) == 0).sum() / 1000} ')\n",
    "print(f'size=10, sigma=5e-3,  trials=1000, positive: {(np.array(successes_10) == 1).sum() / 1000}, negative: {(np.array(successes_10) == 0).sum() / 1000} ')\n",
    "print(f'size=100, sigma=1e-6,   trials=100,  positive: {(np.array(successes_100) == 1).sum() / 100}, negative: {(np.array(successes_100) == 0).sum() / 100} ')"
   ]
  },
  {
   "cell_type": "markdown",
   "metadata": {},
   "source": [
    "# Accelerated Residuals"
   ]
  },
  {
   "cell_type": "code",
   "execution_count": 265,
   "metadata": {},
   "outputs": [],
   "source": [
    "class AcceleratedResiduals():\n",
    "    def __init__(self):\n",
    "        pass\n",
    "    \n",
    "    def optimize(self, equation, x0=None, alpha=0.1, iterations=50, verbose=False, n=1, tol=1e-3 / np.sqrt(2), line_search_iter=100):\n",
    "        # random guess\n",
    "        if x0 is None:\n",
    "            u = np.random.rand(function.A.shape[1])\n",
    "        else: \n",
    "            u = x0\n",
    "\n",
    "        # initialize starting time\n",
    "        start = time()\n",
    "        # save the history of iterations for plotting and analysis\n",
    "        u_history = [u]\n",
    "        values_history = [np.linalg.norm(equation.forward(u))]\n",
    "        times_history = [0]\n",
    "        \n",
    "        if verbose:\n",
    "            pbar = tqdm(total=iterations)\n",
    "        \n",
    "        k = 0\n",
    "        total_iters = 0\n",
    "        alpha_k = alpha\n",
    "        while (k <= iterations) and (total_iters <= iterations):\n",
    "#             def objective_forward(alpha):\n",
    "#                 return np.linalg.norm(equation.forward(u - alpha * equation.forward(u)))\n",
    "            \n",
    "#             alpha_k = minimize_scalar(objective_forward, bounds=(0, 1), method='bounded', options={'maxiter':line_search_iter})\n",
    "#             alpha_k = alpha_k['x']\n",
    "            if k == 0:\n",
    "                v_k = u - alpha_k * equation.forward(u)\n",
    "            else:\n",
    "                beta_k = np.linalg.norm(equation.forward(u), ord=2) / np.linalg.norm(equation.forward(u_history[-2]), ord=2)\n",
    "                v_k = u + beta_k * (u - u_history[-2]) - alpha_k * (1 + beta_k) * equation.forward(u)\n",
    "            \n",
    "            u = v_k - alpha_k * equation.forward(v_k)\n",
    "            \n",
    "            u_history.append(u)\n",
    "            values_history.append(np.linalg.norm(equation.forward(u), ord=2))         \n",
    "            times_history.append(time() - start)\n",
    "            if values_history[-1] <= tol:\n",
    "                if verbose:\n",
    "                    print(f'Accelerated residuals converged on iteration {total_iters}')\n",
    "                for i in range(total_iters, iterations):\n",
    "                    u_history.append(u_history[-1])\n",
    "                    values_history.append(values_history[-1])\n",
    "                    times_history.append(times_history[-1])\n",
    "                break\n",
    "            if k > n and values_history[-1] > values_history[-1 - n]:\n",
    "                u = x_history[-2]\n",
    "                k = 0\n",
    "            if verbose:\n",
    "                pbar.update(1)\n",
    "            total_iters += 1\n",
    "            \n",
    "            if total_iters > iterations:\n",
    "                break\n",
    "        return u_history, values_history, times_history"
   ]
  },
  {
   "cell_type": "markdown",
   "metadata": {},
   "source": [
    "## Finding x_0..."
   ]
  },
  {
   "cell_type": "code",
   "execution_count": 282,
   "metadata": {},
   "outputs": [],
   "source": [
    "MAX_POINTS = 20"
   ]
  },
  {
   "cell_type": "code",
   "execution_count": 281,
   "metadata": {},
   "outputs": [
    {
     "name": "stdout",
     "output_type": "stream",
     "text": [
      "Started...\n",
      "2.7452437870061965\n"
     ]
    },
    {
     "name": "stderr",
     "output_type": "stream",
     "text": [
      "/Users/dragonstone/opt/anaconda3/lib/python3.7/site-packages/ipykernel_launcher.py:13: RuntimeWarning: overflow encountered in multiply\n",
      "  del sys.path[0]\n",
      "/Users/dragonstone/opt/anaconda3/lib/python3.7/site-packages/ipykernel_launcher.py:13: RuntimeWarning: overflow encountered in double_scalars\n",
      "  del sys.path[0]\n"
     ]
    },
    {
     "name": "stdout",
     "output_type": "stream",
     "text": [
      "2.7452437870061965\n",
      "2.7452437870061965\n",
      "2.7452437870061965\n",
      "2.7452437870061965\n",
      "2.7452437870061965\n",
      "2.7452437870061965\n",
      "2.7452437870061965\n",
      "2.7452437870061965\n",
      "2.7452437870061965\n",
      "2.7452437870061965\n",
      "2.7452437870061965\n",
      "2.7452437870061965\n",
      "2.7452437870061965\n"
     ]
    },
    {
     "ename": "KeyboardInterrupt",
     "evalue": "",
     "output_type": "error",
     "traceback": [
      "\u001b[0;31m---------------------------------------------------------------------------\u001b[0m",
      "\u001b[0;31mKeyboardInterrupt\u001b[0m                         Traceback (most recent call last)",
      "\u001b[0;32m<ipython-input-281-596ca7bbe0d4>\u001b[0m in \u001b[0;36m<module>\u001b[0;34m\u001b[0m\n\u001b[1;32m     20\u001b[0m             \u001b[0mstep\u001b[0m \u001b[0;34m=\u001b[0m \u001b[0;36m1e-7\u001b[0m\u001b[0;34m\u001b[0m\u001b[0;34m\u001b[0m\u001b[0m\n\u001b[1;32m     21\u001b[0m         \u001b[0mpoint\u001b[0m \u001b[0;34m=\u001b[0m \u001b[0mgood_x0s\u001b[0m\u001b[0;34m[\u001b[0m\u001b[0mi\u001b[0m\u001b[0;34m]\u001b[0m \u001b[0;34m+\u001b[0m \u001b[0mpoint\u001b[0m\u001b[0;34m\u001b[0m\u001b[0;34m\u001b[0m\u001b[0m\n\u001b[0;32m---> 22\u001b[0;31m         \u001b[0mx_history\u001b[0m\u001b[0;34m,\u001b[0m \u001b[0mvalues_history\u001b[0m\u001b[0;34m,\u001b[0m \u001b[0mtimes_history\u001b[0m \u001b[0;34m=\u001b[0m \u001b[0mAcceleratedResiduals\u001b[0m\u001b[0;34m(\u001b[0m\u001b[0;34m)\u001b[0m\u001b[0;34m.\u001b[0m\u001b[0moptimize\u001b[0m\u001b[0;34m(\u001b[0m\u001b[0mg\u001b[0m\u001b[0;34m,\u001b[0m \u001b[0mx0\u001b[0m \u001b[0;34m+\u001b[0m \u001b[0;36m1\u001b[0m\u001b[0;34m,\u001b[0m \u001b[0miterations\u001b[0m\u001b[0;34m=\u001b[0m\u001b[0;36m1000\u001b[0m\u001b[0;34m,\u001b[0m  \u001b[0malpha\u001b[0m\u001b[0;34m=\u001b[0m\u001b[0mstep\u001b[0m\u001b[0;34m)\u001b[0m\u001b[0;34m\u001b[0m\u001b[0;34m\u001b[0m\u001b[0m\n\u001b[0m\u001b[1;32m     23\u001b[0m         \u001b[0;32mif\u001b[0m \u001b[0mnp\u001b[0m\u001b[0;34m.\u001b[0m\u001b[0msqrt\u001b[0m\u001b[0;34m(\u001b[0m\u001b[0mnp\u001b[0m\u001b[0;34m.\u001b[0m\u001b[0mmin\u001b[0m\u001b[0;34m(\u001b[0m\u001b[0mvalues_history\u001b[0m\u001b[0;34m)\u001b[0m\u001b[0;34m)\u001b[0m \u001b[0;34m<\u001b[0m \u001b[0;36m1e-3\u001b[0m \u001b[0;34m*\u001b[0m \u001b[0;36m1\u001b[0m \u001b[0;34m/\u001b[0m \u001b[0mnp\u001b[0m\u001b[0;34m.\u001b[0m\u001b[0msqrt\u001b[0m\u001b[0;34m(\u001b[0m\u001b[0mx0\u001b[0m\u001b[0;34m.\u001b[0m\u001b[0mshape\u001b[0m\u001b[0;34m[\u001b[0m\u001b[0;36m0\u001b[0m\u001b[0;34m]\u001b[0m\u001b[0;34m)\u001b[0m\u001b[0;34m:\u001b[0m\u001b[0;34m\u001b[0m\u001b[0;34m\u001b[0m\u001b[0m\n\u001b[1;32m     24\u001b[0m             \u001b[0mnot_converged\u001b[0m \u001b[0;34m=\u001b[0m \u001b[0;32mFalse\u001b[0m\u001b[0;34m\u001b[0m\u001b[0;34m\u001b[0m\u001b[0m\n",
      "\u001b[0;32m<ipython-input-265-545714c40ac8>\u001b[0m in \u001b[0;36moptimize\u001b[0;34m(self, equation, x0, alpha, iterations, verbose, n, tol, line_search_iter)\u001b[0m\n\u001b[1;32m     30\u001b[0m \u001b[0;31m#             alpha_k = alpha_k['x']\u001b[0m\u001b[0;34m\u001b[0m\u001b[0;34m\u001b[0m\u001b[0;34m\u001b[0m\u001b[0m\n\u001b[1;32m     31\u001b[0m             \u001b[0;32mif\u001b[0m \u001b[0mk\u001b[0m \u001b[0;34m==\u001b[0m \u001b[0;36m0\u001b[0m\u001b[0;34m:\u001b[0m\u001b[0;34m\u001b[0m\u001b[0;34m\u001b[0m\u001b[0m\n\u001b[0;32m---> 32\u001b[0;31m                 \u001b[0mv_k\u001b[0m \u001b[0;34m=\u001b[0m \u001b[0mu\u001b[0m \u001b[0;34m-\u001b[0m \u001b[0malpha_k\u001b[0m \u001b[0;34m*\u001b[0m \u001b[0mequation\u001b[0m\u001b[0;34m.\u001b[0m\u001b[0mforward\u001b[0m\u001b[0;34m(\u001b[0m\u001b[0mu\u001b[0m\u001b[0;34m)\u001b[0m\u001b[0;34m\u001b[0m\u001b[0;34m\u001b[0m\u001b[0m\n\u001b[0m\u001b[1;32m     33\u001b[0m             \u001b[0;32melse\u001b[0m\u001b[0;34m:\u001b[0m\u001b[0;34m\u001b[0m\u001b[0;34m\u001b[0m\u001b[0m\n\u001b[1;32m     34\u001b[0m                 \u001b[0mbeta_k\u001b[0m \u001b[0;34m=\u001b[0m \u001b[0mnp\u001b[0m\u001b[0;34m.\u001b[0m\u001b[0mlinalg\u001b[0m\u001b[0;34m.\u001b[0m\u001b[0mnorm\u001b[0m\u001b[0;34m(\u001b[0m\u001b[0mequation\u001b[0m\u001b[0;34m.\u001b[0m\u001b[0mforward\u001b[0m\u001b[0;34m(\u001b[0m\u001b[0mu\u001b[0m\u001b[0;34m)\u001b[0m\u001b[0;34m,\u001b[0m \u001b[0mord\u001b[0m\u001b[0;34m=\u001b[0m\u001b[0;36m2\u001b[0m\u001b[0;34m)\u001b[0m \u001b[0;34m/\u001b[0m \u001b[0mnp\u001b[0m\u001b[0;34m.\u001b[0m\u001b[0mlinalg\u001b[0m\u001b[0;34m.\u001b[0m\u001b[0mnorm\u001b[0m\u001b[0;34m(\u001b[0m\u001b[0mequation\u001b[0m\u001b[0;34m.\u001b[0m\u001b[0mforward\u001b[0m\u001b[0;34m(\u001b[0m\u001b[0mu_history\u001b[0m\u001b[0;34m[\u001b[0m\u001b[0;34m-\u001b[0m\u001b[0;36m2\u001b[0m\u001b[0;34m]\u001b[0m\u001b[0;34m)\u001b[0m\u001b[0;34m,\u001b[0m \u001b[0mord\u001b[0m\u001b[0;34m=\u001b[0m\u001b[0;36m2\u001b[0m\u001b[0;34m)\u001b[0m\u001b[0;34m\u001b[0m\u001b[0;34m\u001b[0m\u001b[0m\n",
      "\u001b[0;32m<ipython-input-5-a0f6e05b8f71>\u001b[0m in \u001b[0;36mforward\u001b[0;34m(self, x)\u001b[0m\n\u001b[1;32m     11\u001b[0m         \u001b[0mn\u001b[0m \u001b[0;34m=\u001b[0m \u001b[0mx\u001b[0m\u001b[0;34m.\u001b[0m\u001b[0mshape\u001b[0m\u001b[0;34m[\u001b[0m\u001b[0;36m0\u001b[0m\u001b[0;34m]\u001b[0m\u001b[0;34m\u001b[0m\u001b[0;34m\u001b[0m\u001b[0m\n\u001b[1;32m     12\u001b[0m         \u001b[0;32massert\u001b[0m \u001b[0mn\u001b[0m \u001b[0;34m==\u001b[0m \u001b[0mself\u001b[0m\u001b[0;34m.\u001b[0m\u001b[0m_c\u001b[0m\u001b[0;34m.\u001b[0m\u001b[0mshape\u001b[0m\u001b[0;34m[\u001b[0m\u001b[0;36m0\u001b[0m\u001b[0;34m]\u001b[0m \u001b[0;34m+\u001b[0m \u001b[0;36m1\u001b[0m\u001b[0;34m\u001b[0m\u001b[0;34m\u001b[0m\u001b[0m\n\u001b[0;32m---> 13\u001b[0;31m         \u001b[0mfirst\u001b[0m \u001b[0;34m=\u001b[0m \u001b[0mnp\u001b[0m\u001b[0;34m.\u001b[0m\u001b[0marray\u001b[0m\u001b[0;34m(\u001b[0m\u001b[0;34m[\u001b[0m\u001b[0;34m(\u001b[0m\u001b[0mx\u001b[0m\u001b[0;34m[\u001b[0m\u001b[0mi\u001b[0m\u001b[0;34m]\u001b[0m \u001b[0;34m+\u001b[0m \u001b[0;34m(\u001b[0m\u001b[0mx\u001b[0m\u001b[0;34m[\u001b[0m\u001b[0;34m:\u001b[0m\u001b[0mn\u001b[0m\u001b[0;34m-\u001b[0m\u001b[0mi\u001b[0m\u001b[0;34m-\u001b[0m\u001b[0;36m2\u001b[0m\u001b[0;34m]\u001b[0m \u001b[0;34m*\u001b[0m \u001b[0mnp\u001b[0m\u001b[0;34m.\u001b[0m\u001b[0mroll\u001b[0m\u001b[0;34m(\u001b[0m\u001b[0mx\u001b[0m\u001b[0;34m,\u001b[0m \u001b[0mshift\u001b[0m\u001b[0;34m=\u001b[0m\u001b[0;34m-\u001b[0m\u001b[0mi\u001b[0m \u001b[0;34m-\u001b[0m \u001b[0;36m1\u001b[0m\u001b[0;34m)\u001b[0m\u001b[0;34m[\u001b[0m\u001b[0;34m:\u001b[0m\u001b[0mn\u001b[0m\u001b[0;34m-\u001b[0m\u001b[0mi\u001b[0m\u001b[0;34m-\u001b[0m\u001b[0;36m2\u001b[0m\u001b[0;34m]\u001b[0m\u001b[0;34m)\u001b[0m\u001b[0;34m.\u001b[0m\u001b[0msum\u001b[0m\u001b[0;34m(\u001b[0m\u001b[0;34m)\u001b[0m\u001b[0;34m)\u001b[0m \u001b[0;34m*\u001b[0m \u001b[0mx\u001b[0m\u001b[0;34m[\u001b[0m\u001b[0mn\u001b[0m \u001b[0;34m-\u001b[0m \u001b[0;36m1\u001b[0m\u001b[0;34m]\u001b[0m \u001b[0;34m-\u001b[0m \u001b[0mself\u001b[0m\u001b[0;34m.\u001b[0m\u001b[0m_c\u001b[0m\u001b[0;34m[\u001b[0m\u001b[0mi\u001b[0m\u001b[0;34m]\u001b[0m \u001b[0;32mfor\u001b[0m \u001b[0mi\u001b[0m \u001b[0;32min\u001b[0m \u001b[0mrange\u001b[0m\u001b[0;34m(\u001b[0m\u001b[0mn\u001b[0m \u001b[0;34m-\u001b[0m \u001b[0;36m1\u001b[0m\u001b[0;34m)\u001b[0m\u001b[0;34m]\u001b[0m\u001b[0;34m)\u001b[0m\u001b[0;34m\u001b[0m\u001b[0;34m\u001b[0m\u001b[0m\n\u001b[0m\u001b[1;32m     14\u001b[0m         \u001b[0mlast\u001b[0m \u001b[0;34m=\u001b[0m \u001b[0mnp\u001b[0m\u001b[0;34m.\u001b[0m\u001b[0msum\u001b[0m\u001b[0;34m(\u001b[0m\u001b[0mx\u001b[0m\u001b[0;34m[\u001b[0m\u001b[0;34m:\u001b[0m\u001b[0mn\u001b[0m \u001b[0;34m-\u001b[0m \u001b[0;36m1\u001b[0m\u001b[0;34m]\u001b[0m\u001b[0;34m)\u001b[0m \u001b[0;34m+\u001b[0m \u001b[0;36m1\u001b[0m\u001b[0;34m\u001b[0m\u001b[0;34m\u001b[0m\u001b[0m\n\u001b[1;32m     15\u001b[0m         \u001b[0;32mreturn\u001b[0m \u001b[0mnp\u001b[0m\u001b[0;34m.\u001b[0m\u001b[0mhstack\u001b[0m\u001b[0;34m(\u001b[0m\u001b[0;34m(\u001b[0m\u001b[0mfirst\u001b[0m\u001b[0;34m,\u001b[0m \u001b[0mlast\u001b[0m\u001b[0;34m)\u001b[0m\u001b[0;34m)\u001b[0m\u001b[0;34m\u001b[0m\u001b[0;34m\u001b[0m\u001b[0m\n",
      "\u001b[0;32m<ipython-input-5-a0f6e05b8f71>\u001b[0m in \u001b[0;36m<listcomp>\u001b[0;34m(.0)\u001b[0m\n\u001b[1;32m     11\u001b[0m         \u001b[0mn\u001b[0m \u001b[0;34m=\u001b[0m \u001b[0mx\u001b[0m\u001b[0;34m.\u001b[0m\u001b[0mshape\u001b[0m\u001b[0;34m[\u001b[0m\u001b[0;36m0\u001b[0m\u001b[0;34m]\u001b[0m\u001b[0;34m\u001b[0m\u001b[0;34m\u001b[0m\u001b[0m\n\u001b[1;32m     12\u001b[0m         \u001b[0;32massert\u001b[0m \u001b[0mn\u001b[0m \u001b[0;34m==\u001b[0m \u001b[0mself\u001b[0m\u001b[0;34m.\u001b[0m\u001b[0m_c\u001b[0m\u001b[0;34m.\u001b[0m\u001b[0mshape\u001b[0m\u001b[0;34m[\u001b[0m\u001b[0;36m0\u001b[0m\u001b[0;34m]\u001b[0m \u001b[0;34m+\u001b[0m \u001b[0;36m1\u001b[0m\u001b[0;34m\u001b[0m\u001b[0;34m\u001b[0m\u001b[0m\n\u001b[0;32m---> 13\u001b[0;31m         \u001b[0mfirst\u001b[0m \u001b[0;34m=\u001b[0m \u001b[0mnp\u001b[0m\u001b[0;34m.\u001b[0m\u001b[0marray\u001b[0m\u001b[0;34m(\u001b[0m\u001b[0;34m[\u001b[0m\u001b[0;34m(\u001b[0m\u001b[0mx\u001b[0m\u001b[0;34m[\u001b[0m\u001b[0mi\u001b[0m\u001b[0;34m]\u001b[0m \u001b[0;34m+\u001b[0m \u001b[0;34m(\u001b[0m\u001b[0mx\u001b[0m\u001b[0;34m[\u001b[0m\u001b[0;34m:\u001b[0m\u001b[0mn\u001b[0m\u001b[0;34m-\u001b[0m\u001b[0mi\u001b[0m\u001b[0;34m-\u001b[0m\u001b[0;36m2\u001b[0m\u001b[0;34m]\u001b[0m \u001b[0;34m*\u001b[0m \u001b[0mnp\u001b[0m\u001b[0;34m.\u001b[0m\u001b[0mroll\u001b[0m\u001b[0;34m(\u001b[0m\u001b[0mx\u001b[0m\u001b[0;34m,\u001b[0m \u001b[0mshift\u001b[0m\u001b[0;34m=\u001b[0m\u001b[0;34m-\u001b[0m\u001b[0mi\u001b[0m \u001b[0;34m-\u001b[0m \u001b[0;36m1\u001b[0m\u001b[0;34m)\u001b[0m\u001b[0;34m[\u001b[0m\u001b[0;34m:\u001b[0m\u001b[0mn\u001b[0m\u001b[0;34m-\u001b[0m\u001b[0mi\u001b[0m\u001b[0;34m-\u001b[0m\u001b[0;36m2\u001b[0m\u001b[0;34m]\u001b[0m\u001b[0;34m)\u001b[0m\u001b[0;34m.\u001b[0m\u001b[0msum\u001b[0m\u001b[0;34m(\u001b[0m\u001b[0;34m)\u001b[0m\u001b[0;34m)\u001b[0m \u001b[0;34m*\u001b[0m \u001b[0mx\u001b[0m\u001b[0;34m[\u001b[0m\u001b[0mn\u001b[0m \u001b[0;34m-\u001b[0m \u001b[0;36m1\u001b[0m\u001b[0;34m]\u001b[0m \u001b[0;34m-\u001b[0m \u001b[0mself\u001b[0m\u001b[0;34m.\u001b[0m\u001b[0m_c\u001b[0m\u001b[0;34m[\u001b[0m\u001b[0mi\u001b[0m\u001b[0;34m]\u001b[0m \u001b[0;32mfor\u001b[0m \u001b[0mi\u001b[0m \u001b[0;32min\u001b[0m \u001b[0mrange\u001b[0m\u001b[0;34m(\u001b[0m\u001b[0mn\u001b[0m \u001b[0;34m-\u001b[0m \u001b[0;36m1\u001b[0m\u001b[0;34m)\u001b[0m\u001b[0;34m]\u001b[0m\u001b[0;34m)\u001b[0m\u001b[0;34m\u001b[0m\u001b[0;34m\u001b[0m\u001b[0m\n\u001b[0m\u001b[1;32m     14\u001b[0m         \u001b[0mlast\u001b[0m \u001b[0;34m=\u001b[0m \u001b[0mnp\u001b[0m\u001b[0;34m.\u001b[0m\u001b[0msum\u001b[0m\u001b[0;34m(\u001b[0m\u001b[0mx\u001b[0m\u001b[0;34m[\u001b[0m\u001b[0;34m:\u001b[0m\u001b[0mn\u001b[0m \u001b[0;34m-\u001b[0m \u001b[0;36m1\u001b[0m\u001b[0;34m]\u001b[0m\u001b[0;34m)\u001b[0m \u001b[0;34m+\u001b[0m \u001b[0;36m1\u001b[0m\u001b[0;34m\u001b[0m\u001b[0;34m\u001b[0m\u001b[0m\n\u001b[1;32m     15\u001b[0m         \u001b[0;32mreturn\u001b[0m \u001b[0mnp\u001b[0m\u001b[0;34m.\u001b[0m\u001b[0mhstack\u001b[0m\u001b[0;34m(\u001b[0m\u001b[0;34m(\u001b[0m\u001b[0mfirst\u001b[0m\u001b[0;34m,\u001b[0m \u001b[0mlast\u001b[0m\u001b[0;34m)\u001b[0m\u001b[0;34m)\u001b[0m\u001b[0;34m\u001b[0m\u001b[0;34m\u001b[0m\u001b[0m\n",
      "\u001b[0;32m~/opt/anaconda3/lib/python3.7/site-packages/numpy/core/numeric.py\u001b[0m in \u001b[0;36mroll\u001b[0;34m(a, shift, axis)\u001b[0m\n\u001b[1;32m   1461\u001b[0m     \u001b[0ma\u001b[0m \u001b[0;34m=\u001b[0m \u001b[0masanyarray\u001b[0m\u001b[0;34m(\u001b[0m\u001b[0ma\u001b[0m\u001b[0;34m)\u001b[0m\u001b[0;34m\u001b[0m\u001b[0;34m\u001b[0m\u001b[0m\n\u001b[1;32m   1462\u001b[0m     \u001b[0;32mif\u001b[0m \u001b[0maxis\u001b[0m \u001b[0;32mis\u001b[0m \u001b[0;32mNone\u001b[0m\u001b[0;34m:\u001b[0m\u001b[0;34m\u001b[0m\u001b[0;34m\u001b[0m\u001b[0m\n\u001b[0;32m-> 1463\u001b[0;31m         \u001b[0;32mreturn\u001b[0m \u001b[0mroll\u001b[0m\u001b[0;34m(\u001b[0m\u001b[0ma\u001b[0m\u001b[0;34m.\u001b[0m\u001b[0mravel\u001b[0m\u001b[0;34m(\u001b[0m\u001b[0;34m)\u001b[0m\u001b[0;34m,\u001b[0m \u001b[0mshift\u001b[0m\u001b[0;34m,\u001b[0m \u001b[0;36m0\u001b[0m\u001b[0;34m)\u001b[0m\u001b[0;34m.\u001b[0m\u001b[0mreshape\u001b[0m\u001b[0;34m(\u001b[0m\u001b[0ma\u001b[0m\u001b[0;34m.\u001b[0m\u001b[0mshape\u001b[0m\u001b[0;34m)\u001b[0m\u001b[0;34m\u001b[0m\u001b[0;34m\u001b[0m\u001b[0m\n\u001b[0m\u001b[1;32m   1464\u001b[0m \u001b[0;34m\u001b[0m\u001b[0m\n\u001b[1;32m   1465\u001b[0m     \u001b[0;32melse\u001b[0m\u001b[0;34m:\u001b[0m\u001b[0;34m\u001b[0m\u001b[0;34m\u001b[0m\u001b[0m\n",
      "\u001b[0;32m~/opt/anaconda3/lib/python3.7/site-packages/numpy/core/numeric.py\u001b[0m in \u001b[0;36mroll\u001b[0;34m(a, shift, axis)\u001b[0m\n\u001b[1;32m   1464\u001b[0m \u001b[0;34m\u001b[0m\u001b[0m\n\u001b[1;32m   1465\u001b[0m     \u001b[0;32melse\u001b[0m\u001b[0;34m:\u001b[0m\u001b[0;34m\u001b[0m\u001b[0;34m\u001b[0m\u001b[0m\n\u001b[0;32m-> 1466\u001b[0;31m         \u001b[0maxis\u001b[0m \u001b[0;34m=\u001b[0m \u001b[0mnormalize_axis_tuple\u001b[0m\u001b[0;34m(\u001b[0m\u001b[0maxis\u001b[0m\u001b[0;34m,\u001b[0m \u001b[0ma\u001b[0m\u001b[0;34m.\u001b[0m\u001b[0mndim\u001b[0m\u001b[0;34m,\u001b[0m \u001b[0mallow_duplicate\u001b[0m\u001b[0;34m=\u001b[0m\u001b[0;32mTrue\u001b[0m\u001b[0;34m)\u001b[0m\u001b[0;34m\u001b[0m\u001b[0;34m\u001b[0m\u001b[0m\n\u001b[0m\u001b[1;32m   1467\u001b[0m         \u001b[0mbroadcasted\u001b[0m \u001b[0;34m=\u001b[0m \u001b[0mbroadcast\u001b[0m\u001b[0;34m(\u001b[0m\u001b[0mshift\u001b[0m\u001b[0;34m,\u001b[0m \u001b[0maxis\u001b[0m\u001b[0;34m)\u001b[0m\u001b[0;34m\u001b[0m\u001b[0;34m\u001b[0m\u001b[0m\n\u001b[1;32m   1468\u001b[0m         \u001b[0;32mif\u001b[0m \u001b[0mbroadcasted\u001b[0m\u001b[0;34m.\u001b[0m\u001b[0mndim\u001b[0m \u001b[0;34m>\u001b[0m \u001b[0;36m1\u001b[0m\u001b[0;34m:\u001b[0m\u001b[0;34m\u001b[0m\u001b[0;34m\u001b[0m\u001b[0m\n",
      "\u001b[0;32m~/opt/anaconda3/lib/python3.7/site-packages/numpy/core/numeric.py\u001b[0m in \u001b[0;36mnormalize_axis_tuple\u001b[0;34m(axis, ndim, argname, allow_duplicate)\u001b[0m\n\u001b[1;32m   1605\u001b[0m             \u001b[0;32mpass\u001b[0m\u001b[0;34m\u001b[0m\u001b[0;34m\u001b[0m\u001b[0m\n\u001b[1;32m   1606\u001b[0m     \u001b[0;31m# Going via an iterator directly is slower than via list comprehension.\u001b[0m\u001b[0;34m\u001b[0m\u001b[0;34m\u001b[0m\u001b[0;34m\u001b[0m\u001b[0m\n\u001b[0;32m-> 1607\u001b[0;31m     \u001b[0maxis\u001b[0m \u001b[0;34m=\u001b[0m \u001b[0mtuple\u001b[0m\u001b[0;34m(\u001b[0m\u001b[0;34m[\u001b[0m\u001b[0mnormalize_axis_index\u001b[0m\u001b[0;34m(\u001b[0m\u001b[0max\u001b[0m\u001b[0;34m,\u001b[0m \u001b[0mndim\u001b[0m\u001b[0;34m,\u001b[0m \u001b[0margname\u001b[0m\u001b[0;34m)\u001b[0m \u001b[0;32mfor\u001b[0m \u001b[0max\u001b[0m \u001b[0;32min\u001b[0m \u001b[0maxis\u001b[0m\u001b[0;34m]\u001b[0m\u001b[0;34m)\u001b[0m\u001b[0;34m\u001b[0m\u001b[0;34m\u001b[0m\u001b[0m\n\u001b[0m\u001b[1;32m   1608\u001b[0m     \u001b[0;32mif\u001b[0m \u001b[0;32mnot\u001b[0m \u001b[0mallow_duplicate\u001b[0m \u001b[0;32mand\u001b[0m \u001b[0mlen\u001b[0m\u001b[0;34m(\u001b[0m\u001b[0mset\u001b[0m\u001b[0;34m(\u001b[0m\u001b[0maxis\u001b[0m\u001b[0;34m)\u001b[0m\u001b[0;34m)\u001b[0m \u001b[0;34m!=\u001b[0m \u001b[0mlen\u001b[0m\u001b[0;34m(\u001b[0m\u001b[0maxis\u001b[0m\u001b[0;34m)\u001b[0m\u001b[0;34m:\u001b[0m\u001b[0;34m\u001b[0m\u001b[0;34m\u001b[0m\u001b[0m\n\u001b[1;32m   1609\u001b[0m         \u001b[0;32mif\u001b[0m \u001b[0margname\u001b[0m\u001b[0;34m:\u001b[0m\u001b[0;34m\u001b[0m\u001b[0;34m\u001b[0m\u001b[0m\n",
      "\u001b[0;32m~/opt/anaconda3/lib/python3.7/site-packages/numpy/core/numeric.py\u001b[0m in \u001b[0;36m<listcomp>\u001b[0;34m(.0)\u001b[0m\n\u001b[1;32m   1605\u001b[0m             \u001b[0;32mpass\u001b[0m\u001b[0;34m\u001b[0m\u001b[0;34m\u001b[0m\u001b[0m\n\u001b[1;32m   1606\u001b[0m     \u001b[0;31m# Going via an iterator directly is slower than via list comprehension.\u001b[0m\u001b[0;34m\u001b[0m\u001b[0;34m\u001b[0m\u001b[0;34m\u001b[0m\u001b[0m\n\u001b[0;32m-> 1607\u001b[0;31m     \u001b[0maxis\u001b[0m \u001b[0;34m=\u001b[0m \u001b[0mtuple\u001b[0m\u001b[0;34m(\u001b[0m\u001b[0;34m[\u001b[0m\u001b[0mnormalize_axis_index\u001b[0m\u001b[0;34m(\u001b[0m\u001b[0max\u001b[0m\u001b[0;34m,\u001b[0m \u001b[0mndim\u001b[0m\u001b[0;34m,\u001b[0m \u001b[0margname\u001b[0m\u001b[0;34m)\u001b[0m \u001b[0;32mfor\u001b[0m \u001b[0max\u001b[0m \u001b[0;32min\u001b[0m \u001b[0maxis\u001b[0m\u001b[0;34m]\u001b[0m\u001b[0;34m)\u001b[0m\u001b[0;34m\u001b[0m\u001b[0;34m\u001b[0m\u001b[0m\n\u001b[0m\u001b[1;32m   1608\u001b[0m     \u001b[0;32mif\u001b[0m \u001b[0;32mnot\u001b[0m \u001b[0mallow_duplicate\u001b[0m \u001b[0;32mand\u001b[0m \u001b[0mlen\u001b[0m\u001b[0;34m(\u001b[0m\u001b[0mset\u001b[0m\u001b[0;34m(\u001b[0m\u001b[0maxis\u001b[0m\u001b[0;34m)\u001b[0m\u001b[0;34m)\u001b[0m \u001b[0;34m!=\u001b[0m \u001b[0mlen\u001b[0m\u001b[0;34m(\u001b[0m\u001b[0maxis\u001b[0m\u001b[0;34m)\u001b[0m\u001b[0;34m:\u001b[0m\u001b[0;34m\u001b[0m\u001b[0;34m\u001b[0m\u001b[0m\n\u001b[1;32m   1609\u001b[0m         \u001b[0;32mif\u001b[0m \u001b[0margname\u001b[0m\u001b[0;34m:\u001b[0m\u001b[0;34m\u001b[0m\u001b[0;34m\u001b[0m\u001b[0m\n",
      "\u001b[0;31mKeyboardInterrupt\u001b[0m: "
     ]
    }
   ],
   "source": [
    "x0s = []\n",
    "for i in range(3):\n",
    "    not_converged = True\n",
    "    print('Started...')\n",
    "    f = fs[i]\n",
    "    g = gs[i]\n",
    "    \n",
    "    considered_dots = 0\n",
    "    x0 = np.zeros(g._c.shape[0] + 1)\n",
    "    x0s.append(x0)\n",
    "    while(not_converged and considered_dots < MAX_POINTS):\n",
    "        if SYSTEM_SIZES[i] == 10:\n",
    "            point = np.random.normal(x0, np.ones(x0.shape[0]) * 10)\n",
    "            step = 1e-2\n",
    "        elif SYSTEM_SIZES[i] == 3:\n",
    "            point = np.random.normal(x0, np.ones(x0.shape[0]) * 100)\n",
    "            step = 1e-3\n",
    "        elif SYSTEM_SIZES[i] == 100:\n",
    "            point = np.random.normal(x0, np.ones(x0.shape[0]) * 10)\n",
    "            step = 1e-7\n",
    "        point = good_x0s[i] + point\n",
    "        x_history, values_history, times_history = AcceleratedResiduals().optimize(g, x0 + 1, iterations=1000,  alpha=step)\n",
    "        if np.sqrt(np.min(values_history)) < 1e-3 * 1 / np.sqrt(x0.shape[0]):\n",
    "            not_converged = False\n",
    "            x0s[-1] = point\n",
    "            \n",
    "        if np.min(values_history) < f.forward(x0s[-1]):\n",
    "            x0s[-1] = point\n",
    "            \n",
    "        considered_dots += 1\n",
    "        print(np.min(values_history))\n",
    "    print('Finished...')"
   ]
  },
  {
   "cell_type": "code",
   "execution_count": null,
   "metadata": {},
   "outputs": [],
   "source": []
  },
  {
   "cell_type": "code",
   "execution_count": null,
   "metadata": {},
   "outputs": [],
   "source": []
  }
 ],
 "metadata": {
  "kernelspec": {
   "display_name": "Python 3",
   "language": "python",
   "name": "python3"
  },
  "language_info": {
   "codemirror_mode": {
    "name": "ipython",
    "version": 3
   },
   "file_extension": ".py",
   "mimetype": "text/x-python",
   "name": "python",
   "nbconvert_exporter": "python",
   "pygments_lexer": "ipython3",
   "version": "3.7.4"
  },
  "widgets": {
   "application/vnd.jupyter.widget-state+json": {
    "state": {
     "02c6152c7fba477b9dc868292d0e6046": {
      "model_module": "@jupyter-widgets/controls",
      "model_module_version": "1.5.0",
      "model_name": "HTMLModel",
      "state": {
       "layout": "IPY_MODEL_f4792715006e4783bfedd4b4003c27c1",
       "style": "IPY_MODEL_b387f9944895428fbd9264772db52d6b",
       "value": " 0/3 [01:56&lt;?, ?it/s]"
      }
     },
     "038aba438a384ef394afdb09b61a3c85": {
      "model_module": "@jupyter-widgets/base",
      "model_module_version": "1.2.0",
      "model_name": "LayoutModel",
      "state": {}
     },
     "046104735be147deae341a7ffb16cda2": {
      "model_module": "@jupyter-widgets/controls",
      "model_module_version": "1.5.0",
      "model_name": "ProgressStyleModel",
      "state": {
       "description_width": "initial"
      }
     },
     "048993baa3944aa09b6a8d4102dd30dd": {
      "model_module": "@jupyter-widgets/base",
      "model_module_version": "1.2.0",
      "model_name": "LayoutModel",
      "state": {}
     },
     "049c8758b5534896ba8be71c7033c6fd": {
      "model_module": "@jupyter-widgets/controls",
      "model_module_version": "1.5.0",
      "model_name": "HBoxModel",
      "state": {
       "children": [
        "IPY_MODEL_673ccb2d9a354c49838d9740a88ec760",
        "IPY_MODEL_36c3ed1c102d4adcbc72f06beeb51491"
       ],
       "layout": "IPY_MODEL_cb33f225ce0e4b1d91b27041ad17a126"
      }
     },
     "04e36332f4794c2b81efccd25c6b6596": {
      "model_module": "@jupyter-widgets/controls",
      "model_module_version": "1.5.0",
      "model_name": "DescriptionStyleModel",
      "state": {
       "description_width": ""
      }
     },
     "0531e841e4f445a393fa3ebdd2124e85": {
      "model_module": "@jupyter-widgets/controls",
      "model_module_version": "1.5.0",
      "model_name": "ProgressStyleModel",
      "state": {
       "description_width": "initial"
      }
     },
     "054af72c7ae447c8800aa2c77e67bc8e": {
      "model_module": "@jupyter-widgets/controls",
      "model_module_version": "1.5.0",
      "model_name": "ProgressStyleModel",
      "state": {
       "description_width": "initial"
      }
     },
     "07b3fc61fd6d42939c8ebd5069dafb7e": {
      "model_module": "@jupyter-widgets/base",
      "model_module_version": "1.2.0",
      "model_name": "LayoutModel",
      "state": {}
     },
     "0a0af34613fc44bbb22df7a39725ae7d": {
      "model_module": "@jupyter-widgets/controls",
      "model_module_version": "1.5.0",
      "model_name": "DescriptionStyleModel",
      "state": {
       "description_width": ""
      }
     },
     "0d698161152e46a6a69f5b6975952284": {
      "model_module": "@jupyter-widgets/controls",
      "model_module_version": "1.5.0",
      "model_name": "HBoxModel",
      "state": {
       "children": [
        "IPY_MODEL_9facce5d659c49c399e7c9a5b6054d0a",
        "IPY_MODEL_f711b9f95a254f939fe7d02db336fad2"
       ],
       "layout": "IPY_MODEL_4b85a4e33ddf4c46a1db1b709594a060"
      }
     },
     "0e823dd9e0d2457dbff66c535c001781": {
      "model_module": "@jupyter-widgets/base",
      "model_module_version": "1.2.0",
      "model_name": "LayoutModel",
      "state": {}
     },
     "10498806c24a41b7b7d0f45ddc3a5c73": {
      "model_module": "@jupyter-widgets/controls",
      "model_module_version": "1.5.0",
      "model_name": "DescriptionStyleModel",
      "state": {
       "description_width": ""
      }
     },
     "106f6a0bd2be4fb091be1515ed4291c1": {
      "model_module": "@jupyter-widgets/base",
      "model_module_version": "1.2.0",
      "model_name": "LayoutModel",
      "state": {}
     },
     "111dde095aa441e9b739ccf7d51d783c": {
      "model_module": "@jupyter-widgets/base",
      "model_module_version": "1.2.0",
      "model_name": "LayoutModel",
      "state": {}
     },
     "112113478d9e45aca75e72b3c40e16d4": {
      "model_module": "@jupyter-widgets/controls",
      "model_module_version": "1.5.0",
      "model_name": "HBoxModel",
      "state": {
       "children": [
        "IPY_MODEL_5c2fc22c80484e6a8c6d867ebdf09e43",
        "IPY_MODEL_3fbb90b1f2fe49dea357f3150a798b9c"
       ],
       "layout": "IPY_MODEL_e111a0ad5c1d43b8ba8aab93a1d30b0a"
      }
     },
     "119f04f388044dc89b0a870d90867a6b": {
      "model_module": "@jupyter-widgets/controls",
      "model_module_version": "1.5.0",
      "model_name": "ProgressStyleModel",
      "state": {
       "description_width": "initial"
      }
     },
     "12d501b7b5f7417fa29202f9b573c0bd": {
      "model_module": "@jupyter-widgets/base",
      "model_module_version": "1.2.0",
      "model_name": "LayoutModel",
      "state": {}
     },
     "12fe792273c9460f956ba11380a65d61": {
      "model_module": "@jupyter-widgets/controls",
      "model_module_version": "1.5.0",
      "model_name": "FloatProgressModel",
      "state": {
       "bar_style": "success",
       "description": "100%",
       "layout": "IPY_MODEL_5dc1304af8614a8fb932126f03985f89",
       "style": "IPY_MODEL_8a8ffad0b483405db97834d95dbc521d",
       "value": 100
      }
     },
     "1651428bee4e45b986b11e45387b6769": {
      "model_module": "@jupyter-widgets/controls",
      "model_module_version": "1.5.0",
      "model_name": "HBoxModel",
      "state": {
       "children": [
        "IPY_MODEL_240e89777b09460ca3f4b3519e590d5d",
        "IPY_MODEL_98b5433b21884c9595972e9969afc26e"
       ],
       "layout": "IPY_MODEL_2286c5a17d4644e0a7194d131c45b0cf"
      }
     },
     "16c53c2cafbd4677a0f0cb5710d769f6": {
      "model_module": "@jupyter-widgets/base",
      "model_module_version": "1.2.0",
      "model_name": "LayoutModel",
      "state": {}
     },
     "171760dce57d4762b41b67f71724c322": {
      "model_module": "@jupyter-widgets/controls",
      "model_module_version": "1.5.0",
      "model_name": "HTMLModel",
      "state": {
       "layout": "IPY_MODEL_4f55c737afc440f98c11d15a440cadf5",
       "style": "IPY_MODEL_89da3eded86947289a3b8f8a83e655ea",
       "value": " 100/100 [00:01&lt;00:00, 69.00it/s]"
      }
     },
     "176135bd7f6a409ea01e3b99e88d2749": {
      "model_module": "@jupyter-widgets/base",
      "model_module_version": "1.2.0",
      "model_name": "LayoutModel",
      "state": {}
     },
     "1793649d806644c0baafaf483004d00c": {
      "model_module": "@jupyter-widgets/controls",
      "model_module_version": "1.5.0",
      "model_name": "DescriptionStyleModel",
      "state": {
       "description_width": ""
      }
     },
     "17dbe6fbee8d46cebcaa0bcecbff624e": {
      "model_module": "@jupyter-widgets/controls",
      "model_module_version": "1.5.0",
      "model_name": "FloatProgressModel",
      "state": {
       "bar_style": "success",
       "description": "100%",
       "layout": "IPY_MODEL_048993baa3944aa09b6a8d4102dd30dd",
       "style": "IPY_MODEL_76845fd0bc0240f9b70182caf171f491",
       "value": 100
      }
     },
     "18006a0ee32b404ca07bc390e1e45ed6": {
      "model_module": "@jupyter-widgets/controls",
      "model_module_version": "1.5.0",
      "model_name": "FloatProgressModel",
      "state": {
       "bar_style": "success",
       "description": "100%",
       "layout": "IPY_MODEL_12d501b7b5f7417fa29202f9b573c0bd",
       "style": "IPY_MODEL_c9f3b660ac434ecf93340d8e621b0245",
       "value": 100
      }
     },
     "19a9b14f13aa461a85bb56fcadee3d94": {
      "model_module": "@jupyter-widgets/controls",
      "model_module_version": "1.5.0",
      "model_name": "HBoxModel",
      "state": {
       "children": [
        "IPY_MODEL_a93569e7cb6a438c974c20ecbbad8e8b",
        "IPY_MODEL_56e11373aa834b258f29043f631560e7"
       ],
       "layout": "IPY_MODEL_34c41ecd5fc5489b8e8835f3f04d35ce"
      }
     },
     "1aa860c9b7864ffb8e0ea3d4cd9c4cd6": {
      "model_module": "@jupyter-widgets/controls",
      "model_module_version": "1.5.0",
      "model_name": "FloatProgressModel",
      "state": {
       "bar_style": "danger",
       "description": "  0%",
       "layout": "IPY_MODEL_8c0718a19a124e55b842392bb28f6ecd",
       "max": 10000,
       "style": "IPY_MODEL_054af72c7ae447c8800aa2c77e67bc8e"
      }
     },
     "1be6dfc4bfb446bb9cbe6c239492f9cf": {
      "model_module": "@jupyter-widgets/base",
      "model_module_version": "1.2.0",
      "model_name": "LayoutModel",
      "state": {}
     },
     "1c90cb757d1d441da001916007932fdc": {
      "model_module": "@jupyter-widgets/controls",
      "model_module_version": "1.5.0",
      "model_name": "FloatProgressModel",
      "state": {
       "bar_style": "danger",
       "description": "  0%",
       "layout": "IPY_MODEL_45584b065cf244b0be2b2088e7d55179",
       "max": 3,
       "style": "IPY_MODEL_3d5c497e2a654988b00d58f0b34e1d32"
      }
     },
     "1d157daf50bf440e95974ec283ec4178": {
      "model_module": "@jupyter-widgets/base",
      "model_module_version": "1.2.0",
      "model_name": "LayoutModel",
      "state": {}
     },
     "1d57b95a2d9c45d58904d03585a7838d": {
      "model_module": "@jupyter-widgets/controls",
      "model_module_version": "1.5.0",
      "model_name": "DescriptionStyleModel",
      "state": {
       "description_width": ""
      }
     },
     "1df8457ba95c48f6b8f168fc9c840224": {
      "model_module": "@jupyter-widgets/base",
      "model_module_version": "1.2.0",
      "model_name": "LayoutModel",
      "state": {}
     },
     "1e08f567a4d246509a7244a1125dc67f": {
      "model_module": "@jupyter-widgets/controls",
      "model_module_version": "1.5.0",
      "model_name": "FloatProgressModel",
      "state": {
       "bar_style": "success",
       "description": "100%",
       "layout": "IPY_MODEL_6e5baab56ceb4cc48effc52784dbb9c9",
       "style": "IPY_MODEL_5f3c5e21f9b64ccc9aad5e3d6f2cdf8f",
       "value": 100
      }
     },
     "203cd6e82e5a4290a03fc459b6dbd298": {
      "model_module": "@jupyter-widgets/base",
      "model_module_version": "1.2.0",
      "model_name": "LayoutModel",
      "state": {}
     },
     "206e90c2b08345fbbb0e40e58cda9aca": {
      "model_module": "@jupyter-widgets/controls",
      "model_module_version": "1.5.0",
      "model_name": "DescriptionStyleModel",
      "state": {
       "description_width": ""
      }
     },
     "20b0a8fe4eca4a6883219835db2c0077": {
      "model_module": "@jupyter-widgets/controls",
      "model_module_version": "1.5.0",
      "model_name": "FloatProgressModel",
      "state": {
       "bar_style": "success",
       "description": "100%",
       "layout": "IPY_MODEL_54dcf1fd779547359e726c175fafb584",
       "style": "IPY_MODEL_046104735be147deae341a7ffb16cda2",
       "value": 100
      }
     },
     "20dd9be712434b45bc042f68f29f7728": {
      "model_module": "@jupyter-widgets/controls",
      "model_module_version": "1.5.0",
      "model_name": "ProgressStyleModel",
      "state": {
       "description_width": "initial"
      }
     },
     "20e254f6196b4005a343bb1fe83ed107": {
      "model_module": "@jupyter-widgets/controls",
      "model_module_version": "1.5.0",
      "model_name": "FloatProgressModel",
      "state": {
       "bar_style": "success",
       "description": "100%",
       "layout": "IPY_MODEL_1be6dfc4bfb446bb9cbe6c239492f9cf",
       "style": "IPY_MODEL_324a3240ee694b91b570cfeaecb8f939",
       "value": 100
      }
     },
     "224d4a68bc7c417fbd17a720104b88c7": {
      "model_module": "@jupyter-widgets/base",
      "model_module_version": "1.2.0",
      "model_name": "LayoutModel",
      "state": {}
     },
     "2286c5a17d4644e0a7194d131c45b0cf": {
      "model_module": "@jupyter-widgets/base",
      "model_module_version": "1.2.0",
      "model_name": "LayoutModel",
      "state": {}
     },
     "228fbb8390904b41bbc52e2039c3c653": {
      "model_module": "@jupyter-widgets/base",
      "model_module_version": "1.2.0",
      "model_name": "LayoutModel",
      "state": {}
     },
     "22d4ed76302e4aa2b7f8426590921d76": {
      "model_module": "@jupyter-widgets/base",
      "model_module_version": "1.2.0",
      "model_name": "LayoutModel",
      "state": {}
     },
     "232bcebdc32448818114084581ead033": {
      "model_module": "@jupyter-widgets/base",
      "model_module_version": "1.2.0",
      "model_name": "LayoutModel",
      "state": {}
     },
     "2403831800f143d4ae354321d367bd48": {
      "model_module": "@jupyter-widgets/base",
      "model_module_version": "1.2.0",
      "model_name": "LayoutModel",
      "state": {}
     },
     "240e89777b09460ca3f4b3519e590d5d": {
      "model_module": "@jupyter-widgets/controls",
      "model_module_version": "1.5.0",
      "model_name": "FloatProgressModel",
      "state": {
       "bar_style": "danger",
       "description": " 67%",
       "layout": "IPY_MODEL_e90e36fbee434475974ad866a2167aa7",
       "max": 3,
       "style": "IPY_MODEL_5d342d36f87c493a97d21b6cf340268d",
       "value": 2
      }
     },
     "2420519aabc640c7be3ed86aeff2ca9b": {
      "model_module": "@jupyter-widgets/controls",
      "model_module_version": "1.5.0",
      "model_name": "HBoxModel",
      "state": {
       "children": [
        "IPY_MODEL_cbb83ef7d1be466c82aef645bec01490",
        "IPY_MODEL_f96e0bb25a474b72a808362384fc6be5"
       ],
       "layout": "IPY_MODEL_60e1baca39f84907a1dc563344fb0b57"
      }
     },
     "2569fc93f5b3462eb79132f969298274": {
      "model_module": "@jupyter-widgets/base",
      "model_module_version": "1.2.0",
      "model_name": "LayoutModel",
      "state": {}
     },
     "257fa781cbce4fc98ba8baf232f00583": {
      "model_module": "@jupyter-widgets/controls",
      "model_module_version": "1.5.0",
      "model_name": "DescriptionStyleModel",
      "state": {
       "description_width": ""
      }
     },
     "25abe47591c34ef7ae6666322a8d8b71": {
      "model_module": "@jupyter-widgets/base",
      "model_module_version": "1.2.0",
      "model_name": "LayoutModel",
      "state": {}
     },
     "261e2dbf4a244c1f828ad4d2954c4754": {
      "model_module": "@jupyter-widgets/controls",
      "model_module_version": "1.5.0",
      "model_name": "ProgressStyleModel",
      "state": {
       "description_width": "initial"
      }
     },
     "267aaa8928564944930137e000cd3e88": {
      "model_module": "@jupyter-widgets/base",
      "model_module_version": "1.2.0",
      "model_name": "LayoutModel",
      "state": {}
     },
     "27afdf145ff64bfebf1c32d37555b475": {
      "model_module": "@jupyter-widgets/controls",
      "model_module_version": "1.5.0",
      "model_name": "ProgressStyleModel",
      "state": {
       "description_width": "initial"
      }
     },
     "28752ec98dd9453f85e579891c85f67b": {
      "model_module": "@jupyter-widgets/base",
      "model_module_version": "1.2.0",
      "model_name": "LayoutModel",
      "state": {}
     },
     "2996d8fab8984969bb1f2d0e250776cc": {
      "model_module": "@jupyter-widgets/controls",
      "model_module_version": "1.5.0",
      "model_name": "HBoxModel",
      "state": {
       "children": [
        "IPY_MODEL_dead24b5b21d4e199e5ead50c9022443",
        "IPY_MODEL_d6f0a755b4e84e48aaa830d05dc38d88"
       ],
       "layout": "IPY_MODEL_a6ddd7a72d044d09af37e4018f5eba6d"
      }
     },
     "29fc617ae3ef4f06b379d2354cb714a0": {
      "model_module": "@jupyter-widgets/base",
      "model_module_version": "1.2.0",
      "model_name": "LayoutModel",
      "state": {}
     },
     "2b36e10b25b6416c9b7e131d7a6ba005": {
      "model_module": "@jupyter-widgets/controls",
      "model_module_version": "1.5.0",
      "model_name": "DescriptionStyleModel",
      "state": {
       "description_width": ""
      }
     },
     "2d7f1d18f3c3440394b467ce19e78d61": {
      "model_module": "@jupyter-widgets/controls",
      "model_module_version": "1.5.0",
      "model_name": "FloatProgressModel",
      "state": {
       "bar_style": "success",
       "description": "100%",
       "layout": "IPY_MODEL_94d73d567ae14a7ba8f037c3889b3956",
       "max": 10,
       "style": "IPY_MODEL_119f04f388044dc89b0a870d90867a6b",
       "value": 10
      }
     },
     "31e3c7eb771e480e9594788a5014e1c0": {
      "model_module": "@jupyter-widgets/controls",
      "model_module_version": "1.5.0",
      "model_name": "FloatProgressModel",
      "state": {
       "bar_style": "success",
       "description": "100%",
       "layout": "IPY_MODEL_4476f5c0442343dd8fde737ca713b12c",
       "style": "IPY_MODEL_3936f5017862444087b12b4c5d338417",
       "value": 100
      }
     },
     "324a3240ee694b91b570cfeaecb8f939": {
      "model_module": "@jupyter-widgets/controls",
      "model_module_version": "1.5.0",
      "model_name": "ProgressStyleModel",
      "state": {
       "description_width": "initial"
      }
     },
     "32cc497dc7d944c0beb56ffbf51468ae": {
      "model_module": "@jupyter-widgets/controls",
      "model_module_version": "1.5.0",
      "model_name": "DescriptionStyleModel",
      "state": {
       "description_width": ""
      }
     },
     "32e486d7226d48ea90c7a82cfbf18015": {
      "model_module": "@jupyter-widgets/base",
      "model_module_version": "1.2.0",
      "model_name": "LayoutModel",
      "state": {}
     },
     "34c41ecd5fc5489b8e8835f3f04d35ce": {
      "model_module": "@jupyter-widgets/base",
      "model_module_version": "1.2.0",
      "model_name": "LayoutModel",
      "state": {}
     },
     "36c3ed1c102d4adcbc72f06beeb51491": {
      "model_module": "@jupyter-widgets/controls",
      "model_module_version": "1.5.0",
      "model_name": "HTMLModel",
      "state": {
       "layout": "IPY_MODEL_203cd6e82e5a4290a03fc459b6dbd298",
       "style": "IPY_MODEL_3bf9e09c6e764f9dbef7bc7e933c7b15",
       "value": " 0/10 [00:09&lt;?, ?it/s]"
      }
     },
     "3849cc15f5a543be81c6d682a3ba4605": {
      "model_module": "@jupyter-widgets/controls",
      "model_module_version": "1.5.0",
      "model_name": "ProgressStyleModel",
      "state": {
       "description_width": "initial"
      }
     },
     "384fe913f2de4858bbb5db9b374e38b3": {
      "model_module": "@jupyter-widgets/base",
      "model_module_version": "1.2.0",
      "model_name": "LayoutModel",
      "state": {}
     },
     "3867f0f1eed24717868ac2f6e05fe590": {
      "model_module": "@jupyter-widgets/controls",
      "model_module_version": "1.5.0",
      "model_name": "HTMLModel",
      "state": {
       "layout": "IPY_MODEL_8d528259d11447499a3fd19f3aaa6ebe",
       "style": "IPY_MODEL_efad8fd9a68a4b9ab485b24280e3c8bb",
       "value": " 100/100 [00:01&lt;00:00, 52.02it/s]"
      }
     },
     "389a1a06f48a43399940267f2e1a6794": {
      "model_module": "@jupyter-widgets/controls",
      "model_module_version": "1.5.0",
      "model_name": "HBoxModel",
      "state": {
       "children": [
        "IPY_MODEL_1aa860c9b7864ffb8e0ea3d4cd9c4cd6",
        "IPY_MODEL_903e9b4481254bc7badb8becae37684d"
       ],
       "layout": "IPY_MODEL_fae9a24df7b74e1291a9da981aa200ad"
      }
     },
     "3936f5017862444087b12b4c5d338417": {
      "model_module": "@jupyter-widgets/controls",
      "model_module_version": "1.5.0",
      "model_name": "ProgressStyleModel",
      "state": {
       "description_width": "initial"
      }
     },
     "39e226b05a164d4a879de8cc0d74a4b6": {
      "model_module": "@jupyter-widgets/controls",
      "model_module_version": "1.5.0",
      "model_name": "HBoxModel",
      "state": {
       "children": [
        "IPY_MODEL_1c90cb757d1d441da001916007932fdc",
        "IPY_MODEL_02c6152c7fba477b9dc868292d0e6046"
       ],
       "layout": "IPY_MODEL_f8c2f077314d4574a1753534b2bb6922"
      }
     },
     "3bf9e09c6e764f9dbef7bc7e933c7b15": {
      "model_module": "@jupyter-widgets/controls",
      "model_module_version": "1.5.0",
      "model_name": "DescriptionStyleModel",
      "state": {
       "description_width": ""
      }
     },
     "3c0c8b34361d42afabc9e805daa1aa24": {
      "model_module": "@jupyter-widgets/controls",
      "model_module_version": "1.5.0",
      "model_name": "HBoxModel",
      "state": {
       "children": [
        "IPY_MODEL_71946cdd471b443c99d5be4f73ac7e0c",
        "IPY_MODEL_171760dce57d4762b41b67f71724c322"
       ],
       "layout": "IPY_MODEL_4979b994d86c4da4862402cb717cb67f"
      }
     },
     "3d442c177fa640f889948c3453b5bc8c": {
      "model_module": "@jupyter-widgets/controls",
      "model_module_version": "1.5.0",
      "model_name": "FloatProgressModel",
      "state": {
       "bar_style": "success",
       "description": "100%",
       "layout": "IPY_MODEL_bc67b4b4cd744ebbad50f8ad0140243b",
       "style": "IPY_MODEL_261e2dbf4a244c1f828ad4d2954c4754",
       "value": 100
      }
     },
     "3d5c497e2a654988b00d58f0b34e1d32": {
      "model_module": "@jupyter-widgets/controls",
      "model_module_version": "1.5.0",
      "model_name": "ProgressStyleModel",
      "state": {
       "description_width": "initial"
      }
     },
     "3f72b0512e9c440ba69b1bf9e069e269": {
      "model_module": "@jupyter-widgets/base",
      "model_module_version": "1.2.0",
      "model_name": "LayoutModel",
      "state": {}
     },
     "3fbb90b1f2fe49dea357f3150a798b9c": {
      "model_module": "@jupyter-widgets/controls",
      "model_module_version": "1.5.0",
      "model_name": "HTMLModel",
      "state": {
       "layout": "IPY_MODEL_eb2117ff26ad4490b717ccfd54945ec5",
       "style": "IPY_MODEL_dca4a3b00bd7410194c09cf71350c544",
       "value": " 0/3 [00:00&lt;?, ?it/s]"
      }
     },
     "403f22440b134688a87e14d479f839d4": {
      "model_module": "@jupyter-widgets/base",
      "model_module_version": "1.2.0",
      "model_name": "LayoutModel",
      "state": {}
     },
     "406a33fff6c94b9193f8179192336bbf": {
      "model_module": "@jupyter-widgets/base",
      "model_module_version": "1.2.0",
      "model_name": "LayoutModel",
      "state": {}
     },
     "407e66b7e7804ef3bc4c2adc17da77cf": {
      "model_module": "@jupyter-widgets/controls",
      "model_module_version": "1.5.0",
      "model_name": "HBoxModel",
      "state": {
       "children": [
        "IPY_MODEL_6a475b9effb64ebb9d39fd2a2e58bf3e",
        "IPY_MODEL_b2caa46d6ce64ce4bb45c3f8751f67c7"
       ],
       "layout": "IPY_MODEL_dee83b1570184e5d83bbe6359ea27319"
      }
     },
     "41a06e70f27b439caa8b1c4efd47c183": {
      "model_module": "@jupyter-widgets/controls",
      "model_module_version": "1.5.0",
      "model_name": "FloatProgressModel",
      "state": {
       "bar_style": "success",
       "description": "100%",
       "layout": "IPY_MODEL_29fc617ae3ef4f06b379d2354cb714a0",
       "style": "IPY_MODEL_892369198c1541858d1faa8212879fd7",
       "value": 100
      }
     },
     "42420a4826064dd5b040b0a2e828c8a3": {
      "model_module": "@jupyter-widgets/base",
      "model_module_version": "1.2.0",
      "model_name": "LayoutModel",
      "state": {}
     },
     "43aa8b592a84474688969c4786d5d173": {
      "model_module": "@jupyter-widgets/base",
      "model_module_version": "1.2.0",
      "model_name": "LayoutModel",
      "state": {}
     },
     "4476f5c0442343dd8fde737ca713b12c": {
      "model_module": "@jupyter-widgets/base",
      "model_module_version": "1.2.0",
      "model_name": "LayoutModel",
      "state": {}
     },
     "45584b065cf244b0be2b2088e7d55179": {
      "model_module": "@jupyter-widgets/base",
      "model_module_version": "1.2.0",
      "model_name": "LayoutModel",
      "state": {}
     },
     "45b8fd8509a447f4832edea93869d1eb": {
      "model_module": "@jupyter-widgets/controls",
      "model_module_version": "1.5.0",
      "model_name": "FloatProgressModel",
      "state": {
       "bar_style": "success",
       "description": "100%",
       "layout": "IPY_MODEL_9e489bfb9c244f50a73ee7298463381a",
       "style": "IPY_MODEL_b1f07e4b807340dbb535e16c232f3247",
       "value": 100
      }
     },
     "463c8ee8cfb54ff7ac54aec95c0e5bb7": {
      "model_module": "@jupyter-widgets/controls",
      "model_module_version": "1.5.0",
      "model_name": "HTMLModel",
      "state": {
       "layout": "IPY_MODEL_f6805b6e595346e8906355024ff4c1c9",
       "style": "IPY_MODEL_fa6e5812fff241348d77438c3a7c8e1c",
       "value": " 100/100 [00:01&lt;00:00, 78.32it/s]"
      }
     },
     "46d8f854cba742c599bf7a76462f9b8e": {
      "model_module": "@jupyter-widgets/controls",
      "model_module_version": "1.5.0",
      "model_name": "DescriptionStyleModel",
      "state": {
       "description_width": ""
      }
     },
     "47d290fea54840f5b84e049e111bc499": {
      "model_module": "@jupyter-widgets/base",
      "model_module_version": "1.2.0",
      "model_name": "LayoutModel",
      "state": {}
     },
     "4979b994d86c4da4862402cb717cb67f": {
      "model_module": "@jupyter-widgets/base",
      "model_module_version": "1.2.0",
      "model_name": "LayoutModel",
      "state": {}
     },
     "4b85a4e33ddf4c46a1db1b709594a060": {
      "model_module": "@jupyter-widgets/base",
      "model_module_version": "1.2.0",
      "model_name": "LayoutModel",
      "state": {}
     },
     "4da662acf1d541ea83794c3a64c559c0": {
      "model_module": "@jupyter-widgets/base",
      "model_module_version": "1.2.0",
      "model_name": "LayoutModel",
      "state": {}
     },
     "4ed944489c874225aca72019edf6ef45": {
      "model_module": "@jupyter-widgets/controls",
      "model_module_version": "1.5.0",
      "model_name": "FloatProgressModel",
      "state": {
       "bar_style": "success",
       "description": "100%",
       "layout": "IPY_MODEL_b2e934d849674d64a2aaa6b4f11b2a49",
       "style": "IPY_MODEL_0531e841e4f445a393fa3ebdd2124e85",
       "value": 100
      }
     },
     "4f38b368807041ea96dd7a825d31d8e8": {
      "model_module": "@jupyter-widgets/controls",
      "model_module_version": "1.5.0",
      "model_name": "FloatProgressModel",
      "state": {
       "bar_style": "success",
       "description": "100%",
       "layout": "IPY_MODEL_782e84a4a024494aaf4f97ee0bd228d9",
       "max": 1000,
       "style": "IPY_MODEL_63fa14a6e1134494820729517a35bd3a",
       "value": 1000
      }
     },
     "4f55c737afc440f98c11d15a440cadf5": {
      "model_module": "@jupyter-widgets/base",
      "model_module_version": "1.2.0",
      "model_name": "LayoutModel",
      "state": {}
     },
     "4f86ebf914e04eb99eead7b5bb380290": {
      "model_module": "@jupyter-widgets/controls",
      "model_module_version": "1.5.0",
      "model_name": "HTMLModel",
      "state": {
       "layout": "IPY_MODEL_9ccfd77bfc1749539c56b0068ff7ba9d",
       "style": "IPY_MODEL_8bc57d58441c45bbae97cedf08250fb1",
       "value": " 100/100 [00:01&lt;00:00, 64.69it/s]"
      }
     },
     "4f8a6b64c9f94adbbd8d1436566039dc": {
      "model_module": "@jupyter-widgets/base",
      "model_module_version": "1.2.0",
      "model_name": "LayoutModel",
      "state": {}
     },
     "50720896655b4869a63dd195ae8f178a": {
      "model_module": "@jupyter-widgets/base",
      "model_module_version": "1.2.0",
      "model_name": "LayoutModel",
      "state": {}
     },
     "51df7ceb7420495798010e6540c96b96": {
      "model_module": "@jupyter-widgets/controls",
      "model_module_version": "1.5.0",
      "model_name": "DescriptionStyleModel",
      "state": {
       "description_width": ""
      }
     },
     "51e2785d71394b97bbdabe834c8e0cc2": {
      "model_module": "@jupyter-widgets/controls",
      "model_module_version": "1.5.0",
      "model_name": "HTMLModel",
      "state": {
       "layout": "IPY_MODEL_d6d14bce0f434f329d08bc2e5d1175eb",
       "style": "IPY_MODEL_f5f7ee0ec9114d26a7c4875062ac140c",
       "value": " 100/100 [00:00&lt;00:00, 272.55it/s]"
      }
     },
     "53f14ae42eeb4ef1aa0656ffa45b2871": {
      "model_module": "@jupyter-widgets/controls",
      "model_module_version": "1.5.0",
      "model_name": "ProgressStyleModel",
      "state": {
       "description_width": "initial"
      }
     },
     "54dcf1fd779547359e726c175fafb584": {
      "model_module": "@jupyter-widgets/base",
      "model_module_version": "1.2.0",
      "model_name": "LayoutModel",
      "state": {}
     },
     "550fbaa71ad54befb6f83da66609695a": {
      "model_module": "@jupyter-widgets/base",
      "model_module_version": "1.2.0",
      "model_name": "LayoutModel",
      "state": {}
     },
     "5664c7171cbf4375b89bc2680b5e4eed": {
      "model_module": "@jupyter-widgets/base",
      "model_module_version": "1.2.0",
      "model_name": "LayoutModel",
      "state": {}
     },
     "56e11373aa834b258f29043f631560e7": {
      "model_module": "@jupyter-widgets/controls",
      "model_module_version": "1.5.0",
      "model_name": "HTMLModel",
      "state": {
       "layout": "IPY_MODEL_674c576140fa43b19a13b30a5f8785ec",
       "style": "IPY_MODEL_835b6b4d508340df93c3de0b0988705d",
       "value": " 0/3 [00:14&lt;?, ?it/s]"
      }
     },
     "57632e9b056c489f8871d4541ffdaa3f": {
      "model_module": "@jupyter-widgets/controls",
      "model_module_version": "1.5.0",
      "model_name": "FloatProgressModel",
      "state": {
       "bar_style": "danger",
       "description": "  0%",
       "layout": "IPY_MODEL_6d415b88d26b46768007c5df5497ffc1",
       "max": 1000,
       "style": "IPY_MODEL_79fa75c32f7e4ccf8f28c7055db6e413",
       "value": 4
      }
     },
     "5acdeae7f2e141e5b39b7e9c270b41c5": {
      "model_module": "@jupyter-widgets/controls",
      "model_module_version": "1.5.0",
      "model_name": "DescriptionStyleModel",
      "state": {
       "description_width": ""
      }
     },
     "5c2fc22c80484e6a8c6d867ebdf09e43": {
      "model_module": "@jupyter-widgets/controls",
      "model_module_version": "1.5.0",
      "model_name": "FloatProgressModel",
      "state": {
       "bar_style": "danger",
       "description": "  0%",
       "layout": "IPY_MODEL_e1bee0798bb64856a2955e95d1e2844e",
       "max": 3,
       "style": "IPY_MODEL_7b97cdbac7a14ed59d4e85f90fd41657"
      }
     },
     "5c7263dcc8e34d50b1c16019b5aa73d3": {
      "model_module": "@jupyter-widgets/controls",
      "model_module_version": "1.5.0",
      "model_name": "HTMLModel",
      "state": {
       "layout": "IPY_MODEL_038aba438a384ef394afdb09b61a3c85",
       "style": "IPY_MODEL_9a8e698aba99471b84ec601aa083289f",
       "value": " 4/1000 [00:05&lt;21:25,  1.29s/it]"
      }
     },
     "5c8084ab6f9d4033b9213e3c088fbcdb": {
      "model_module": "@jupyter-widgets/controls",
      "model_module_version": "1.5.0",
      "model_name": "FloatProgressModel",
      "state": {
       "bar_style": "success",
       "description": "100%",
       "layout": "IPY_MODEL_cef9dc4575934c00842b0d5bb17bceb2",
       "style": "IPY_MODEL_7489a4568fc841d497dbe37950b91536",
       "value": 100
      }
     },
     "5d2536e07a6341c985453268144c2c48": {
      "model_module": "@jupyter-widgets/base",
      "model_module_version": "1.2.0",
      "model_name": "LayoutModel",
      "state": {}
     },
     "5d342d36f87c493a97d21b6cf340268d": {
      "model_module": "@jupyter-widgets/controls",
      "model_module_version": "1.5.0",
      "model_name": "ProgressStyleModel",
      "state": {
       "description_width": "initial"
      }
     },
     "5d90c54362aa488186c78a4ea3434709": {
      "model_module": "@jupyter-widgets/controls",
      "model_module_version": "1.5.0",
      "model_name": "DescriptionStyleModel",
      "state": {
       "description_width": ""
      }
     },
     "5dc1304af8614a8fb932126f03985f89": {
      "model_module": "@jupyter-widgets/base",
      "model_module_version": "1.2.0",
      "model_name": "LayoutModel",
      "state": {}
     },
     "5e7b81980a4a4568b403bebe28d362ff": {
      "model_module": "@jupyter-widgets/controls",
      "model_module_version": "1.5.0",
      "model_name": "HBoxModel",
      "state": {
       "children": [
        "IPY_MODEL_c395cb00eb354c71855f234ca9a12800",
        "IPY_MODEL_ad5920cef2ea4f4985ae6fa65840348d"
       ],
       "layout": "IPY_MODEL_c443d60e03b94575af8d97d9840e85c5"
      }
     },
     "5f3c5e21f9b64ccc9aad5e3d6f2cdf8f": {
      "model_module": "@jupyter-widgets/controls",
      "model_module_version": "1.5.0",
      "model_name": "ProgressStyleModel",
      "state": {
       "description_width": "initial"
      }
     },
     "5f4ab15e36ef40b5a259051d9e9c9e8e": {
      "model_module": "@jupyter-widgets/controls",
      "model_module_version": "1.5.0",
      "model_name": "HTMLModel",
      "state": {
       "layout": "IPY_MODEL_8d386b7c2dfe43fc8538d80199b9d01e",
       "style": "IPY_MODEL_ff80cc196b47405d9278799eb7f82305",
       "value": " 100/100 [05:47&lt;00:00,  3.48s/it]"
      }
     },
     "60e1baca39f84907a1dc563344fb0b57": {
      "model_module": "@jupyter-widgets/base",
      "model_module_version": "1.2.0",
      "model_name": "LayoutModel",
      "state": {}
     },
     "627c78e6f9c04e6aa350da5225889a62": {
      "model_module": "@jupyter-widgets/controls",
      "model_module_version": "1.5.0",
      "model_name": "HTMLModel",
      "state": {
       "layout": "IPY_MODEL_97f3d1221be14b48a50c47317eaa0ff4",
       "style": "IPY_MODEL_206e90c2b08345fbbb0e40e58cda9aca",
       "value": " 1/100 [03:35&lt;5:54:47, 215.03s/it]"
      }
     },
     "62b50e48a29a42e5bed6a56792954a57": {
      "model_module": "@jupyter-widgets/controls",
      "model_module_version": "1.5.0",
      "model_name": "HBoxModel",
      "state": {
       "children": [
        "IPY_MODEL_2d7f1d18f3c3440394b467ce19e78d61",
        "IPY_MODEL_916a616998024922bee6fc940fa91a43"
       ],
       "layout": "IPY_MODEL_b6a0bd8befb34a54b7ae2dd70a3d62f7"
      }
     },
     "62d7c71031f34a7091fe7966a5808659": {
      "model_module": "@jupyter-widgets/controls",
      "model_module_version": "1.5.0",
      "model_name": "HTMLModel",
      "state": {
       "layout": "IPY_MODEL_89e1dd3129104271a21f5300fa290d84",
       "style": "IPY_MODEL_faada6e9b2164e7297f508ed0e47aac6",
       "value": " 0/3 [00:45&lt;?, ?it/s]"
      }
     },
     "633eeeee77144102993a03f8c54af0b9": {
      "model_module": "@jupyter-widgets/controls",
      "model_module_version": "1.5.0",
      "model_name": "DescriptionStyleModel",
      "state": {
       "description_width": ""
      }
     },
     "63fa14a6e1134494820729517a35bd3a": {
      "model_module": "@jupyter-widgets/controls",
      "model_module_version": "1.5.0",
      "model_name": "ProgressStyleModel",
      "state": {
       "description_width": "initial"
      }
     },
     "6411423bdff44842a568ad08ef93b2bb": {
      "model_module": "@jupyter-widgets/base",
      "model_module_version": "1.2.0",
      "model_name": "LayoutModel",
      "state": {}
     },
     "666a36e62b6341a89838c385a5e459de": {
      "model_module": "@jupyter-widgets/controls",
      "model_module_version": "1.5.0",
      "model_name": "HBoxModel",
      "state": {
       "children": [
        "IPY_MODEL_79dc667009b24549bead456765a64870",
        "IPY_MODEL_dd4c8ea91365463c9e01132beed49a95"
       ],
       "layout": "IPY_MODEL_834facb58cd0417faa67671860d25687"
      }
     },
     "66dc9eac5eee40a0a43c362f7fc036c2": {
      "model_module": "@jupyter-widgets/base",
      "model_module_version": "1.2.0",
      "model_name": "LayoutModel",
      "state": {}
     },
     "673ccb2d9a354c49838d9740a88ec760": {
      "model_module": "@jupyter-widgets/controls",
      "model_module_version": "1.5.0",
      "model_name": "FloatProgressModel",
      "state": {
       "bar_style": "danger",
       "description": "  0%",
       "layout": "IPY_MODEL_550fbaa71ad54befb6f83da66609695a",
       "max": 10,
       "style": "IPY_MODEL_e6897dcfabeb486d8e555d1969f35024"
      }
     },
     "67406e5fe91240e69eea1ebf6c5481d6": {
      "model_module": "@jupyter-widgets/controls",
      "model_module_version": "1.5.0",
      "model_name": "ProgressStyleModel",
      "state": {
       "description_width": "initial"
      }
     },
     "674c576140fa43b19a13b30a5f8785ec": {
      "model_module": "@jupyter-widgets/base",
      "model_module_version": "1.2.0",
      "model_name": "LayoutModel",
      "state": {}
     },
     "680d5eadd91e47f2a99d8be5f65780ad": {
      "model_module": "@jupyter-widgets/base",
      "model_module_version": "1.2.0",
      "model_name": "LayoutModel",
      "state": {}
     },
     "683b3c32e25346eaa549610aac748585": {
      "model_module": "@jupyter-widgets/controls",
      "model_module_version": "1.5.0",
      "model_name": "FloatProgressModel",
      "state": {
       "bar_style": "success",
       "description": "100%",
       "layout": "IPY_MODEL_5664c7171cbf4375b89bc2680b5e4eed",
       "style": "IPY_MODEL_de3f59afd94647c4ba47ba418078e9bb",
       "value": 100
      }
     },
     "6a1cc01c47bd48ac9e34c0427f6b4879": {
      "model_module": "@jupyter-widgets/controls",
      "model_module_version": "1.5.0",
      "model_name": "HBoxModel",
      "state": {
       "children": [
        "IPY_MODEL_57632e9b056c489f8871d4541ffdaa3f",
        "IPY_MODEL_5c7263dcc8e34d50b1c16019b5aa73d3"
       ],
       "layout": "IPY_MODEL_c016bdfdea354bcab289057e051a3ad5"
      }
     },
     "6a475b9effb64ebb9d39fd2a2e58bf3e": {
      "model_module": "@jupyter-widgets/controls",
      "model_module_version": "1.5.0",
      "model_name": "FloatProgressModel",
      "state": {
       "bar_style": "danger",
       "description": "  0%",
       "layout": "IPY_MODEL_32e486d7226d48ea90c7a82cfbf18015",
       "max": 3,
       "style": "IPY_MODEL_9c26016d6fb1470787dc3aca3e72ab6f"
      }
     },
     "6d415b88d26b46768007c5df5497ffc1": {
      "model_module": "@jupyter-widgets/base",
      "model_module_version": "1.2.0",
      "model_name": "LayoutModel",
      "state": {}
     },
     "6e5baab56ceb4cc48effc52784dbb9c9": {
      "model_module": "@jupyter-widgets/base",
      "model_module_version": "1.2.0",
      "model_name": "LayoutModel",
      "state": {}
     },
     "71946cdd471b443c99d5be4f73ac7e0c": {
      "model_module": "@jupyter-widgets/controls",
      "model_module_version": "1.5.0",
      "model_name": "FloatProgressModel",
      "state": {
       "bar_style": "success",
       "description": "100%",
       "layout": "IPY_MODEL_e127fed7c715480db985c60d650ddb71",
       "style": "IPY_MODEL_b3e5b47053194838beb459477b7e77ab",
       "value": 100
      }
     },
     "7351158453cb416f87a557729b5183c2": {
      "model_module": "@jupyter-widgets/controls",
      "model_module_version": "1.5.0",
      "model_name": "HTMLModel",
      "state": {
       "layout": "IPY_MODEL_ad70a7a984904627bacc92bd59425374",
       "style": "IPY_MODEL_d89a224c455545909ccb568dd37ffb6c",
       "value": " 100/100 [00:02&lt;00:00, 36.37it/s]"
      }
     },
     "741a21a2c2c649eba856b619e4ea56ee": {
      "model_module": "@jupyter-widgets/controls",
      "model_module_version": "1.5.0",
      "model_name": "HBoxModel",
      "state": {
       "children": [
        "IPY_MODEL_77171bad003b42e69db8daadfa867440",
        "IPY_MODEL_a647764b83cb4ab6847ccf7fe75bed5c"
       ],
       "layout": "IPY_MODEL_9c14e89fb5aa4c5b9999a4dfcf05f040"
      }
     },
     "74599b58276044b29bb4573f84a61aa9": {
      "model_module": "@jupyter-widgets/base",
      "model_module_version": "1.2.0",
      "model_name": "LayoutModel",
      "state": {}
     },
     "7489a4568fc841d497dbe37950b91536": {
      "model_module": "@jupyter-widgets/controls",
      "model_module_version": "1.5.0",
      "model_name": "ProgressStyleModel",
      "state": {
       "description_width": "initial"
      }
     },
     "7522bbe06fca4d0995fc19e902ed18ec": {
      "model_module": "@jupyter-widgets/controls",
      "model_module_version": "1.5.0",
      "model_name": "HBoxModel",
      "state": {
       "children": [
        "IPY_MODEL_17dbe6fbee8d46cebcaa0bcecbff624e",
        "IPY_MODEL_f4570af09b4d441c8eda28f494cf9d59"
       ],
       "layout": "IPY_MODEL_bfc88acf2c7f497fafa0f9a82f0f3445"
      }
     },
     "762b3b533d344697b94b0aaf0ff03c8b": {
      "model_module": "@jupyter-widgets/controls",
      "model_module_version": "1.5.0",
      "model_name": "FloatProgressModel",
      "state": {
       "bar_style": "danger",
       "description": "  0%",
       "layout": "IPY_MODEL_2569fc93f5b3462eb79132f969298274",
       "max": 3,
       "style": "IPY_MODEL_20dd9be712434b45bc042f68f29f7728"
      }
     },
     "76845fd0bc0240f9b70182caf171f491": {
      "model_module": "@jupyter-widgets/controls",
      "model_module_version": "1.5.0",
      "model_name": "ProgressStyleModel",
      "state": {
       "description_width": "initial"
      }
     },
     "77171bad003b42e69db8daadfa867440": {
      "model_module": "@jupyter-widgets/controls",
      "model_module_version": "1.5.0",
      "model_name": "FloatProgressModel",
      "state": {
       "bar_style": "danger",
       "description": "  0%",
       "layout": "IPY_MODEL_224d4a68bc7c417fbd17a720104b88c7",
       "max": 3,
       "style": "IPY_MODEL_abcedfdc1bd4434fb4b32ce6e344538c"
      }
     },
     "77f27786b0de48c3bd6738114820980c": {
      "model_module": "@jupyter-widgets/controls",
      "model_module_version": "1.5.0",
      "model_name": "ProgressStyleModel",
      "state": {
       "description_width": "initial"
      }
     },
     "782e84a4a024494aaf4f97ee0bd228d9": {
      "model_module": "@jupyter-widgets/base",
      "model_module_version": "1.2.0",
      "model_name": "LayoutModel",
      "state": {}
     },
     "785d12e165804f09acfa2260003fb4a9": {
      "model_module": "@jupyter-widgets/controls",
      "model_module_version": "1.5.0",
      "model_name": "HBoxModel",
      "state": {
       "children": [
        "IPY_MODEL_4f38b368807041ea96dd7a825d31d8e8",
        "IPY_MODEL_b9ad42551451457eb80cda9e59d5f700"
       ],
       "layout": "IPY_MODEL_176135bd7f6a409ea01e3b99e88d2749"
      }
     },
     "78c3204af72549c6a49ae94099969cfb": {
      "model_module": "@jupyter-widgets/controls",
      "model_module_version": "1.5.0",
      "model_name": "HBoxModel",
      "state": {
       "children": [
        "IPY_MODEL_4ed944489c874225aca72019edf6ef45",
        "IPY_MODEL_80c01b34cf5b434b8b0ca856e4460a19"
       ],
       "layout": "IPY_MODEL_e10632288f0f4572bd0ed845ab22ed4a"
      }
     },
     "79dc667009b24549bead456765a64870": {
      "model_module": "@jupyter-widgets/controls",
      "model_module_version": "1.5.0",
      "model_name": "FloatProgressModel",
      "state": {
       "bar_style": "success",
       "description": "100%",
       "layout": "IPY_MODEL_7a91391662584b9ab8a5e7ef816f7a5a",
       "max": 1000,
       "style": "IPY_MODEL_7b714decd0114ecf94de51e633606927",
       "value": 1000
      }
     },
     "79e11cbe67494d6b85cd853125f738fc": {
      "model_module": "@jupyter-widgets/controls",
      "model_module_version": "1.5.0",
      "model_name": "FloatProgressModel",
      "state": {
       "bar_style": "success",
       "description": "100%",
       "layout": "IPY_MODEL_406a33fff6c94b9193f8179192336bbf",
       "max": 1000,
       "style": "IPY_MODEL_3849cc15f5a543be81c6d682a3ba4605",
       "value": 1000
      }
     },
     "79fa75c32f7e4ccf8f28c7055db6e413": {
      "model_module": "@jupyter-widgets/controls",
      "model_module_version": "1.5.0",
      "model_name": "ProgressStyleModel",
      "state": {
       "description_width": "initial"
      }
     },
     "7a91391662584b9ab8a5e7ef816f7a5a": {
      "model_module": "@jupyter-widgets/base",
      "model_module_version": "1.2.0",
      "model_name": "LayoutModel",
      "state": {}
     },
     "7b0cf691eeb64cc3ba7b0a6102002d38": {
      "model_module": "@jupyter-widgets/controls",
      "model_module_version": "1.5.0",
      "model_name": "HBoxModel",
      "state": {
       "children": [
        "IPY_MODEL_762b3b533d344697b94b0aaf0ff03c8b",
        "IPY_MODEL_62d7c71031f34a7091fe7966a5808659"
       ],
       "layout": "IPY_MODEL_384fe913f2de4858bbb5db9b374e38b3"
      }
     },
     "7b4ff79a075a43a8a95d92fefbc91be8": {
      "model_module": "@jupyter-widgets/controls",
      "model_module_version": "1.5.0",
      "model_name": "DescriptionStyleModel",
      "state": {
       "description_width": ""
      }
     },
     "7b714decd0114ecf94de51e633606927": {
      "model_module": "@jupyter-widgets/controls",
      "model_module_version": "1.5.0",
      "model_name": "ProgressStyleModel",
      "state": {
       "description_width": "initial"
      }
     },
     "7b97cdbac7a14ed59d4e85f90fd41657": {
      "model_module": "@jupyter-widgets/controls",
      "model_module_version": "1.5.0",
      "model_name": "ProgressStyleModel",
      "state": {
       "description_width": "initial"
      }
     },
     "7bc260c0c7484e42be234c24be554bc8": {
      "model_module": "@jupyter-widgets/controls",
      "model_module_version": "1.5.0",
      "model_name": "HTMLModel",
      "state": {
       "layout": "IPY_MODEL_d525fd8541554d8da44ca1856d54aa66",
       "style": "IPY_MODEL_92af342d7c6d4c3e8b2aa7c514b92316",
       "value": " 0/3 [00:05&lt;?, ?it/s]"
      }
     },
     "7f6ee2b0891f476e80e47c4d18056f8b": {
      "model_module": "@jupyter-widgets/base",
      "model_module_version": "1.2.0",
      "model_name": "LayoutModel",
      "state": {}
     },
     "7fcb6ce4a781461199ff99a449f2bbd0": {
      "model_module": "@jupyter-widgets/controls",
      "model_module_version": "1.5.0",
      "model_name": "HBoxModel",
      "state": {
       "children": [
        "IPY_MODEL_1e08f567a4d246509a7244a1125dc67f",
        "IPY_MODEL_c232aa59ee214881878d9e229bbd26ed"
       ],
       "layout": "IPY_MODEL_5d2536e07a6341c985453268144c2c48"
      }
     },
     "80c01b34cf5b434b8b0ca856e4460a19": {
      "model_module": "@jupyter-widgets/controls",
      "model_module_version": "1.5.0",
      "model_name": "HTMLModel",
      "state": {
       "layout": "IPY_MODEL_a1e28634ed7545ae81cf8f82f4c47ae2",
       "style": "IPY_MODEL_10498806c24a41b7b7d0f45ddc3a5c73",
       "value": " 100/100 [00:02&lt;00:00, 45.83it/s]"
      }
     },
     "829b67ebc8c94def8136426b3dbc3c79": {
      "model_module": "@jupyter-widgets/controls",
      "model_module_version": "1.5.0",
      "model_name": "DescriptionStyleModel",
      "state": {
       "description_width": ""
      }
     },
     "834facb58cd0417faa67671860d25687": {
      "model_module": "@jupyter-widgets/base",
      "model_module_version": "1.2.0",
      "model_name": "LayoutModel",
      "state": {}
     },
     "835b6b4d508340df93c3de0b0988705d": {
      "model_module": "@jupyter-widgets/controls",
      "model_module_version": "1.5.0",
      "model_name": "DescriptionStyleModel",
      "state": {
       "description_width": ""
      }
     },
     "83c6cf7457b14130926a8be2d3c7590f": {
      "model_module": "@jupyter-widgets/controls",
      "model_module_version": "1.5.0",
      "model_name": "HBoxModel",
      "state": {
       "children": [
        "IPY_MODEL_18006a0ee32b404ca07bc390e1e45ed6",
        "IPY_MODEL_7351158453cb416f87a557729b5183c2"
       ],
       "layout": "IPY_MODEL_d64b923588964006bde66ec8e61f1e35"
      }
     },
     "851d21057f0f4d118b0a38fe70ecce29": {
      "model_module": "@jupyter-widgets/controls",
      "model_module_version": "1.5.0",
      "model_name": "HBoxModel",
      "state": {
       "children": [
        "IPY_MODEL_982b424aa60145208824aa87cb8cfc5d",
        "IPY_MODEL_bc062a826f904b6eb43c6cd39f4bec96"
       ],
       "layout": "IPY_MODEL_74599b58276044b29bb4573f84a61aa9"
      }
     },
     "87ed16bbd72741d087f8baf9e5f14209": {
      "model_module": "@jupyter-widgets/controls",
      "model_module_version": "1.5.0",
      "model_name": "FloatProgressModel",
      "state": {
       "bar_style": "success",
       "description": "100%",
       "layout": "IPY_MODEL_dbc5b0228e2b4d239a74d6601ace49e9",
       "style": "IPY_MODEL_53f14ae42eeb4ef1aa0656ffa45b2871",
       "value": 100
      }
     },
     "892369198c1541858d1faa8212879fd7": {
      "model_module": "@jupyter-widgets/controls",
      "model_module_version": "1.5.0",
      "model_name": "ProgressStyleModel",
      "state": {
       "description_width": "initial"
      }
     },
     "89da3eded86947289a3b8f8a83e655ea": {
      "model_module": "@jupyter-widgets/controls",
      "model_module_version": "1.5.0",
      "model_name": "DescriptionStyleModel",
      "state": {
       "description_width": ""
      }
     },
     "89e1dd3129104271a21f5300fa290d84": {
      "model_module": "@jupyter-widgets/base",
      "model_module_version": "1.2.0",
      "model_name": "LayoutModel",
      "state": {}
     },
     "8a8ffad0b483405db97834d95dbc521d": {
      "model_module": "@jupyter-widgets/controls",
      "model_module_version": "1.5.0",
      "model_name": "ProgressStyleModel",
      "state": {
       "description_width": "initial"
      }
     },
     "8bc57d58441c45bbae97cedf08250fb1": {
      "model_module": "@jupyter-widgets/controls",
      "model_module_version": "1.5.0",
      "model_name": "DescriptionStyleModel",
      "state": {
       "description_width": ""
      }
     },
     "8c0718a19a124e55b842392bb28f6ecd": {
      "model_module": "@jupyter-widgets/base",
      "model_module_version": "1.2.0",
      "model_name": "LayoutModel",
      "state": {}
     },
     "8c981ee7a7db4dcdad62c9a95de50e6e": {
      "model_module": "@jupyter-widgets/controls",
      "model_module_version": "1.5.0",
      "model_name": "DescriptionStyleModel",
      "state": {
       "description_width": ""
      }
     },
     "8d386b7c2dfe43fc8538d80199b9d01e": {
      "model_module": "@jupyter-widgets/base",
      "model_module_version": "1.2.0",
      "model_name": "LayoutModel",
      "state": {}
     },
     "8d528259d11447499a3fd19f3aaa6ebe": {
      "model_module": "@jupyter-widgets/base",
      "model_module_version": "1.2.0",
      "model_name": "LayoutModel",
      "state": {}
     },
     "903e9b4481254bc7badb8becae37684d": {
      "model_module": "@jupyter-widgets/controls",
      "model_module_version": "1.5.0",
      "model_name": "HTMLModel",
      "state": {
       "layout": "IPY_MODEL_d7d41293bfc74b8e815edd592699f11b",
       "style": "IPY_MODEL_98572372a339429b815c9fb4ea8c867c",
       "value": " 0/10000 [00:22&lt;?, ?it/s]"
      }
     },
     "916a616998024922bee6fc940fa91a43": {
      "model_module": "@jupyter-widgets/controls",
      "model_module_version": "1.5.0",
      "model_name": "HTMLModel",
      "state": {
       "layout": "IPY_MODEL_47d290fea54840f5b84e049e111bc499",
       "style": "IPY_MODEL_5d90c54362aa488186c78a4ea3434709",
       "value": " 10/10 [00:06&lt;00:00,  1.64it/s]"
      }
     },
     "91d7c3979e384933a7e45364a94d25d8": {
      "model_module": "@jupyter-widgets/controls",
      "model_module_version": "1.5.0",
      "model_name": "HBoxModel",
      "state": {
       "children": [
        "IPY_MODEL_45b8fd8509a447f4832edea93869d1eb",
        "IPY_MODEL_cebe84d717ed46d6bc497c4d8dd542fb"
       ],
       "layout": "IPY_MODEL_111dde095aa441e9b739ccf7d51d783c"
      }
     },
     "9237f946ca42449bb11b3f1d863a5fb9": {
      "model_module": "@jupyter-widgets/base",
      "model_module_version": "1.2.0",
      "model_name": "LayoutModel",
      "state": {}
     },
     "92af342d7c6d4c3e8b2aa7c514b92316": {
      "model_module": "@jupyter-widgets/controls",
      "model_module_version": "1.5.0",
      "model_name": "DescriptionStyleModel",
      "state": {
       "description_width": ""
      }
     },
     "93a9a41594f04ed899abf79f1d6b4029": {
      "model_module": "@jupyter-widgets/base",
      "model_module_version": "1.2.0",
      "model_name": "LayoutModel",
      "state": {}
     },
     "94d73d567ae14a7ba8f037c3889b3956": {
      "model_module": "@jupyter-widgets/base",
      "model_module_version": "1.2.0",
      "model_name": "LayoutModel",
      "state": {}
     },
     "966f9914cc0945b89736cf8c1167f72e": {
      "model_module": "@jupyter-widgets/base",
      "model_module_version": "1.2.0",
      "model_name": "LayoutModel",
      "state": {}
     },
     "97f3d1221be14b48a50c47317eaa0ff4": {
      "model_module": "@jupyter-widgets/base",
      "model_module_version": "1.2.0",
      "model_name": "LayoutModel",
      "state": {}
     },
     "982b424aa60145208824aa87cb8cfc5d": {
      "model_module": "@jupyter-widgets/controls",
      "model_module_version": "1.5.0",
      "model_name": "FloatProgressModel",
      "state": {
       "bar_style": "danger",
       "description": " 33%",
       "layout": "IPY_MODEL_4f8a6b64c9f94adbbd8d1436566039dc",
       "max": 3,
       "style": "IPY_MODEL_9ae7333ee32143b59eba4d78e5ef9b4d",
       "value": 1
      }
     },
     "98572372a339429b815c9fb4ea8c867c": {
      "model_module": "@jupyter-widgets/controls",
      "model_module_version": "1.5.0",
      "model_name": "DescriptionStyleModel",
      "state": {
       "description_width": ""
      }
     },
     "98b5433b21884c9595972e9969afc26e": {
      "model_module": "@jupyter-widgets/controls",
      "model_module_version": "1.5.0",
      "model_name": "HTMLModel",
      "state": {
       "layout": "IPY_MODEL_9e1a30f729f046f7bd0e7bb5ef6491b9",
       "style": "IPY_MODEL_7b4ff79a075a43a8a95d92fefbc91be8",
       "value": " 2/3 [05:55&lt;02:57, 177.69s/it]"
      }
     },
     "99e635e51e9f438082c6a5d7effc8ccc": {
      "model_module": "@jupyter-widgets/controls",
      "model_module_version": "1.5.0",
      "model_name": "HBoxModel",
      "state": {
       "children": [
        "IPY_MODEL_20b0a8fe4eca4a6883219835db2c0077",
        "IPY_MODEL_5f4ab15e36ef40b5a259051d9e9c9e8e"
       ],
       "layout": "IPY_MODEL_966f9914cc0945b89736cf8c1167f72e"
      }
     },
     "9a8e698aba99471b84ec601aa083289f": {
      "model_module": "@jupyter-widgets/controls",
      "model_module_version": "1.5.0",
      "model_name": "DescriptionStyleModel",
      "state": {
       "description_width": ""
      }
     },
     "9ae7333ee32143b59eba4d78e5ef9b4d": {
      "model_module": "@jupyter-widgets/controls",
      "model_module_version": "1.5.0",
      "model_name": "ProgressStyleModel",
      "state": {
       "description_width": "initial"
      }
     },
     "9b615d83611d4ec997563af3d905122a": {
      "model_module": "@jupyter-widgets/controls",
      "model_module_version": "1.5.0",
      "model_name": "HBoxModel",
      "state": {
       "children": [
        "IPY_MODEL_5c8084ab6f9d4033b9213e3c088fbcdb",
        "IPY_MODEL_c740b883595e4b24855751342728d9f1"
       ],
       "layout": "IPY_MODEL_0e823dd9e0d2457dbff66c535c001781"
      }
     },
     "9c07664e163d46c1bf31107524f6d2a4": {
      "model_module": "@jupyter-widgets/controls",
      "model_module_version": "1.5.0",
      "model_name": "HBoxModel",
      "state": {
       "children": [
        "IPY_MODEL_d6c4746496474ea7b72948e0f8d64726",
        "IPY_MODEL_627c78e6f9c04e6aa350da5225889a62"
       ],
       "layout": "IPY_MODEL_66dc9eac5eee40a0a43c362f7fc036c2"
      }
     },
     "9c14e89fb5aa4c5b9999a4dfcf05f040": {
      "model_module": "@jupyter-widgets/base",
      "model_module_version": "1.2.0",
      "model_name": "LayoutModel",
      "state": {}
     },
     "9c26016d6fb1470787dc3aca3e72ab6f": {
      "model_module": "@jupyter-widgets/controls",
      "model_module_version": "1.5.0",
      "model_name": "ProgressStyleModel",
      "state": {
       "description_width": "initial"
      }
     },
     "9c40c892bcb94d1a93b493495956b301": {
      "model_module": "@jupyter-widgets/controls",
      "model_module_version": "1.5.0",
      "model_name": "ProgressStyleModel",
      "state": {
       "description_width": "initial"
      }
     },
     "9cc865463c5b48f9aa27a2e15fd24ad3": {
      "model_module": "@jupyter-widgets/controls",
      "model_module_version": "1.5.0",
      "model_name": "HTMLModel",
      "state": {
       "layout": "IPY_MODEL_d3dc3cbb911245aead07269fde28833c",
       "style": "IPY_MODEL_46d8f854cba742c599bf7a76462f9b8e",
       "value": " 100/100 [00:01&lt;00:00, 76.49it/s]"
      }
     },
     "9ccfd77bfc1749539c56b0068ff7ba9d": {
      "model_module": "@jupyter-widgets/base",
      "model_module_version": "1.2.0",
      "model_name": "LayoutModel",
      "state": {}
     },
     "9e1a30f729f046f7bd0e7bb5ef6491b9": {
      "model_module": "@jupyter-widgets/base",
      "model_module_version": "1.2.0",
      "model_name": "LayoutModel",
      "state": {}
     },
     "9e489bfb9c244f50a73ee7298463381a": {
      "model_module": "@jupyter-widgets/base",
      "model_module_version": "1.2.0",
      "model_name": "LayoutModel",
      "state": {}
     },
     "9ede6a6fa8434d50a16c3cd12f1008e2": {
      "model_module": "@jupyter-widgets/controls",
      "model_module_version": "1.5.0",
      "model_name": "ProgressStyleModel",
      "state": {
       "description_width": "initial"
      }
     },
     "9facce5d659c49c399e7c9a5b6054d0a": {
      "model_module": "@jupyter-widgets/controls",
      "model_module_version": "1.5.0",
      "model_name": "FloatProgressModel",
      "state": {
       "bar_style": "success",
       "description": "100%",
       "layout": "IPY_MODEL_b8214ce6ad824225a1e5c074bcfa1b14",
       "max": 1000,
       "style": "IPY_MODEL_77f27786b0de48c3bd6738114820980c",
       "value": 1000
      }
     },
     "a1e28634ed7545ae81cf8f82f4c47ae2": {
      "model_module": "@jupyter-widgets/base",
      "model_module_version": "1.2.0",
      "model_name": "LayoutModel",
      "state": {}
     },
     "a391b6d55e0e48fabf9b3e01432b4b04": {
      "model_module": "@jupyter-widgets/controls",
      "model_module_version": "1.5.0",
      "model_name": "ProgressStyleModel",
      "state": {
       "description_width": "initial"
      }
     },
     "a45d4b0984f445b3aaa3f1a2d769d103": {
      "model_module": "@jupyter-widgets/base",
      "model_module_version": "1.2.0",
      "model_name": "LayoutModel",
      "state": {}
     },
     "a4d305ec08254a55bce458736207f1da": {
      "model_module": "@jupyter-widgets/controls",
      "model_module_version": "1.5.0",
      "model_name": "DescriptionStyleModel",
      "state": {
       "description_width": ""
      }
     },
     "a647764b83cb4ab6847ccf7fe75bed5c": {
      "model_module": "@jupyter-widgets/controls",
      "model_module_version": "1.5.0",
      "model_name": "HTMLModel",
      "state": {
       "layout": "IPY_MODEL_f9780c9d490b4c35b454512b1d91508d",
       "style": "IPY_MODEL_04e36332f4794c2b81efccd25c6b6596",
       "value": " 0/3 [00:23&lt;?, ?it/s]"
      }
     },
     "a67652af6eda4dd384e39e89c1209b87": {
      "model_module": "@jupyter-widgets/base",
      "model_module_version": "1.2.0",
      "model_name": "LayoutModel",
      "state": {}
     },
     "a6ddd7a72d044d09af37e4018f5eba6d": {
      "model_module": "@jupyter-widgets/base",
      "model_module_version": "1.2.0",
      "model_name": "LayoutModel",
      "state": {}
     },
     "a93569e7cb6a438c974c20ecbbad8e8b": {
      "model_module": "@jupyter-widgets/controls",
      "model_module_version": "1.5.0",
      "model_name": "FloatProgressModel",
      "state": {
       "bar_style": "danger",
       "description": "  0%",
       "layout": "IPY_MODEL_25abe47591c34ef7ae6666322a8d8b71",
       "max": 3,
       "style": "IPY_MODEL_67406e5fe91240e69eea1ebf6c5481d6"
      }
     },
     "aaacb3048015418b82b8dcb88a03d4ae": {
      "model_module": "@jupyter-widgets/controls",
      "model_module_version": "1.5.0",
      "model_name": "HBoxModel",
      "state": {
       "children": [
        "IPY_MODEL_87ed16bbd72741d087f8baf9e5f14209",
        "IPY_MODEL_bea2e3e8407a4e249677fec5d7b6e2dd"
       ],
       "layout": "IPY_MODEL_6411423bdff44842a568ad08ef93b2bb"
      }
     },
     "abcedfdc1bd4434fb4b32ce6e344538c": {
      "model_module": "@jupyter-widgets/controls",
      "model_module_version": "1.5.0",
      "model_name": "ProgressStyleModel",
      "state": {
       "description_width": "initial"
      }
     },
     "ad5920cef2ea4f4985ae6fa65840348d": {
      "model_module": "@jupyter-widgets/controls",
      "model_module_version": "1.5.0",
      "model_name": "HTMLModel",
      "state": {
       "layout": "IPY_MODEL_7f6ee2b0891f476e80e47c4d18056f8b",
       "style": "IPY_MODEL_1793649d806644c0baafaf483004d00c",
       "value": " 19/10000 [00:14&lt;2:03:51,  1.34it/s]"
      }
     },
     "ad70a7a984904627bacc92bd59425374": {
      "model_module": "@jupyter-widgets/base",
      "model_module_version": "1.2.0",
      "model_name": "LayoutModel",
      "state": {}
     },
     "ae95fb7385744aada6dc89e39a22cdd1": {
      "model_module": "@jupyter-widgets/base",
      "model_module_version": "1.2.0",
      "model_name": "LayoutModel",
      "state": {}
     },
     "af564c52c5e04ecb9d906ee72a772bd0": {
      "model_module": "@jupyter-widgets/controls",
      "model_module_version": "1.5.0",
      "model_name": "ProgressStyleModel",
      "state": {
       "description_width": "initial"
      }
     },
     "b0733f7999154768adf1946903bc8b7a": {
      "model_module": "@jupyter-widgets/controls",
      "model_module_version": "1.5.0",
      "model_name": "HBoxModel",
      "state": {
       "children": [
        "IPY_MODEL_ef27cf33b2fb47d4907032ab65317270",
        "IPY_MODEL_7bc260c0c7484e42be234c24be554bc8"
       ],
       "layout": "IPY_MODEL_edb5558aaec84c16a60958eec122c896"
      }
     },
     "b1f07e4b807340dbb535e16c232f3247": {
      "model_module": "@jupyter-widgets/controls",
      "model_module_version": "1.5.0",
      "model_name": "ProgressStyleModel",
      "state": {
       "description_width": "initial"
      }
     },
     "b2caa46d6ce64ce4bb45c3f8751f67c7": {
      "model_module": "@jupyter-widgets/controls",
      "model_module_version": "1.5.0",
      "model_name": "HTMLModel",
      "state": {
       "layout": "IPY_MODEL_680d5eadd91e47f2a99d8be5f65780ad",
       "style": "IPY_MODEL_1d57b95a2d9c45d58904d03585a7838d",
       "value": " 0/3 [00:36&lt;?, ?it/s]"
      }
     },
     "b2e934d849674d64a2aaa6b4f11b2a49": {
      "model_module": "@jupyter-widgets/base",
      "model_module_version": "1.2.0",
      "model_name": "LayoutModel",
      "state": {}
     },
     "b2fe63b7f7724d0f979086ea8825ef27": {
      "model_module": "@jupyter-widgets/controls",
      "model_module_version": "1.5.0",
      "model_name": "HBoxModel",
      "state": {
       "children": [
        "IPY_MODEL_31e3c7eb771e480e9594788a5014e1c0",
        "IPY_MODEL_fac8057cb17949a79c12d94805847620"
       ],
       "layout": "IPY_MODEL_43aa8b592a84474688969c4786d5d173"
      }
     },
     "b387f9944895428fbd9264772db52d6b": {
      "model_module": "@jupyter-widgets/controls",
      "model_module_version": "1.5.0",
      "model_name": "DescriptionStyleModel",
      "state": {
       "description_width": ""
      }
     },
     "b3e5b47053194838beb459477b7e77ab": {
      "model_module": "@jupyter-widgets/controls",
      "model_module_version": "1.5.0",
      "model_name": "ProgressStyleModel",
      "state": {
       "description_width": "initial"
      }
     },
     "b419eeb1627e43068a08c3b955901fa0": {
      "model_module": "@jupyter-widgets/controls",
      "model_module_version": "1.5.0",
      "model_name": "DescriptionStyleModel",
      "state": {
       "description_width": ""
      }
     },
     "b6a0bd8befb34a54b7ae2dd70a3d62f7": {
      "model_module": "@jupyter-widgets/base",
      "model_module_version": "1.2.0",
      "model_name": "LayoutModel",
      "state": {}
     },
     "b8214ce6ad824225a1e5c074bcfa1b14": {
      "model_module": "@jupyter-widgets/base",
      "model_module_version": "1.2.0",
      "model_name": "LayoutModel",
      "state": {}
     },
     "b8d9078dc86f4e9d9a0aab27e18d248b": {
      "model_module": "@jupyter-widgets/base",
      "model_module_version": "1.2.0",
      "model_name": "LayoutModel",
      "state": {}
     },
     "b9ad42551451457eb80cda9e59d5f700": {
      "model_module": "@jupyter-widgets/controls",
      "model_module_version": "1.5.0",
      "model_name": "HTMLModel",
      "state": {
       "layout": "IPY_MODEL_e68014b40a3341b6a7f108bd474d1d2f",
       "style": "IPY_MODEL_a4d305ec08254a55bce458736207f1da",
       "value": " 1000/1000 [00:27&lt;00:00, 36.10it/s]"
      }
     },
     "bab52db233fb4e3ca28caf06b36c2f03": {
      "model_module": "@jupyter-widgets/controls",
      "model_module_version": "1.5.0",
      "model_name": "HBoxModel",
      "state": {
       "children": [
        "IPY_MODEL_683b3c32e25346eaa549610aac748585",
        "IPY_MODEL_9cc865463c5b48f9aa27a2e15fd24ad3"
       ],
       "layout": "IPY_MODEL_b8d9078dc86f4e9d9a0aab27e18d248b"
      }
     },
     "bc062a826f904b6eb43c6cd39f4bec96": {
      "model_module": "@jupyter-widgets/controls",
      "model_module_version": "1.5.0",
      "model_name": "HTMLModel",
      "state": {
       "layout": "IPY_MODEL_2403831800f143d4ae354321d367bd48",
       "style": "IPY_MODEL_32cc497dc7d944c0beb56ffbf51468ae",
       "value": " 1/3 [07:41&lt;15:22, 461.09s/it]"
      }
     },
     "bc67b4b4cd744ebbad50f8ad0140243b": {
      "model_module": "@jupyter-widgets/base",
      "model_module_version": "1.2.0",
      "model_name": "LayoutModel",
      "state": {}
     },
     "bcfccfdce40a42aea5d6664e8a776fe1": {
      "model_module": "@jupyter-widgets/controls",
      "model_module_version": "1.5.0",
      "model_name": "FloatProgressModel",
      "state": {
       "bar_style": "success",
       "description": "100%",
       "layout": "IPY_MODEL_232bcebdc32448818114084581ead033",
       "style": "IPY_MODEL_9c40c892bcb94d1a93b493495956b301",
       "value": 100
      }
     },
     "be9870fd52734575a4617dadaa21f9fd": {
      "model_module": "@jupyter-widgets/base",
      "model_module_version": "1.2.0",
      "model_name": "LayoutModel",
      "state": {}
     },
     "bea2e3e8407a4e249677fec5d7b6e2dd": {
      "model_module": "@jupyter-widgets/controls",
      "model_module_version": "1.5.0",
      "model_name": "HTMLModel",
      "state": {
       "layout": "IPY_MODEL_106f6a0bd2be4fb091be1515ed4291c1",
       "style": "IPY_MODEL_b419eeb1627e43068a08c3b955901fa0",
       "value": " 100/100 [00:03&lt;00:00, 31.63it/s]"
      }
     },
     "bfc88acf2c7f497fafa0f9a82f0f3445": {
      "model_module": "@jupyter-widgets/base",
      "model_module_version": "1.2.0",
      "model_name": "LayoutModel",
      "state": {}
     },
     "c016bdfdea354bcab289057e051a3ad5": {
      "model_module": "@jupyter-widgets/base",
      "model_module_version": "1.2.0",
      "model_name": "LayoutModel",
      "state": {}
     },
     "c232aa59ee214881878d9e229bbd26ed": {
      "model_module": "@jupyter-widgets/controls",
      "model_module_version": "1.5.0",
      "model_name": "HTMLModel",
      "state": {
       "layout": "IPY_MODEL_42420a4826064dd5b040b0a2e828c8a3",
       "style": "IPY_MODEL_5acdeae7f2e141e5b39b7e9c270b41c5",
       "value": " 100/100 [00:00&lt;00:00, 283.73it/s]"
      }
     },
     "c395cb00eb354c71855f234ca9a12800": {
      "model_module": "@jupyter-widgets/controls",
      "model_module_version": "1.5.0",
      "model_name": "FloatProgressModel",
      "state": {
       "bar_style": "danger",
       "description": "  0%",
       "layout": "IPY_MODEL_22d4ed76302e4aa2b7f8426590921d76",
       "max": 10000,
       "style": "IPY_MODEL_9ede6a6fa8434d50a16c3cd12f1008e2",
       "value": 19
      }
     },
     "c443d60e03b94575af8d97d9840e85c5": {
      "model_module": "@jupyter-widgets/base",
      "model_module_version": "1.2.0",
      "model_name": "LayoutModel",
      "state": {}
     },
     "c5b83cc2e5c54c36bb2515752f1711b8": {
      "model_module": "@jupyter-widgets/controls",
      "model_module_version": "1.5.0",
      "model_name": "HTMLModel",
      "state": {
       "layout": "IPY_MODEL_fb8e995aecbe46d1998c984f0161c21f",
       "style": "IPY_MODEL_d3c571e1c57d4c35b0d7c9f967923290",
       "value": " 1000/1000 [00:28&lt;00:00, 35.18it/s]"
      }
     },
     "c5e8754dba4b4bc89568e88cee8ce894": {
      "model_module": "@jupyter-widgets/controls",
      "model_module_version": "1.5.0",
      "model_name": "ProgressStyleModel",
      "state": {
       "description_width": "initial"
      }
     },
     "c740b883595e4b24855751342728d9f1": {
      "model_module": "@jupyter-widgets/controls",
      "model_module_version": "1.5.0",
      "model_name": "HTMLModel",
      "state": {
       "layout": "IPY_MODEL_228fbb8390904b41bbc52e2039c3c653",
       "style": "IPY_MODEL_633eeeee77144102993a03f8c54af0b9",
       "value": " 100/100 [00:11&lt;00:00,  8.36it/s]"
      }
     },
     "c7eaeb7de8984c6ab8fb2e6b5c9e88ec": {
      "model_module": "@jupyter-widgets/controls",
      "model_module_version": "1.5.0",
      "model_name": "DescriptionStyleModel",
      "state": {
       "description_width": ""
      }
     },
     "c9f3b660ac434ecf93340d8e621b0245": {
      "model_module": "@jupyter-widgets/controls",
      "model_module_version": "1.5.0",
      "model_name": "ProgressStyleModel",
      "state": {
       "description_width": "initial"
      }
     },
     "cb1723f2c31c40fd9a02cf1741f37572": {
      "model_module": "@jupyter-widgets/base",
      "model_module_version": "1.2.0",
      "model_name": "LayoutModel",
      "state": {}
     },
     "cb33f225ce0e4b1d91b27041ad17a126": {
      "model_module": "@jupyter-widgets/base",
      "model_module_version": "1.2.0",
      "model_name": "LayoutModel",
      "state": {}
     },
     "cb6a355fa3124212804fffc10b81ef63": {
      "model_module": "@jupyter-widgets/base",
      "model_module_version": "1.2.0",
      "model_name": "LayoutModel",
      "state": {}
     },
     "cbb83ef7d1be466c82aef645bec01490": {
      "model_module": "@jupyter-widgets/controls",
      "model_module_version": "1.5.0",
      "model_name": "FloatProgressModel",
      "state": {
       "bar_style": "danger",
       "description": "  1%",
       "layout": "IPY_MODEL_3f72b0512e9c440ba69b1bf9e069e269",
       "style": "IPY_MODEL_f55890abef0f46ecbd01094c2496c942",
       "value": 1
      }
     },
     "cdd3aac418fd402db1ed589eee2dfbe7": {
      "model_module": "@jupyter-widgets/base",
      "model_module_version": "1.2.0",
      "model_name": "LayoutModel",
      "state": {}
     },
     "cebe84d717ed46d6bc497c4d8dd542fb": {
      "model_module": "@jupyter-widgets/controls",
      "model_module_version": "1.5.0",
      "model_name": "HTMLModel",
      "state": {
       "layout": "IPY_MODEL_16c53c2cafbd4677a0f0cb5710d769f6",
       "style": "IPY_MODEL_0a0af34613fc44bbb22df7a39725ae7d",
       "value": " 100/100 [00:01&lt;00:00, 73.15it/s]"
      }
     },
     "cef9dc4575934c00842b0d5bb17bceb2": {
      "model_module": "@jupyter-widgets/base",
      "model_module_version": "1.2.0",
      "model_name": "LayoutModel",
      "state": {}
     },
     "cfc9d87e14f948c787a35e14e2e3c3c1": {
      "model_module": "@jupyter-widgets/controls",
      "model_module_version": "1.5.0",
      "model_name": "HBoxModel",
      "state": {
       "children": [
        "IPY_MODEL_12fe792273c9460f956ba11380a65d61",
        "IPY_MODEL_fae800119cc54547847b8bf7684c0d2d"
       ],
       "layout": "IPY_MODEL_1df8457ba95c48f6b8f168fc9c840224"
      }
     },
     "d0c7c16ab6e74e0c8f6d988c043fee12": {
      "model_module": "@jupyter-widgets/controls",
      "model_module_version": "1.5.0",
      "model_name": "DescriptionStyleModel",
      "state": {
       "description_width": ""
      }
     },
     "d1a9b4ea4ec54ec992680e71ebb59114": {
      "model_module": "@jupyter-widgets/controls",
      "model_module_version": "1.5.0",
      "model_name": "HTMLModel",
      "state": {
       "layout": "IPY_MODEL_07b3fc61fd6d42939c8ebd5069dafb7e",
       "style": "IPY_MODEL_d0c7c16ab6e74e0c8f6d988c043fee12",
       "value": " 100/100 [00:01&lt;00:00, 73.10it/s]"
      }
     },
     "d3c571e1c57d4c35b0d7c9f967923290": {
      "model_module": "@jupyter-widgets/controls",
      "model_module_version": "1.5.0",
      "model_name": "DescriptionStyleModel",
      "state": {
       "description_width": ""
      }
     },
     "d3dc3cbb911245aead07269fde28833c": {
      "model_module": "@jupyter-widgets/base",
      "model_module_version": "1.2.0",
      "model_name": "LayoutModel",
      "state": {}
     },
     "d4ba7247b8ec46d69da2a5819850e349": {
      "model_module": "@jupyter-widgets/controls",
      "model_module_version": "1.5.0",
      "model_name": "HBoxModel",
      "state": {
       "children": [
        "IPY_MODEL_bcfccfdce40a42aea5d6664e8a776fe1",
        "IPY_MODEL_d1a9b4ea4ec54ec992680e71ebb59114"
       ],
       "layout": "IPY_MODEL_ae95fb7385744aada6dc89e39a22cdd1"
      }
     },
     "d525fd8541554d8da44ca1856d54aa66": {
      "model_module": "@jupyter-widgets/base",
      "model_module_version": "1.2.0",
      "model_name": "LayoutModel",
      "state": {}
     },
     "d5c663e029c043f786f6353f943fe4dd": {
      "model_module": "@jupyter-widgets/base",
      "model_module_version": "1.2.0",
      "model_name": "LayoutModel",
      "state": {}
     },
     "d64b923588964006bde66ec8e61f1e35": {
      "model_module": "@jupyter-widgets/base",
      "model_module_version": "1.2.0",
      "model_name": "LayoutModel",
      "state": {}
     },
     "d6c4746496474ea7b72948e0f8d64726": {
      "model_module": "@jupyter-widgets/controls",
      "model_module_version": "1.5.0",
      "model_name": "FloatProgressModel",
      "state": {
       "bar_style": "danger",
       "description": "  1%",
       "layout": "IPY_MODEL_d5c663e029c043f786f6353f943fe4dd",
       "style": "IPY_MODEL_af564c52c5e04ecb9d906ee72a772bd0",
       "value": 1
      }
     },
     "d6d14bce0f434f329d08bc2e5d1175eb": {
      "model_module": "@jupyter-widgets/base",
      "model_module_version": "1.2.0",
      "model_name": "LayoutModel",
      "state": {}
     },
     "d6f0a755b4e84e48aaa830d05dc38d88": {
      "model_module": "@jupyter-widgets/controls",
      "model_module_version": "1.5.0",
      "model_name": "HTMLModel",
      "state": {
       "layout": "IPY_MODEL_ded2eb83920845e4b786f0f20fca1c5a",
       "style": "IPY_MODEL_51df7ceb7420495798010e6540c96b96",
       "value": " 100/100 [00:04&lt;00:00, 22.31it/s]"
      }
     },
     "d732fbf53ff348118365478286251dcb": {
      "model_module": "@jupyter-widgets/controls",
      "model_module_version": "1.5.0",
      "model_name": "HBoxModel",
      "state": {
       "children": [
        "IPY_MODEL_20e254f6196b4005a343bb1fe83ed107",
        "IPY_MODEL_3867f0f1eed24717868ac2f6e05fe590"
       ],
       "layout": "IPY_MODEL_f501eb6d0337443990657906749f6916"
      }
     },
     "d7d41293bfc74b8e815edd592699f11b": {
      "model_module": "@jupyter-widgets/base",
      "model_module_version": "1.2.0",
      "model_name": "LayoutModel",
      "state": {}
     },
     "d89a224c455545909ccb568dd37ffb6c": {
      "model_module": "@jupyter-widgets/controls",
      "model_module_version": "1.5.0",
      "model_name": "DescriptionStyleModel",
      "state": {
       "description_width": ""
      }
     },
     "daec7b74c9c64935b97e2a3c2653bf6b": {
      "model_module": "@jupyter-widgets/controls",
      "model_module_version": "1.5.0",
      "model_name": "HBoxModel",
      "state": {
       "children": [
        "IPY_MODEL_3d442c177fa640f889948c3453b5bc8c",
        "IPY_MODEL_4f86ebf914e04eb99eead7b5bb380290"
       ],
       "layout": "IPY_MODEL_267aaa8928564944930137e000cd3e88"
      }
     },
     "dbc5b0228e2b4d239a74d6601ace49e9": {
      "model_module": "@jupyter-widgets/base",
      "model_module_version": "1.2.0",
      "model_name": "LayoutModel",
      "state": {}
     },
     "dc8f5039704b4f5eac4d1910c2fdaf62": {
      "model_module": "@jupyter-widgets/controls",
      "model_module_version": "1.5.0",
      "model_name": "HBoxModel",
      "state": {
       "children": [
        "IPY_MODEL_ddcfc0c253e44725b6930616dfbc5521",
        "IPY_MODEL_51e2785d71394b97bbdabe834c8e0cc2"
       ],
       "layout": "IPY_MODEL_cdd3aac418fd402db1ed589eee2dfbe7"
      }
     },
     "dca4a3b00bd7410194c09cf71350c544": {
      "model_module": "@jupyter-widgets/controls",
      "model_module_version": "1.5.0",
      "model_name": "DescriptionStyleModel",
      "state": {
       "description_width": ""
      }
     },
     "dcb56806ea954a359e518a65de2310ab": {
      "model_module": "@jupyter-widgets/controls",
      "model_module_version": "1.5.0",
      "model_name": "HTMLModel",
      "state": {
       "layout": "IPY_MODEL_a67652af6eda4dd384e39e89c1209b87",
       "style": "IPY_MODEL_feea8ba884d649e1858c25d3837701c8",
       "value": " 100/100 [05:55&lt;00:00,  3.55s/it]"
      }
     },
     "dd4c8ea91365463c9e01132beed49a95": {
      "model_module": "@jupyter-widgets/controls",
      "model_module_version": "1.5.0",
      "model_name": "HTMLModel",
      "state": {
       "layout": "IPY_MODEL_50720896655b4869a63dd195ae8f178a",
       "style": "IPY_MODEL_2b36e10b25b6416c9b7e131d7a6ba005",
       "value": " 1000/1000 [12:20&lt;00:00,  1.35it/s]"
      }
     },
     "ddcfc0c253e44725b6930616dfbc5521": {
      "model_module": "@jupyter-widgets/controls",
      "model_module_version": "1.5.0",
      "model_name": "FloatProgressModel",
      "state": {
       "bar_style": "success",
       "description": "100%",
       "layout": "IPY_MODEL_403f22440b134688a87e14d479f839d4",
       "style": "IPY_MODEL_a391b6d55e0e48fabf9b3e01432b4b04",
       "value": 100
      }
     },
     "de3f59afd94647c4ba47ba418078e9bb": {
      "model_module": "@jupyter-widgets/controls",
      "model_module_version": "1.5.0",
      "model_name": "ProgressStyleModel",
      "state": {
       "description_width": "initial"
      }
     },
     "dead24b5b21d4e199e5ead50c9022443": {
      "model_module": "@jupyter-widgets/controls",
      "model_module_version": "1.5.0",
      "model_name": "FloatProgressModel",
      "state": {
       "bar_style": "success",
       "description": "100%",
       "layout": "IPY_MODEL_9237f946ca42449bb11b3f1d863a5fb9",
       "style": "IPY_MODEL_27afdf145ff64bfebf1c32d37555b475",
       "value": 100
      }
     },
     "ded2eb83920845e4b786f0f20fca1c5a": {
      "model_module": "@jupyter-widgets/base",
      "model_module_version": "1.2.0",
      "model_name": "LayoutModel",
      "state": {}
     },
     "dee83b1570184e5d83bbe6359ea27319": {
      "model_module": "@jupyter-widgets/base",
      "model_module_version": "1.2.0",
      "model_name": "LayoutModel",
      "state": {}
     },
     "e10632288f0f4572bd0ed845ab22ed4a": {
      "model_module": "@jupyter-widgets/base",
      "model_module_version": "1.2.0",
      "model_name": "LayoutModel",
      "state": {}
     },
     "e111a0ad5c1d43b8ba8aab93a1d30b0a": {
      "model_module": "@jupyter-widgets/base",
      "model_module_version": "1.2.0",
      "model_name": "LayoutModel",
      "state": {}
     },
     "e127fed7c715480db985c60d650ddb71": {
      "model_module": "@jupyter-widgets/base",
      "model_module_version": "1.2.0",
      "model_name": "LayoutModel",
      "state": {}
     },
     "e1bee0798bb64856a2955e95d1e2844e": {
      "model_module": "@jupyter-widgets/base",
      "model_module_version": "1.2.0",
      "model_name": "LayoutModel",
      "state": {}
     },
     "e5d3f3b1af144f118a34ba580a350f2e": {
      "model_module": "@jupyter-widgets/controls",
      "model_module_version": "1.5.0",
      "model_name": "HBoxModel",
      "state": {
       "children": [
        "IPY_MODEL_41a06e70f27b439caa8b1c4efd47c183",
        "IPY_MODEL_dcb56806ea954a359e518a65de2310ab"
       ],
       "layout": "IPY_MODEL_4da662acf1d541ea83794c3a64c559c0"
      }
     },
     "e68014b40a3341b6a7f108bd474d1d2f": {
      "model_module": "@jupyter-widgets/base",
      "model_module_version": "1.2.0",
      "model_name": "LayoutModel",
      "state": {}
     },
     "e6825423a6f94a878c0373636df8e413": {
      "model_module": "@jupyter-widgets/controls",
      "model_module_version": "1.5.0",
      "model_name": "HBoxModel",
      "state": {
       "children": [
        "IPY_MODEL_f40207b7f61a47e4b87627181515f7c9",
        "IPY_MODEL_463c8ee8cfb54ff7ac54aec95c0e5bb7"
       ],
       "layout": "IPY_MODEL_93a9a41594f04ed899abf79f1d6b4029"
      }
     },
     "e6897dcfabeb486d8e555d1969f35024": {
      "model_module": "@jupyter-widgets/controls",
      "model_module_version": "1.5.0",
      "model_name": "ProgressStyleModel",
      "state": {
       "description_width": "initial"
      }
     },
     "e90e36fbee434475974ad866a2167aa7": {
      "model_module": "@jupyter-widgets/base",
      "model_module_version": "1.2.0",
      "model_name": "LayoutModel",
      "state": {}
     },
     "eb2117ff26ad4490b717ccfd54945ec5": {
      "model_module": "@jupyter-widgets/base",
      "model_module_version": "1.2.0",
      "model_name": "LayoutModel",
      "state": {}
     },
     "edb5558aaec84c16a60958eec122c896": {
      "model_module": "@jupyter-widgets/base",
      "model_module_version": "1.2.0",
      "model_name": "LayoutModel",
      "state": {}
     },
     "eebd5d354acc41a19a36c3c23190320c": {
      "model_module": "@jupyter-widgets/controls",
      "model_module_version": "1.5.0",
      "model_name": "HBoxModel",
      "state": {
       "children": [
        "IPY_MODEL_79e11cbe67494d6b85cd853125f738fc",
        "IPY_MODEL_c5b83cc2e5c54c36bb2515752f1711b8"
       ],
       "layout": "IPY_MODEL_28752ec98dd9453f85e579891c85f67b"
      }
     },
     "eefce2621d6e4e2dba991c261717dfda": {
      "model_module": "@jupyter-widgets/base",
      "model_module_version": "1.2.0",
      "model_name": "LayoutModel",
      "state": {}
     },
     "ef27cf33b2fb47d4907032ab65317270": {
      "model_module": "@jupyter-widgets/controls",
      "model_module_version": "1.5.0",
      "model_name": "FloatProgressModel",
      "state": {
       "bar_style": "danger",
       "description": "  0%",
       "layout": "IPY_MODEL_1d157daf50bf440e95974ec283ec4178",
       "max": 3,
       "style": "IPY_MODEL_c5e8754dba4b4bc89568e88cee8ce894"
      }
     },
     "efad8fd9a68a4b9ab485b24280e3c8bb": {
      "model_module": "@jupyter-widgets/controls",
      "model_module_version": "1.5.0",
      "model_name": "DescriptionStyleModel",
      "state": {
       "description_width": ""
      }
     },
     "f40207b7f61a47e4b87627181515f7c9": {
      "model_module": "@jupyter-widgets/controls",
      "model_module_version": "1.5.0",
      "model_name": "FloatProgressModel",
      "state": {
       "bar_style": "success",
       "description": "100%",
       "layout": "IPY_MODEL_a45d4b0984f445b3aaa3f1a2d769d103",
       "style": "IPY_MODEL_f737eee67e454835ab1d9f37502d18a2",
       "value": 100
      }
     },
     "f4570af09b4d441c8eda28f494cf9d59": {
      "model_module": "@jupyter-widgets/controls",
      "model_module_version": "1.5.0",
      "model_name": "HTMLModel",
      "state": {
       "layout": "IPY_MODEL_cb6a355fa3124212804fffc10b81ef63",
       "style": "IPY_MODEL_fd4fe133dda441b9aa1b85b779b4183c",
       "value": " 100/100 [00:00&lt;00:00, 293.20it/s]"
      }
     },
     "f4792715006e4783bfedd4b4003c27c1": {
      "model_module": "@jupyter-widgets/base",
      "model_module_version": "1.2.0",
      "model_name": "LayoutModel",
      "state": {}
     },
     "f501eb6d0337443990657906749f6916": {
      "model_module": "@jupyter-widgets/base",
      "model_module_version": "1.2.0",
      "model_name": "LayoutModel",
      "state": {}
     },
     "f55890abef0f46ecbd01094c2496c942": {
      "model_module": "@jupyter-widgets/controls",
      "model_module_version": "1.5.0",
      "model_name": "ProgressStyleModel",
      "state": {
       "description_width": "initial"
      }
     },
     "f5f7ee0ec9114d26a7c4875062ac140c": {
      "model_module": "@jupyter-widgets/controls",
      "model_module_version": "1.5.0",
      "model_name": "DescriptionStyleModel",
      "state": {
       "description_width": ""
      }
     },
     "f6805b6e595346e8906355024ff4c1c9": {
      "model_module": "@jupyter-widgets/base",
      "model_module_version": "1.2.0",
      "model_name": "LayoutModel",
      "state": {}
     },
     "f711b9f95a254f939fe7d02db336fad2": {
      "model_module": "@jupyter-widgets/controls",
      "model_module_version": "1.5.0",
      "model_name": "HTMLModel",
      "state": {
       "layout": "IPY_MODEL_cb1723f2c31c40fd9a02cf1741f37572",
       "style": "IPY_MODEL_c7eaeb7de8984c6ab8fb2e6b5c9e88ec",
       "value": " 1000/1000 [00:25&lt;00:00, 38.81it/s]"
      }
     },
     "f737eee67e454835ab1d9f37502d18a2": {
      "model_module": "@jupyter-widgets/controls",
      "model_module_version": "1.5.0",
      "model_name": "ProgressStyleModel",
      "state": {
       "description_width": "initial"
      }
     },
     "f8c2f077314d4574a1753534b2bb6922": {
      "model_module": "@jupyter-widgets/base",
      "model_module_version": "1.2.0",
      "model_name": "LayoutModel",
      "state": {}
     },
     "f96e0bb25a474b72a808362384fc6be5": {
      "model_module": "@jupyter-widgets/controls",
      "model_module_version": "1.5.0",
      "model_name": "HTMLModel",
      "state": {
       "layout": "IPY_MODEL_eefce2621d6e4e2dba991c261717dfda",
       "style": "IPY_MODEL_8c981ee7a7db4dcdad62c9a95de50e6e",
       "value": " 1/100 [00:27&lt;45:59, 27.88s/it]"
      }
     },
     "f9780c9d490b4c35b454512b1d91508d": {
      "model_module": "@jupyter-widgets/base",
      "model_module_version": "1.2.0",
      "model_name": "LayoutModel",
      "state": {}
     },
     "fa6e5812fff241348d77438c3a7c8e1c": {
      "model_module": "@jupyter-widgets/controls",
      "model_module_version": "1.5.0",
      "model_name": "DescriptionStyleModel",
      "state": {
       "description_width": ""
      }
     },
     "faada6e9b2164e7297f508ed0e47aac6": {
      "model_module": "@jupyter-widgets/controls",
      "model_module_version": "1.5.0",
      "model_name": "DescriptionStyleModel",
      "state": {
       "description_width": ""
      }
     },
     "fac8057cb17949a79c12d94805847620": {
      "model_module": "@jupyter-widgets/controls",
      "model_module_version": "1.5.0",
      "model_name": "HTMLModel",
      "state": {
       "layout": "IPY_MODEL_fdc14acf08654b8fa976290f24ebb36a",
       "style": "IPY_MODEL_257fa781cbce4fc98ba8baf232f00583",
       "value": " 100/100 [00:01&lt;00:00, 74.73it/s]"
      }
     },
     "fae800119cc54547847b8bf7684c0d2d": {
      "model_module": "@jupyter-widgets/controls",
      "model_module_version": "1.5.0",
      "model_name": "HTMLModel",
      "state": {
       "layout": "IPY_MODEL_be9870fd52734575a4617dadaa21f9fd",
       "style": "IPY_MODEL_829b67ebc8c94def8136426b3dbc3c79",
       "value": " 100/100 [01:45&lt;00:00,  1.06s/it]"
      }
     },
     "fae9a24df7b74e1291a9da981aa200ad": {
      "model_module": "@jupyter-widgets/base",
      "model_module_version": "1.2.0",
      "model_name": "LayoutModel",
      "state": {}
     },
     "fb8e995aecbe46d1998c984f0161c21f": {
      "model_module": "@jupyter-widgets/base",
      "model_module_version": "1.2.0",
      "model_name": "LayoutModel",
      "state": {}
     },
     "fd4fe133dda441b9aa1b85b779b4183c": {
      "model_module": "@jupyter-widgets/controls",
      "model_module_version": "1.5.0",
      "model_name": "DescriptionStyleModel",
      "state": {
       "description_width": ""
      }
     },
     "fdc14acf08654b8fa976290f24ebb36a": {
      "model_module": "@jupyter-widgets/base",
      "model_module_version": "1.2.0",
      "model_name": "LayoutModel",
      "state": {}
     },
     "feea8ba884d649e1858c25d3837701c8": {
      "model_module": "@jupyter-widgets/controls",
      "model_module_version": "1.5.0",
      "model_name": "DescriptionStyleModel",
      "state": {
       "description_width": ""
      }
     },
     "ff80cc196b47405d9278799eb7f82305": {
      "model_module": "@jupyter-widgets/controls",
      "model_module_version": "1.5.0",
      "model_name": "DescriptionStyleModel",
      "state": {
       "description_width": ""
      }
     }
    },
    "version_major": 2,
    "version_minor": 0
   }
  }
 },
 "nbformat": 4,
 "nbformat_minor": 2
}
