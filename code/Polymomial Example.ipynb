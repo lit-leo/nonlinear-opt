{
 "cells": [
  {
   "cell_type": "code",
   "execution_count": 6,
   "metadata": {},
   "outputs": [],
   "source": [
    "import numpy as np\n",
    "from time import time\n",
    "\n",
    "import matplotlib.pyplot as plt\n",
    "from tqdm.notebook import tqdm\n",
    "from scipy.optimize import minimize_scalar\n",
    "from functools import partial"
   ]
  },
  {
   "cell_type": "code",
   "execution_count": 7,
   "metadata": {},
   "outputs": [],
   "source": [
    "def check_convergence_region(algo, problem, x_0, sigma, iterations=50, size=1000, optimization_problem = True):\n",
    "    points = np.random.normal(x_0, sigma, size=(size, x_0.shape[0]))\n",
    "    successes = []\n",
    "    for point in tqdm(points):\n",
    "        x_history, values_history, times_history = algo(problem, point, iterations=iterations)\n",
    "        \n",
    "        if optimization_problem:\n",
    "            result = np.min([np.linalg.norm(problem._g.forward(x), ord=2) for x in x_history])\n",
    "        else:\n",
    "            result = np.min(values_history)\n",
    "        if result < 1e-3 / np.sqrt(x0.shape[0]):\n",
    "            successes.append(1)\n",
    "        else:\n",
    "            successes.append(0)\n",
    "    return points, successes"
   ]
  },
  {
   "cell_type": "code",
   "execution_count": 8,
   "metadata": {},
   "outputs": [],
   "source": [
    "def draw_plots(values, times, names):\n",
    "    fig, axs = plt.subplots(nrows=1, ncols=2, figsize=(15, 7))\n",
    "    \n",
    "    \n",
    "    for name_, values_ in zip(names, values):\n",
    "        axs[0].plot(values_, label=name_)\n",
    "    axs[0].set_xlabel('Iteration')\n",
    "    axs[0].set_ylabel('Value')\n",
    "    \n",
    "    for name_, times_ in zip(names, times):\n",
    "        axs[1].plot(times_, label=name_)\n",
    "    \n",
    "    axs[1].set_xlabel('Iteration')\n",
    "    axs[1].set_ylabel('Time, s')\n",
    "    \n",
    "    axs[0].grid()\n",
    "    axs[1].grid()\n",
    "    \n",
    "    axs[0].legend()\n",
    "    axs[1].legend()\n",
    "    \n",
    "    plt.show()"
   ]
  },
  {
   "cell_type": "markdown",
   "metadata": {},
   "source": [
    "$5x_i - 5 - \\sum\\limits_{i = 1}^8 a_{ij} y_j^3 = 0$"
   ]
  },
  {
   "cell_type": "markdown",
   "metadata": {},
   "source": [
    "First let's compute a"
   ]
  },
  {
   "cell_type": "code",
   "execution_count": 9,
   "metadata": {},
   "outputs": [],
   "source": [
    "t = np.array([\n",
    "    0.01985507175123188416,\n",
    "    0.10166676129318663020,\n",
    "    0.23734479504183550791,\n",
    "    0.40828267875217509753,\n",
    "    0.59171732124782490246,\n",
    "    0.76276620495816449290,\n",
    "    0.89333238706813369795,\n",
    "    0.98014492824876115841,\n",
    "])"
   ]
  },
  {
   "cell_type": "code",
   "execution_count": 10,
   "metadata": {},
   "outputs": [],
   "source": [
    "w = np.array([\n",
    "    0.05061426814518812957,\n",
    "    0.11119051722668723527,\n",
    "    0.15685332293894364366,\n",
    "    0.18134189168918099148,\n",
    "    0.18134189168918099148,\n",
    "    0.15685332293894364366,\n",
    "    0.11119051722668723527,\n",
    "    0.05061426814518812957,\n",
    "])"
   ]
  },
  {
   "cell_type": "code",
   "execution_count": 11,
   "metadata": {},
   "outputs": [],
   "source": [
    "a = np.zeros((8, 8))\n",
    "for i in range(8):\n",
    "    for j in range(8):\n",
    "        if (j <= i):\n",
    "            a[i][j] = w[j] * t[j] * (1 - t[i])\n",
    "        elif i < j:\n",
    "            a[i][j] = w[j] * t[i] * (1 - t[j])"
   ]
  },
  {
   "cell_type": "markdown",
   "metadata": {},
   "source": [
    "Solution: (1.00209, 1.0090, 1.01972, 1.02643, 1.02643, 1.01972, 1.0090, 1.00209)"
   ]
  },
  {
   "cell_type": "markdown",
   "metadata": {},
   "source": [
    "Initial guess: (0.5, 0.5, 0.5, 0.5, 0.5, 0.5, 0.5, 0.5)"
   ]
  },
  {
   "cell_type": "code",
   "execution_count": 40,
   "metadata": {},
   "outputs": [],
   "source": [
    "class HammersteinData():\n",
    "    def __init__(self, a):\n",
    "        self._A = a\n",
    "            \n",
    "    def forward(self, x):\n",
    "        \n",
    "        return 5 * x - 5 - self._A @ x ** 3\n",
    "        \n",
    "        \n",
    "    def grad(self, x):\n",
    "        return 5 * np.eye(x.shape[0]) - 2 * self._A * np.tile(x ** 2, (8, 1))"
   ]
  },
  {
   "cell_type": "code",
   "execution_count": 41,
   "metadata": {},
   "outputs": [],
   "source": [
    "class HammersteinDataOptim():\n",
    "    def __init__(self, g, p = 2):\n",
    "        self._g = g\n",
    "        self._p = p\n",
    "    \n",
    "    def forward(self, x):\n",
    "        g = self._g.forward(x)\n",
    "        return (g ** self._p).sum()\n",
    "        \n",
    "    def grad(self, x):\n",
    "        x = np.array(x)\n",
    "        \n",
    "        g = self._g.forward(x)\n",
    "        grad_g = self._g.grad(x)\n",
    "        return self._p * grad_g.T @ (g ** (self._p - 1))\n",
    "    \n",
    "    def hess(self, x):\n",
    "        x = np.array(x)\n",
    "        \n",
    "        g = self._g.forward(x)\n",
    "        grad_g = self._g.grad(x) \n",
    "        return self._p * (self._p - 1) * grad_g.T @ np.diag(g ** (self._p - 2)) @ grad_g"
   ]
  },
  {
   "cell_type": "code",
   "execution_count": 42,
   "metadata": {},
   "outputs": [],
   "source": [
    "# equation root \n",
    "xi = np.array([1.00209, 1.0090, 1.01972, 1.02643, 1.02643, 1.01972, 1.0090, 1.00209])\n",
    "# starting point\n",
    "x0 = np.array([0.5, 0.5, 0.5, 0.5, 0.5, 0.5, 0.5, 0.5])"
   ]
  },
  {
   "cell_type": "markdown",
   "metadata": {},
   "source": [
    "## Data initialization"
   ]
  },
  {
   "cell_type": "code",
   "execution_count": 43,
   "metadata": {},
   "outputs": [],
   "source": [
    "g = HammersteinData(a)\n",
    "f_2 = HammersteinDataOptim(g, p = 2)\n",
    "f_4 = HammersteinDataOptim(g, p = 4)\n",
    "f_6 = HammersteinDataOptim(g, p = 6)"
   ]
  },
  {
   "cell_type": "markdown",
   "metadata": {},
   "source": [
    "# Newton's Solving algorithm"
   ]
  },
  {
   "cell_type": "code",
   "execution_count": 44,
   "metadata": {},
   "outputs": [],
   "source": [
    "class NewtonSolvingAlgorithm():\n",
    "    def __init__(self):\n",
    "        pass\n",
    "    \n",
    "    def solve(self, equation, x0, iterations=10, eps=1e-9):\n",
    "        x = x0\n",
    "        x_history = [x]\n",
    "        values_history = [np.linalg.norm(equation.forward(x), ord=2)]\n",
    "        times_history = [0]\n",
    "        \n",
    "        start = time()\n",
    "        for i in range(iterations):\n",
    "            x = x - np.linalg.pinv(equation.grad(x)) @ equation.forward(x)\n",
    "            \n",
    "            values_history.append(np.linalg.norm(equation.forward(x), ord=2))\n",
    "            x_history.append(x)\n",
    "            times_history.append(time() - start)\n",
    "        return x_history, values_history, times_history"
   ]
  },
  {
   "cell_type": "code",
   "execution_count": 45,
   "metadata": {},
   "outputs": [],
   "source": [
    "x_history_ns, values_history_ns, times_history_ns = NewtonSolvingAlgorithm().solve(g, x0, iterations=10)"
   ]
  },
  {
   "cell_type": "code",
   "execution_count": 46,
   "metadata": {},
   "outputs": [
    {
     "data": {
      "image/png": "[encoded data removed]",
      "text/plain": [
       "<Figure size 1080x504 with 2 Axes>"
      ]
     },
     "metadata": {
      "needs_background": "light"
     },
     "output_type": "display_data"
    }
   ],
   "source": [
    "draw_plots([values_history_ns], [times_history_ns], ['Newton Solver'])"
   ]
  },
  {
   "cell_type": "code",
   "execution_count": 62,
   "metadata": {},
   "outputs": [
    {
     "data": {
      "application/vnd.jupyter.widget-view+json": {
       "model_id": "32c14088c6614b97a7f90c59b29457e4",
       "version_major": 2,
       "version_minor": 0
      },
      "text/plain": [
       "HBox(children=(FloatProgress(value=0.0, max=10000.0), HTML(value='')))"
      ]
     },
     "metadata": {},
     "output_type": "display_data"
    },
    {
     "name": "stdout",
     "output_type": "stream",
     "text": [
      "\n"
     ]
    }
   ],
   "source": [
    "points, successes = check_convergence_region(NewtonSolvingAlgorithm().solve, g, x0, 3, size=10000, optimization_problem=False)"
   ]
  },
  {
   "cell_type": "code",
   "execution_count": 63,
   "metadata": {},
   "outputs": [
    {
     "data": {
      "text/plain": [
       "1629"
      ]
     },
     "execution_count": 63,
     "metadata": {},
     "output_type": "execute_result"
    }
   ],
   "source": [
    "(np.array(successes) == 0).sum()"
   ]
  },
  {
   "cell_type": "code",
   "execution_count": 64,
   "metadata": {},
   "outputs": [
    {
     "name": "stdout",
     "output_type": "stream",
     "text": [
      "Total 10000 trials\n",
      "sigma=3, positive: 0.8371, negative: 0.1629 \n"
     ]
    }
   ],
   "source": [
    "print('Total 10000 trials')\n",
    "print(f'sigma=3, positive: {(np.array(successes) == 1).sum() / 10000}, negative: {(np.array(successes) == 0).sum() / 10000} ')\n"
   ]
  },
  {
   "cell_type": "markdown",
   "metadata": {},
   "source": [
    "Converges everywhere within 50 iterations."
   ]
  },
  {
   "cell_type": "markdown",
   "metadata": {},
   "source": [
    "# Newton's Optimization algorithm"
   ]
  },
  {
   "cell_type": "code",
   "execution_count": 65,
   "metadata": {},
   "outputs": [],
   "source": [
    "class NewtonOptimizationAlgorithm():\n",
    "    def __init__(self):\n",
    "        pass\n",
    "    \n",
    "    def optimize(self, function, x0, iterations=10, eps=1e-9):\n",
    "        x = x0\n",
    "        \n",
    "        x_history = [x]\n",
    "        values_history = [function.forward(x)]\n",
    "        times_history = [0]\n",
    "        \n",
    "        start = time()\n",
    "        for i in range(iterations):\n",
    "            x = x - np.linalg.pinv(function.hess(x)) @ function.grad(x)\n",
    "            \n",
    "            if np.isnan(x).any():\n",
    "                break\n",
    "            values_history.append(function.forward(x))\n",
    "            x_history.append(x)\n",
    "            times_history.append(time() - start)\n",
    "        return x_history, values_history, times_history"
   ]
  },
  {
   "cell_type": "code",
   "execution_count": 66,
   "metadata": {},
   "outputs": [],
   "source": [
    "x_history_no_2, f_2_values_history_no, times_history_no_2 = NewtonOptimizationAlgorithm().optimize(f_2, x0, iterations=20)\n",
    "x_history_no_4, f_4_values_history_no, times_history_no_4 = NewtonOptimizationAlgorithm().optimize(f_4, x0, iterations=20)\n",
    "x_history_no_6, f_6_values_history_no, times_history_no_6 = NewtonOptimizationAlgorithm().optimize(f_6, x0, iterations=20)"
   ]
  },
  {
   "cell_type": "code",
   "execution_count": 67,
   "metadata": {},
   "outputs": [],
   "source": [
    "g_f_2_values_history_no = [np.linalg.norm(g.forward(x), ord=2) for x in x_history_no_2]\n",
    "g_f_4_values_history_no = [np.linalg.norm(g.forward(x), ord=2) for x in x_history_no_4]\n",
    "g_f_6_values_history_no = [np.linalg.norm(g.forward(x), ord=2) for x in x_history_no_6]"
   ]
  },
  {
   "cell_type": "code",
   "execution_count": 68,
   "metadata": {},
   "outputs": [
    {
     "data": {
      "image/png": "[encoded data removed]",
      "text/plain": [
       "<Figure size 1080x504 with 2 Axes>"
      ]
     },
     "metadata": {
      "needs_background": "light"
     },
     "output_type": "display_data"
    }
   ],
   "source": [
    "draw_plots([g_f_2_values_history_no, g_f_4_values_history_no, g_f_6_values_history_no],\n",
    "           [times_history_no_2, times_history_no_4, times_history_no_6],\n",
    "           ['Newton Optimization, p = 2', 'Newton Optimization, p = 4', 'Newton Optimization, p = 6'])"
   ]
  },
  {
   "cell_type": "code",
   "execution_count": 69,
   "metadata": {},
   "outputs": [
    {
     "data": {
      "application/vnd.jupyter.widget-view+json": {
       "model_id": "5fc23260f9fd47029b717de2a1dceb0d",
       "version_major": 2,
       "version_minor": 0
      },
      "text/plain": [
       "HBox(children=(FloatProgress(value=0.0, max=10000.0), HTML(value='')))"
      ]
     },
     "metadata": {},
     "output_type": "display_data"
    },
    {
     "name": "stdout",
     "output_type": "stream",
     "text": [
      "\n"
     ]
    }
   ],
   "source": [
    "points_2, successes_2 = check_convergence_region(NewtonOptimizationAlgorithm().optimize, f_2, x0, 3, size=10000, iterations=50)"
   ]
  },
  {
   "cell_type": "code",
   "execution_count": 70,
   "metadata": {},
   "outputs": [
    {
     "data": {
      "application/vnd.jupyter.widget-view+json": {
       "model_id": "3bc463e8e3ff46fe95b960298d314862",
       "version_major": 2,
       "version_minor": 0
      },
      "text/plain": [
       "HBox(children=(FloatProgress(value=0.0, max=10000.0), HTML(value='')))"
      ]
     },
     "metadata": {},
     "output_type": "display_data"
    },
    {
     "name": "stdout",
     "output_type": "stream",
     "text": [
      "\n"
     ]
    }
   ],
   "source": [
    "points_4, successes_4 = check_convergence_region(NewtonOptimizationAlgorithm().optimize, f_4, x0, 3, size=10000, iterations=50)"
   ]
  },
  {
   "cell_type": "code",
   "execution_count": 89,
   "metadata": {},
   "outputs": [
    {
     "data": {
      "application/vnd.jupyter.widget-view+json": {
       "model_id": "89b7c63d51b5482a8af5454511aa0f9b",
       "version_major": 2,
       "version_minor": 0
      },
      "text/plain": [
       "HBox(children=(FloatProgress(value=0.0, max=10000.0), HTML(value='')))"
      ]
     },
     "metadata": {},
     "output_type": "display_data"
    },
    {
     "name": "stdout",
     "output_type": "stream",
     "text": [
      "\n"
     ]
    }
   ],
   "source": [
    "points_6, successes_6 = check_convergence_region(NewtonOptimizationAlgorithm().optimize, f_6, x0, 3, size=10000, iterations=50)\n"
   ]
  },
  {
   "cell_type": "code",
   "execution_count": 90,
   "metadata": {},
   "outputs": [
    {
     "name": "stdout",
     "output_type": "stream",
     "text": [
      "Total 10000 trials\n",
      "p = 2, sigma=3, positive: 0.0971, negative: 0.0029 \n",
      "p = 4, sigma=3,  positive: 0.0998, negative: 0.0002 \n",
      "p = 6, sigma=3,  positive: 0.039, negative: 0.961 \n"
     ]
    }
   ],
   "source": [
    "print('Total 10000 trials')\n",
    "print(f'p = 2, sigma=3, positive: {(np.array(successes_2) == 1).sum() / 10000}, negative: {(np.array(successes_2) == 0).sum() / 10000} ')\n",
    "print(f'p = 4, sigma=3,  positive: {(np.array(successes_4) == 1).sum() / 10000}, negative: {(np.array(successes_4) == 0).sum() / 10000} ')\n",
    "print(f'p = 6, sigma=3,  positive: {(np.array(successes_6) == 1).sum() / 10000}, negative: {(np.array(successes_6) == 0).sum() / 10000} ')\n"
   ]
  },
  {
   "cell_type": "markdown",
   "metadata": {},
   "source": [
    "# Conjugated Gradients"
   ]
  },
  {
   "cell_type": "code",
   "execution_count": 78,
   "metadata": {},
   "outputs": [],
   "source": [
    "class ConjugateGradient():\n",
    "    def __init__(self):\n",
    "        pass\n",
    "    \n",
    "    def optimize(self, regression, x0, iterations=10, method='fletcher-reeves', default_step=0.01,\n",
    "                line_search_iter=50, line_search_tolerance=10, verbose=False):\n",
    "        # random guess\n",
    "        if x0 is None:\n",
    "            x = np.random.rand(regression.A.shape[1])\n",
    "        else: \n",
    "            x = x0\n",
    "        \n",
    "        # conjugate direction\n",
    "        d = -regression.grad(x)\n",
    "        \n",
    "        # initialize starting time\n",
    "        start = time()\n",
    "        # save the history of iterations for plotting and analysis\n",
    "        x_history = [x]\n",
    "        values_history = [regression.forward(x)]\n",
    "        grads_history = [regression.grad(x)]\n",
    "        times_history = [0]\n",
    "        \n",
    "        \n",
    "        if verbose:\n",
    "            iter_in = tqdm(range(iterations))\n",
    "        else:\n",
    "            iter_in = range(iterations)\n",
    "        for i in iter_in:\n",
    "            # line search alpha\n",
    "            #alpha = line_search(regression.forward, regression.grad, x, d, maxiter=100)[0]\n",
    "            \n",
    "            alpha = minimize_scalar(lambda l: regression.forward(x + l * d),\n",
    "                                       bounds=(0, default_step), method='Brent',\n",
    "                                       options={'maxiter':line_search_iter,\n",
    "                                                'xtol': default_step / line_search_tolerance})\n",
    "            alpha = alpha['x']\n",
    "            if alpha == 0:\n",
    "                if verbose:\n",
    "                    print(f'Line search did not converge on iteration {i}, using default step')\n",
    "                alpha = default_step / (i + 1)\n",
    "                #return x_history, values_history, times_history\n",
    "            \n",
    "            # update x_k + 1\n",
    "            x = x + alpha * d\n",
    "            x_history.append(x)\n",
    "            values_history.append(regression.forward(x))\n",
    "            \n",
    "            # compute g_k + 1\n",
    "            g = regression.grad(x)\n",
    "            grads_history.append(g)\n",
    "            \n",
    "            # update d_k + 1\n",
    "            if method == 'fletcher-reeves':\n",
    "                if (grads_history[-2].T @ grads_history[-2]) == 0:\n",
    "                    beta = 0\n",
    "                else:\n",
    "                    beta = (g.T @ g) / (grads_history[-2].T @ grads_history[-2])\n",
    "            elif method == 'polak-ribiere':\n",
    "                if (grads_history[-2].T @ grads_history[-2]) == 0:\n",
    "                    beta = 0\n",
    "                else:\n",
    "                    beta = ((g - grads_history[-2]).T @ g) / (grads_history[-2].T @ grads_history[-2])\n",
    "            else:\n",
    "                raise Exception(f'Unknown method: {method}')\n",
    "            d = -g + beta * d\n",
    "            \n",
    "            # update times history\n",
    "            times_history.append(time() - start)\n",
    "        if verbose:\n",
    "            print(f'Conjugate gradient converged on iteration {i}')\n",
    "        return x_history, values_history, times_history"
   ]
  },
  {
   "cell_type": "markdown",
   "metadata": {},
   "source": [
    "### Fletcher-Reeves"
   ]
  },
  {
   "cell_type": "code",
   "execution_count": 79,
   "metadata": {},
   "outputs": [],
   "source": [
    "x_history_no_2, f_2_values_history_no, times_history_no_2 = ConjugateGradient().optimize(f_2, x0=x0, iterations=20, method='fletcher-reeves')\n",
    "x_history_no_4, f_4_values_history_no, times_history_no_4 = ConjugateGradient().optimize(f_4, x0=x0, iterations=20, method='fletcher-reeves')\n",
    "x_history_no_6, f_6_values_history_no, times_history_no_6 = ConjugateGradient().optimize(f_6, x0=x0, iterations=20, method='fletcher-reeves')\n"
   ]
  },
  {
   "cell_type": "code",
   "execution_count": 80,
   "metadata": {},
   "outputs": [],
   "source": [
    "g_f_2_values_history_no = [np.linalg.norm(g.forward(x), ord=2) for x in x_history_no_2]\n",
    "g_f_4_values_history_no = [np.linalg.norm(g.forward(x), ord=2) for x in x_history_no_4]\n",
    "g_f_6_values_history_no = [np.linalg.norm(g.forward(x), ord=2) for x in x_history_no_6]"
   ]
  },
  {
   "cell_type": "code",
   "execution_count": 81,
   "metadata": {},
   "outputs": [
    {
     "data": {
      "image/png": "[encoded data removed]",
      "text/plain": [
       "<Figure size 1080x504 with 2 Axes>"
      ]
     },
     "metadata": {
      "needs_background": "light"
     },
     "output_type": "display_data"
    }
   ],
   "source": [
    "draw_plots([g_f_2_values_history_no, g_f_4_values_history_no, g_f_6_values_history_no],\n",
    "           [times_history_no_2, times_history_no_4, times_history_no_6],\n",
    "           ['CG, Fletcher-Reeves, p = 2', 'CG, Fletcher-Reeves, p = 4', 'CG, Fletcher-Reeves, p = 6'])"
   ]
  },
  {
   "cell_type": "code",
   "execution_count": 83,
   "metadata": {},
   "outputs": [
    {
     "data": {
      "application/vnd.jupyter.widget-view+json": {
       "model_id": "9168db8b0769454b9d6a018a95ff94d7",
       "version_major": 2,
       "version_minor": 0
      },
      "text/plain": [
       "HBox(children=(FloatProgress(value=0.0, max=1000.0), HTML(value='')))"
      ]
     },
     "metadata": {},
     "output_type": "display_data"
    },
    {
     "name": "stdout",
     "output_type": "stream",
     "text": [
      "\n"
     ]
    }
   ],
   "source": [
    "points_2, successes_2 = check_convergence_region(ConjugateGradient().optimize, f_2, x0, 3, size=1000, iterations=50)"
   ]
  },
  {
   "cell_type": "code",
   "execution_count": 84,
   "metadata": {},
   "outputs": [
    {
     "data": {
      "application/vnd.jupyter.widget-view+json": {
       "model_id": "31ba87c9c66e4cc89cd6f12e77e81d4a",
       "version_major": 2,
       "version_minor": 0
      },
      "text/plain": [
       "HBox(children=(FloatProgress(value=0.0, max=1000.0), HTML(value='')))"
      ]
     },
     "metadata": {},
     "output_type": "display_data"
    },
    {
     "name": "stderr",
     "output_type": "stream",
     "text": [
      "/Users/dragonstone/opt/anaconda3/lib/python3.7/site-packages/ipykernel_launcher.py:7: RuntimeWarning: overflow encountered in power\n",
      "  import sys\n",
      "/Users/dragonstone/opt/anaconda3/lib/python3.7/site-packages/ipykernel_launcher.py:7: RuntimeWarning: invalid value encountered in matmul\n",
      "  import sys\n",
      "/Users/dragonstone/opt/anaconda3/lib/python3.7/site-packages/ipykernel_launcher.py:11: RuntimeWarning: overflow encountered in square\n",
      "  # This is added back by InteractiveShellApp.init_path()\n"
     ]
    },
    {
     "name": "stdout",
     "output_type": "stream",
     "text": [
      "\n"
     ]
    }
   ],
   "source": [
    "points_4, successes_4 = check_convergence_region(ConjugateGradient().optimize, f_4, x0, 3, size=1000, iterations=50)"
   ]
  },
  {
   "cell_type": "code",
   "execution_count": 87,
   "metadata": {},
   "outputs": [
    {
     "data": {
      "application/vnd.jupyter.widget-view+json": {
       "model_id": "0ad8560247f34fc698d19f5e28215473",
       "version_major": 2,
       "version_minor": 0
      },
      "text/plain": [
       "HBox(children=(FloatProgress(value=0.0, max=1000.0), HTML(value='')))"
      ]
     },
     "metadata": {},
     "output_type": "display_data"
    },
    {
     "name": "stderr",
     "output_type": "stream",
     "text": [
      "/Users/dragonstone/opt/anaconda3/lib/python3.7/site-packages/ipykernel_launcher.py:7: RuntimeWarning: overflow encountered in power\n",
      "  import sys\n",
      "/Users/dragonstone/opt/anaconda3/lib/python3.7/site-packages/ipykernel_launcher.py:7: RuntimeWarning: invalid value encountered in matmul\n",
      "  import sys\n",
      "/Users/dragonstone/opt/anaconda3/lib/python3.7/site-packages/ipykernel_launcher.py:8: RuntimeWarning: overflow encountered in power\n",
      "  \n",
      "/Users/dragonstone/opt/anaconda3/lib/python3.7/site-packages/scipy/optimize/optimize.py:1927: RuntimeWarning: invalid value encountered in double_scalars\n",
      "  tmp2 = (x - v) * (fx - fw)\n",
      "/Users/dragonstone/opt/anaconda3/lib/python3.7/site-packages/scipy/optimize/optimize.py:1928: RuntimeWarning: invalid value encountered in double_scalars\n",
      "  p = (x - v) * tmp2 - (x - w) * tmp1\n",
      "/Users/dragonstone/opt/anaconda3/lib/python3.7/site-packages/ipykernel_launcher.py:15: RuntimeWarning: overflow encountered in power\n",
      "  from ipykernel import kernelapp as app\n",
      "/Users/dragonstone/opt/anaconda3/lib/python3.7/site-packages/ipykernel_launcher.py:15: RuntimeWarning: invalid value encountered in matmul\n",
      "  from ipykernel import kernelapp as app\n",
      "/Users/dragonstone/opt/anaconda3/lib/python3.7/site-packages/ipykernel_launcher.py:66: RuntimeWarning: invalid value encountered in add\n",
      "/Users/dragonstone/opt/anaconda3/lib/python3.7/site-packages/ipykernel_launcher.py:33: RuntimeWarning: invalid value encountered in multiply\n"
     ]
    },
    {
     "name": "stdout",
     "output_type": "stream",
     "text": [
      "\n"
     ]
    }
   ],
   "source": [
    "points_6, successes_6 = check_convergence_region(ConjugateGradient().optimize, f_6, x0, 3, size=1000, iterations=50)"
   ]
  },
  {
   "cell_type": "code",
   "execution_count": 88,
   "metadata": {},
   "outputs": [
    {
     "name": "stdout",
     "output_type": "stream",
     "text": [
      "Total 10000 trials\n",
      "p = 2, sigma=3, positive: 0.971, negative: 0.029 \n",
      "p = 4, sigma=3,  positive: 0.998, negative: 0.002 \n",
      "p = 6, sigma=3,  positive: 0.982, negative: 0.018 \n"
     ]
    }
   ],
   "source": [
    "print('Total 10000 trials')\n",
    "print(f'p = 2, sigma=3, positive: {(np.array(successes_2) == 1).sum() / 1000}, negative: {(np.array(successes_2) == 0).sum() / 1000} ')\n",
    "print(f'p = 4, sigma=3,  positive: {(np.array(successes_4) == 1).sum() / 1000}, negative: {(np.array(successes_4) == 0).sum() / 1000} ')\n",
    "print(f'p = 6, sigma=3,  positive: {(np.array(successes_6) == 1).sum() / 1000}, negative: {(np.array(successes_6) == 0).sum() / 1000} ')"
   ]
  },
  {
   "cell_type": "markdown",
   "metadata": {},
   "source": [
    "### Polyak-Ribiere"
   ]
  },
  {
   "cell_type": "code",
   "execution_count": 91,
   "metadata": {},
   "outputs": [],
   "source": [
    "x_history_no_2, f_2_values_history_no, times_history_no_2 = ConjugateGradient().optimize(f_2, x0=x0, iterations=20, method='polak-ribiere')\n",
    "x_history_no_4, f_4_values_history_no, times_history_no_4 = ConjugateGradient().optimize(f_4, x0=x0, iterations=20, method='polak-ribiere')\n",
    "x_history_no_6, f_6_values_history_no, times_history_no_6 = ConjugateGradient().optimize(f_6, x0=x0, iterations=20, method='polak-ribiere')"
   ]
  },
  {
   "cell_type": "code",
   "execution_count": 92,
   "metadata": {},
   "outputs": [],
   "source": [
    "g_f_2_values_history_no = [np.linalg.norm(g.forward(x), ord=2) for x in x_history_no_2]\n",
    "g_f_4_values_history_no = [np.linalg.norm(g.forward(x), ord=2) for x in x_history_no_4]\n",
    "g_f_6_values_history_no = [np.linalg.norm(g.forward(x), ord=2) for x in x_history_no_6]"
   ]
  },
  {
   "cell_type": "code",
   "execution_count": 93,
   "metadata": {},
   "outputs": [
    {
     "data": {
      "image/png": "[encoded data removed]",
      "text/plain": [
       "<Figure size 1080x504 with 2 Axes>"
      ]
     },
     "metadata": {
      "needs_background": "light"
     },
     "output_type": "display_data"
    }
   ],
   "source": [
    "draw_plots([g_f_2_values_history_no, g_f_4_values_history_no, g_f_6_values_history_no],\n",
    "           [times_history_no_2, times_history_no_4, times_history_no_6],\n",
    "           ['CG, Polak-Ribiere, p = 2', 'CG, Polak-Ribiere, p = 4', 'CG, Polak-Ribiere, p = 6'])"
   ]
  },
  {
   "cell_type": "code",
   "execution_count": 94,
   "metadata": {},
   "outputs": [
    {
     "data": {
      "application/vnd.jupyter.widget-view+json": {
       "model_id": "92c5a438b67c4b3b826048fe49e1a1f0",
       "version_major": 2,
       "version_minor": 0
      },
      "text/plain": [
       "HBox(children=(FloatProgress(value=0.0, max=1000.0), HTML(value='')))"
      ]
     },
     "metadata": {},
     "output_type": "display_data"
    },
    {
     "name": "stdout",
     "output_type": "stream",
     "text": [
      "\n"
     ]
    }
   ],
   "source": [
    "points_2, successes_2 = check_convergence_region(partial(ConjugateGradient().optimize, method='polak-ribiere'), f_2,\n",
    "                                                 x0, 3, size=1000, iterations=50)"
   ]
  },
  {
   "cell_type": "code",
   "execution_count": 95,
   "metadata": {},
   "outputs": [
    {
     "data": {
      "application/vnd.jupyter.widget-view+json": {
       "model_id": "dacdd3c0731a495a9b0b36ed628fc0bc",
       "version_major": 2,
       "version_minor": 0
      },
      "text/plain": [
       "HBox(children=(FloatProgress(value=0.0, max=1000.0), HTML(value='')))"
      ]
     },
     "metadata": {},
     "output_type": "display_data"
    },
    {
     "name": "stdout",
     "output_type": "stream",
     "text": [
      "\n"
     ]
    }
   ],
   "source": [
    "points_4, successes_4 = check_convergence_region(partial(ConjugateGradient().optimize, method='polak-ribiere'),\n",
    "                                                 f_4, x0, 3, size=1000, iterations=50)"
   ]
  },
  {
   "cell_type": "code",
   "execution_count": 96,
   "metadata": {},
   "outputs": [
    {
     "data": {
      "application/vnd.jupyter.widget-view+json": {
       "model_id": "36c79ee7e5ac450abe0e12af51150183",
       "version_major": 2,
       "version_minor": 0
      },
      "text/plain": [
       "HBox(children=(FloatProgress(value=0.0, max=1000.0), HTML(value='')))"
      ]
     },
     "metadata": {},
     "output_type": "display_data"
    },
    {
     "name": "stdout",
     "output_type": "stream",
     "text": [
      "\n"
     ]
    }
   ],
   "source": [
    "points_6, successes_6 = check_convergence_region(partial(ConjugateGradient().optimize, method='polak-ribiere'),\n",
    "                                                 f_6, x0, 3, size=1000, iterations=50)"
   ]
  },
  {
   "cell_type": "code",
   "execution_count": 97,
   "metadata": {},
   "outputs": [
    {
     "name": "stdout",
     "output_type": "stream",
     "text": [
      "Total 1000 trials\n",
      "p = 2, sigma=3, positive: 1.0, negative: 0.0 \n",
      "p = 4, sigma=3,  positive: 1.0, negative: 0.0 \n",
      "p = 6, sigma=3,  positive: 0.4, negative: 0.6 \n"
     ]
    }
   ],
   "source": [
    "print('Total 1000 trials')\n",
    "print(f'p = 2, sigma=3, positive: {(np.array(successes_2) == 1).sum() / 1000}, negative: {(np.array(successes_2) == 0).sum() / 1000} ')\n",
    "print(f'p = 4, sigma=3,  positive: {(np.array(successes_4) == 1).sum() / 1000}, negative: {(np.array(successes_4) == 0).sum() / 1000} ')\n",
    "print(f'p = 6, sigma=3,  positive: {(np.array(successes_6) == 1).sum() / 1000}, negative: {(np.array(successes_6) == 0).sum() / 1000} ')"
   ]
  },
  {
   "cell_type": "markdown",
   "metadata": {},
   "source": [
    "# Modified Gauss Newton"
   ]
  },
  {
   "cell_type": "code",
   "execution_count": 114,
   "metadata": {},
   "outputs": [],
   "source": [
    "from scipy.optimize import minimize_scalar, minimize\n",
    "\n",
    "class ModifiedGaussNewton():\n",
    "    def __init__(self):\n",
    "        pass\n",
    "    \n",
    "    def optimize(self, equation, x0=None, iterations=10, minimize_iterations=500, tol=1e-10, initial_L=1, verbose=False):\n",
    "        # random guess\n",
    "        if x0 is None:\n",
    "            x = np.random.rand(equation.A.shape[1])\n",
    "        else: \n",
    "            x = x0\n",
    "\n",
    "        # initialize starting time\n",
    "        start = time()\n",
    "        # save the history of iterations for plotting and analysis\n",
    "        x_history = [x]\n",
    "        values_history = [np.linalg.norm(equation.forward(x), ord=2)]#[regression.forward(x)]\n",
    "        times_history = [0]\n",
    "        L = initial_L\n",
    "        \n",
    "        if verbose:\n",
    "            iter_in = tqdm(range(iterations))\n",
    "        else:\n",
    "            iter_in = range(iterations)\n",
    "            \n",
    "        for i in iter_in:\n",
    "            L  = max(1 / 2 * L, initial_L)\n",
    "            F = equation.forward(x)\n",
    "            J = equation.grad(x)\n",
    "            \n",
    "            def objective(y):\n",
    "                return np.linalg.norm(F + J.T @ (y - x), 2) + L / 2 * np.linalg.norm(y - x, 2) ** 2\n",
    "                        \n",
    "            m = minimize(objective, x, options={'maxiter':minimize_iterations})\n",
    "            \n",
    "            while not m['success']:\n",
    "                if verbose:\n",
    "                    print(f'Line search did not converge on iteration {i}, perturbing the x')\n",
    "                L *= 2\n",
    "                m = minimize(objective, x, options={'maxiter':minimize_iterations})\n",
    "                \n",
    "                if L > 10e+50:\n",
    "                    return x_history, values_history, times_history\n",
    "            \n",
    "            x = m['x']\n",
    "            \n",
    "            x_history.append(x)\n",
    "            values_history.append(np.linalg.norm(equation.forward(x), ord=2))           \n",
    "            \n",
    "            # update times history\n",
    "            times_history.append(time() - start)\n",
    "            if np.abs(values_history[-1] - values_history[-2]) <= tol:\n",
    "                if verbose:\n",
    "                    print(f'Modified Gauss Newton converged on iteration {i}')\n",
    "                break\n",
    "        return x_history, values_history, times_history"
   ]
  },
  {
   "cell_type": "code",
   "execution_count": 115,
   "metadata": {},
   "outputs": [
    {
     "data": {
      "application/vnd.jupyter.widget-view+json": {
       "model_id": "111a0f81fad44badb47b3f6eb428403d",
       "version_major": 2,
       "version_minor": 0
      },
      "text/plain": [
       "HBox(children=(FloatProgress(value=0.0, max=15.0), HTML(value='')))"
      ]
     },
     "metadata": {},
     "output_type": "display_data"
    },
    {
     "name": "stdout",
     "output_type": "stream",
     "text": [
      "Line search did not converge on iteration 0, perturbing the x\n",
      "Line search did not converge on iteration 0, perturbing the x\n",
      "Line search did not converge on iteration 1, perturbing the x\n",
      "Line search did not converge on iteration 1, perturbing the x\n",
      "Line search did not converge on iteration 1, perturbing the x\n",
      "Line search did not converge on iteration 1, perturbing the x\n",
      "Line search did not converge on iteration 2, perturbing the x\n",
      "Line search did not converge on iteration 2, perturbing the x\n",
      "Line search did not converge on iteration 2, perturbing the x\n",
      "Line search did not converge on iteration 3, perturbing the x\n",
      "Line search did not converge on iteration 3, perturbing the x\n",
      "Line search did not converge on iteration 4, perturbing the x\n",
      "Line search did not converge on iteration 4, perturbing the x\n",
      "Line search did not converge on iteration 4, perturbing the x\n",
      "Line search did not converge on iteration 5, perturbing the x\n",
      "Line search did not converge on iteration 5, perturbing the x\n",
      "Line search did not converge on iteration 5, perturbing the x\n",
      "Line search did not converge on iteration 5, perturbing the x\n",
      "Line search did not converge on iteration 6, perturbing the x\n",
      "Line search did not converge on iteration 6, perturbing the x\n",
      "Line search did not converge on iteration 8, perturbing the x\n",
      "Line search did not converge on iteration 8, perturbing the x\n",
      "Line search did not converge on iteration 8, perturbing the x\n",
      "Line search did not converge on iteration 8, perturbing the x\n",
      "Line search did not converge on iteration 9, perturbing the x\n",
      "Line search did not converge on iteration 10, perturbing the x\n",
      "Line search did not converge on iteration 11, perturbing the x\n",
      "Line search did not converge on iteration 11, perturbing the x\n",
      "Line search did not converge on iteration 11, perturbing the x\n",
      "Line search did not converge on iteration 12, perturbing the x\n",
      "Line search did not converge on iteration 13, perturbing the x\n",
      "Line search did not converge on iteration 14, perturbing the x\n",
      "Line search did not converge on iteration 14, perturbing the x\n",
      "\n"
     ]
    }
   ],
   "source": [
    "x_history, values_history, times_history = ModifiedGaussNewton().optimize(g, x0=x0, iterations=15, verbose=True)\n"
   ]
  },
  {
   "cell_type": "code",
   "execution_count": 116,
   "metadata": {},
   "outputs": [
    {
     "data": {
      "image/png": "[encoded data removed]",
      "text/plain": [
       "<Figure size 1080x504 with 2 Axes>"
      ]
     },
     "metadata": {
      "needs_background": "light"
     },
     "output_type": "display_data"
    }
   ],
   "source": [
    "draw_plots([values_history],\n",
    "           [times_history],\n",
    "           ['Modified-Gauss-Newton'])"
   ]
  },
  {
   "cell_type": "code",
   "execution_count": 117,
   "metadata": {},
   "outputs": [
    {
     "data": {
      "application/vnd.jupyter.widget-view+json": {
       "model_id": "a0bf08d7fbef4307be5addf2e499d725",
       "version_major": 2,
       "version_minor": 0
      },
      "text/plain": [
       "HBox(children=(FloatProgress(value=0.0), HTML(value='')))"
      ]
     },
     "metadata": {},
     "output_type": "display_data"
    },
    {
     "name": "stdout",
     "output_type": "stream",
     "text": [
      "\n"
     ]
    }
   ],
   "source": [
    "points, successes = check_convergence_region(ModifiedGaussNewton().optimize, g, x0, 3, size=100, iterations=15,\n",
    "                                             optimization_problem=False)"
   ]
  },
  {
   "cell_type": "code",
   "execution_count": 118,
   "metadata": {},
   "outputs": [
    {
     "name": "stdout",
     "output_type": "stream",
     "text": [
      "Total 100 trials\n",
      "sigma=3, positive: 0.24, negative: 0.76 \n"
     ]
    }
   ],
   "source": [
    "print('Total 100 trials')\n",
    "print(f'sigma=3, positive: {(np.array(successes) == 1).sum() / 100}, negative: {(np.array(successes) == 0).sum() / 100} ')"
   ]
  },
  {
   "cell_type": "markdown",
   "metadata": {},
   "source": [
    "# Accelerated Residuals"
   ]
  },
  {
   "cell_type": "code",
   "execution_count": 119,
   "metadata": {},
   "outputs": [],
   "source": [
    "class AcceleratedResiduals():\n",
    "    def __init__(self):\n",
    "        pass\n",
    "    \n",
    "    def optimize(self, equation, x0=None, alpha=0.1, iterations=50, verbose=False, n=1, tol=1e-3 / np.sqrt(2), line_search_iter=100):\n",
    "        # random guess\n",
    "        if x0 is None:\n",
    "            u = np.random.rand(function.A.shape[1])\n",
    "        else: \n",
    "            u = x0\n",
    "\n",
    "        # initialize starting time\n",
    "        start = time()\n",
    "        # save the history of iterations for plotting and analysis\n",
    "        u_history = [u]\n",
    "        values_history = [np.linalg.norm(equation.forward(u), ord=2)]\n",
    "        times_history = [0]\n",
    "        \n",
    "        if verbose:\n",
    "            pbar = tqdm(total=iterations)\n",
    "        \n",
    "        k = 0\n",
    "        total_iters = 0\n",
    "        alpha_k = alpha\n",
    "        while (k <= iterations) and (total_iters <= iterations):\n",
    "#             def objective_forward(alpha):\n",
    "#                 return np.linalg.norm(equation.forward(u - alpha * equation.forward(u)))\n",
    "            \n",
    "#             alpha_k = minimize_scalar(objective_forward, bounds=(0, 1), method='bounded', options={'maxiter':line_search_iter})\n",
    "#             alpha_k = alpha_k['x']\n",
    "            if k == 0:\n",
    "                v_k = u - alpha_k * equation.forward(u)\n",
    "            else:\n",
    "                beta_k = np.linalg.norm(equation.forward(u), ord=2) / np.linalg.norm(equation.forward(u_history[-2]), ord=2)\n",
    "                v_k = u + beta_k * (u - u_history[-2]) - alpha_k * (1 + beta_k) * equation.forward(u)\n",
    "            \n",
    "            u = v_k - alpha_k * equation.forward(v_k)\n",
    "            \n",
    "            u_history.append(u)\n",
    "            values_history.append(np.linalg.norm(equation.forward(u), ord=2))          \n",
    "            times_history.append(time() - start)\n",
    "            if np.linalg.norm(equation.forward(u), ord=2) <= tol:\n",
    "                if verbose:\n",
    "                    print(f'Accelerated residuals converged on iteration {total_iters}')\n",
    "                for i in range(total_iters, iterations):\n",
    "                    u_history.append(u_history[-1])\n",
    "                    values_history.append(values_history[-1])\n",
    "                    times_history.append(times_history[-1])\n",
    "                break\n",
    "            if k > n and values_history[-1] > values_history[-1 - n]:\n",
    "                u = x_history[-2]\n",
    "                k = 0\n",
    "            if verbose:\n",
    "                pbar.update(1)\n",
    "            total_iters += 1\n",
    "            \n",
    "            if total_iters > iterations:\n",
    "                break\n",
    "        return u_history, values_history, times_history"
   ]
  },
  {
   "cell_type": "code",
   "execution_count": 121,
   "metadata": {},
   "outputs": [
    {
     "data": {
      "application/vnd.jupyter.widget-view+json": {
       "model_id": "d872650493c1423ea21a960c153bcf87",
       "version_major": 2,
       "version_minor": 0
      },
      "text/plain": [
       "HBox(children=(FloatProgress(value=0.0, max=1000.0), HTML(value='')))"
      ]
     },
     "metadata": {},
     "output_type": "display_data"
    },
    {
     "name": "stdout",
     "output_type": "stream",
     "text": [
      "Accelerated residuals converged on iteration 94\n"
     ]
    }
   ],
   "source": [
    "x_history, values_history, times_history = AcceleratedResiduals().optimize(g, x0, iterations=1000, alpha=1e-2, verbose=True)"
   ]
  },
  {
   "cell_type": "code",
   "execution_count": 122,
   "metadata": {},
   "outputs": [
    {
     "data": {
      "image/png": "[encoded data removed]",
      "text/plain": [
       "<Figure size 1080x504 with 2 Axes>"
      ]
     },
     "metadata": {
      "needs_background": "light"
     },
     "output_type": "display_data"
    }
   ],
   "source": [
    "draw_plots([values_history],\n",
    "           [times_history],\n",
    "           ['Accelerated Residuals'])"
   ]
  },
  {
   "cell_type": "code",
   "execution_count": 125,
   "metadata": {},
   "outputs": [
    {
     "data": {
      "application/vnd.jupyter.widget-view+json": {
       "model_id": "99960803e06c4453b52be8c1940a5f3d",
       "version_major": 2,
       "version_minor": 0
      },
      "text/plain": [
       "HBox(children=(FloatProgress(value=0.0, max=10000.0), HTML(value='')))"
      ]
     },
     "metadata": {},
     "output_type": "display_data"
    },
    {
     "name": "stderr",
     "output_type": "stream",
     "text": [
      "/Users/dragonstone/opt/anaconda3/lib/python3.7/site-packages/ipykernel_launcher.py:7: RuntimeWarning: overflow encountered in power\n",
      "  import sys\n",
      "/Users/dragonstone/opt/anaconda3/lib/python3.7/site-packages/ipykernel_launcher.py:7: RuntimeWarning: invalid value encountered in subtract\n",
      "  import sys\n"
     ]
    },
    {
     "name": "stdout",
     "output_type": "stream",
     "text": [
      "\n"
     ]
    }
   ],
   "source": [
    "points, successes = check_convergence_region(AcceleratedResiduals().optimize, g,\n",
    "                                                 x0, 3, size=10000, iterations=100, optimization_problem=False)"
   ]
  },
  {
   "cell_type": "code",
   "execution_count": 127,
   "metadata": {},
   "outputs": [
    {
     "name": "stdout",
     "output_type": "stream",
     "text": [
      "Total 10000 trials\n",
      "sigma=3, positive: 0.1, negative: 0.0 \n"
     ]
    }
   ],
   "source": [
    "print('Total 10000 trials')\n",
    "print(f'sigma=3, positive: {(np.array(successes_2) == 1).sum() / 10000}, negative: {(np.array(successes_2) == 0).sum() / 10000} ')"
   ]
  },
  {
   "cell_type": "markdown",
   "metadata": {},
   "source": [
    "# AcceleratedResiduals Grad"
   ]
  },
  {
   "cell_type": "code",
   "execution_count": 129,
   "metadata": {},
   "outputs": [],
   "source": [
    "class AcceleratedResidualsGrad():\n",
    "    def __init__(self):\n",
    "        pass\n",
    "    \n",
    "    def optimize(self, function, x0=None, alpha=0.1, iterations=50, verbose=False, n=1, tol=1e-3 / np.sqrt(2), line_search_iter=100):\n",
    "        # random guess\n",
    "        if x0 is None:\n",
    "            u = np.random.rand(function.A.shape[1])\n",
    "        else: \n",
    "            u = x0\n",
    "\n",
    "        # initialize starting time\n",
    "        start = time()\n",
    "        # save the history of iterations for plotting and analysis\n",
    "        u_history = [u]\n",
    "        values_history = [function.forward(u)]\n",
    "        times_history = [0]\n",
    "        \n",
    "        if verbose:\n",
    "            pbar = tqdm(total=iterations)\n",
    "        \n",
    "        k = 0\n",
    "        total_iters = 0\n",
    "        alpha_k = alpha\n",
    "        while (k <= iterations) and (total_iters <= iterations):\n",
    "#             def objective_forward(alpha):\n",
    "#                 return np.linalg.norm(equation.forward(u - alpha * equation.forward(u)))\n",
    "            \n",
    "#             alpha_k = minimize_scalar(objective_forward, bounds=(0, 1), method='bounded', options={'maxiter':line_search_iter})\n",
    "#             alpha_k = alpha_k['x']\n",
    "            if k == 0:\n",
    "                v_k = u - alpha_k * function.grad(u)\n",
    "            else:\n",
    "                beta_k = np.linalg.norm(function.grad(u), ord=2) / np.linalg.norm(function.grad(u_history[-2]), ord=2)\n",
    "                v_k = u + beta_k * (u - u_history[-2]) - alpha_k * (1 + beta_k) * function.grad(u)\n",
    "            \n",
    "            u = v_k - alpha_k * function.grad(v_k)\n",
    "            \n",
    "            u_history.append(u)\n",
    "            values_history.append(function.forward(u))           \n",
    "            times_history.append(time() - start)\n",
    "            if np.linalg.norm(function._g.forward(u)) <= tol:\n",
    "                if verbose:\n",
    "                    print(f'Accelerated residuals converged on iteration {total_iters}')\n",
    "                for i in range(total_iters, iterations):\n",
    "                    u_history.append(u_history[-1])\n",
    "                    values_history.append(values_history[-1])\n",
    "                    times_history.append(times_history[-1])\n",
    "                break\n",
    "            if k > n and values_history[-1] > values_history[-1 - n]:\n",
    "                u = x_history[-2]\n",
    "                k = 0\n",
    "            if verbose:\n",
    "                pbar.update(1)\n",
    "            total_iters += 1\n",
    "            \n",
    "            if total_iters > iterations:\n",
    "                break\n",
    "        return u_history, values_history, times_history"
   ]
  },
  {
   "cell_type": "code",
   "execution_count": 171,
   "metadata": {},
   "outputs": [
    {
     "data": {
      "application/vnd.jupyter.widget-view+json": {
       "model_id": "8a861da8c0394ede9ec91e511c9fbe73",
       "version_major": 2,
       "version_minor": 0
      },
      "text/plain": [
       "HBox(children=(FloatProgress(value=0.0, max=2000.0), HTML(value='')))"
      ]
     },
     "metadata": {},
     "output_type": "display_data"
    },
    {
     "name": "stdout",
     "output_type": "stream",
     "text": [
      "Accelerated residuals converged on iteration 7\n"
     ]
    },
    {
     "data": {
      "application/vnd.jupyter.widget-view+json": {
       "model_id": "3ab1e54dc56d460fa8a4bc5040c5402a",
       "version_major": 2,
       "version_minor": 0
      },
      "text/plain": [
       "HBox(children=(FloatProgress(value=0.0, max=2000.0), HTML(value='')))"
      ]
     },
     "metadata": {},
     "output_type": "display_data"
    },
    {
     "data": {
      "application/vnd.jupyter.widget-view+json": {
       "model_id": "e37232de7e31488f9becce1f61c11452",
       "version_major": 2,
       "version_minor": 0
      },
      "text/plain": [
       "HBox(children=(FloatProgress(value=0.0, max=2000.0), HTML(value='')))"
      ]
     },
     "metadata": {},
     "output_type": "display_data"
    }
   ],
   "source": [
    "x_history_no_2, f_2_values_history_no, times_history_no_2 = AcceleratedResidualsGrad().optimize(f_2, x0, iterations=2000, alpha=1e-2, verbose=True)\n",
    "x_history_no_4, f_4_values_history_no, times_history_no_4 = AcceleratedResidualsGrad().optimize(f_4, x0, iterations=2000, alpha=1.5e-3, verbose=True)\n",
    "x_history_no_6, f_6_values_history_no, times_history_no_6 = AcceleratedResidualsGrad().optimize(f_6, x0, iterations=2000, alpha=1.5e-4, verbose=True)\n"
   ]
  },
  {
   "cell_type": "code",
   "execution_count": 172,
   "metadata": {},
   "outputs": [],
   "source": [
    "g_f_2_values_history_no = [np.linalg.norm(g.forward(x), ord=2) for x in x_history_no_2]\n",
    "g_f_4_values_history_no = [np.linalg.norm(g.forward(x), ord=2) for x in x_history_no_4]\n",
    "g_f_6_values_history_no = [np.linalg.norm(g.forward(x), ord=2) for x in x_history_no_6]"
   ]
  },
  {
   "cell_type": "code",
   "execution_count": 173,
   "metadata": {},
   "outputs": [
    {
     "data": {
      "image/png": "[encoded data removed]",
      "text/plain": [
       "<Figure size 1080x504 with 2 Axes>"
      ]
     },
     "metadata": {
      "needs_background": "light"
     },
     "output_type": "display_data"
    }
   ],
   "source": [
    "draw_plots([g_f_2_values_history_no, g_f_4_values_history_no, g_f_6_values_history_no],\n",
    "           [times_history_no_2, times_history_no_4, times_history_no_6],\n",
    "           ['Accelerated Residuals, p = 2', 'Accelerated Residuals, p = 4', 'Accelerated Residuals, p = 6'])"
   ]
  },
  {
   "cell_type": "code",
   "execution_count": 174,
   "metadata": {},
   "outputs": [
    {
     "data": {
      "application/vnd.jupyter.widget-view+json": {
       "model_id": "53938e2dc6cf4ef18adbc9f5ffed7f9a",
       "version_major": 2,
       "version_minor": 0
      },
      "text/plain": [
       "HBox(children=(FloatProgress(value=0.0, max=1000.0), HTML(value='')))"
      ]
     },
     "metadata": {},
     "output_type": "display_data"
    },
    {
     "name": "stderr",
     "output_type": "stream",
     "text": [
      "/Users/dragonstone/opt/anaconda3/lib/python3.7/site-packages/ipykernel_launcher.py:8: RuntimeWarning: overflow encountered in square\n",
      "  \n",
      "/Users/dragonstone/opt/anaconda3/lib/python3.7/site-packages/ipykernel_launcher.py:7: RuntimeWarning: overflow encountered in power\n",
      "  import sys\n",
      "/Users/dragonstone/opt/anaconda3/lib/python3.7/site-packages/ipykernel_launcher.py:11: RuntimeWarning: overflow encountered in square\n",
      "  # This is added back by InteractiveShellApp.init_path()\n",
      "/Users/dragonstone/opt/anaconda3/lib/python3.7/site-packages/ipykernel_launcher.py:7: RuntimeWarning: invalid value encountered in subtract\n",
      "  import sys\n",
      "/Users/dragonstone/opt/anaconda3/lib/python3.7/site-packages/ipykernel_launcher.py:15: RuntimeWarning: overflow encountered in matmul\n",
      "  from ipykernel import kernelapp as app\n"
     ]
    },
    {
     "name": "stdout",
     "output_type": "stream",
     "text": [
      "\n"
     ]
    }
   ],
   "source": [
    "points_2, successes_2 = check_convergence_region(AcceleratedResidualsGrad().optimize, f_2,\n",
    "                                                 x0, 3, size=1000, iterations=100)"
   ]
  },
  {
   "cell_type": "code",
   "execution_count": 175,
   "metadata": {},
   "outputs": [
    {
     "data": {
      "application/vnd.jupyter.widget-view+json": {
       "model_id": "d344285f2f1b4a74a5261ac38bcab5d3",
       "version_major": 2,
       "version_minor": 0
      },
      "text/plain": [
       "HBox(children=(FloatProgress(value=0.0, max=1000.0), HTML(value='')))"
      ]
     },
     "metadata": {},
     "output_type": "display_data"
    },
    {
     "name": "stderr",
     "output_type": "stream",
     "text": [
      "/Users/dragonstone/opt/anaconda3/lib/python3.7/site-packages/ipykernel_launcher.py:8: RuntimeWarning: overflow encountered in power\n",
      "  \n",
      "/Users/dragonstone/opt/anaconda3/lib/python3.7/site-packages/ipykernel_launcher.py:15: RuntimeWarning: overflow encountered in power\n",
      "  from ipykernel import kernelapp as app\n",
      "/Users/dragonstone/opt/anaconda3/lib/python3.7/site-packages/ipykernel_launcher.py:7: RuntimeWarning: invalid value encountered in subtract\n",
      "  import sys\n",
      "/Users/dragonstone/opt/anaconda3/lib/python3.7/site-packages/ipykernel_launcher.py:15: RuntimeWarning: overflow encountered in matmul\n",
      "  from ipykernel import kernelapp as app\n",
      "/Users/dragonstone/opt/anaconda3/lib/python3.7/site-packages/ipykernel_launcher.py:7: RuntimeWarning: overflow encountered in power\n",
      "  import sys\n",
      "/Users/dragonstone/opt/anaconda3/lib/python3.7/site-packages/ipykernel_launcher.py:11: RuntimeWarning: overflow encountered in square\n",
      "  # This is added back by InteractiveShellApp.init_path()\n",
      "/Users/dragonstone/opt/anaconda3/lib/python3.7/site-packages/ipykernel_launcher.py:15: RuntimeWarning: invalid value encountered in matmul\n",
      "  from ipykernel import kernelapp as app\n"
     ]
    },
    {
     "name": "stdout",
     "output_type": "stream",
     "text": [
      "\n"
     ]
    }
   ],
   "source": [
    "points_4, successes_4 = check_convergence_region(AcceleratedResidualsGrad().optimize,\n",
    "                                                 f_4, x0, 3, size=1000, iterations=100)"
   ]
  },
  {
   "cell_type": "code",
   "execution_count": 176,
   "metadata": {},
   "outputs": [
    {
     "data": {
      "application/vnd.jupyter.widget-view+json": {
       "model_id": "e7deede6f57141628a4b0e9a9f495f21",
       "version_major": 2,
       "version_minor": 0
      },
      "text/plain": [
       "HBox(children=(FloatProgress(value=0.0, max=1000.0), HTML(value='')))"
      ]
     },
     "metadata": {},
     "output_type": "display_data"
    },
    {
     "name": "stderr",
     "output_type": "stream",
     "text": [
      "/Users/dragonstone/opt/anaconda3/lib/python3.7/site-packages/ipykernel_launcher.py:7: RuntimeWarning: overflow encountered in power\n",
      "  import sys\n",
      "/Users/dragonstone/opt/anaconda3/lib/python3.7/site-packages/ipykernel_launcher.py:7: RuntimeWarning: invalid value encountered in subtract\n",
      "  import sys\n",
      "/Users/dragonstone/opt/anaconda3/lib/python3.7/site-packages/ipykernel_launcher.py:8: RuntimeWarning: overflow encountered in power\n",
      "  \n",
      "/Users/dragonstone/opt/anaconda3/lib/python3.7/site-packages/ipykernel_launcher.py:15: RuntimeWarning: overflow encountered in power\n",
      "  from ipykernel import kernelapp as app\n",
      "/Users/dragonstone/opt/anaconda3/lib/python3.7/site-packages/ipykernel_launcher.py:7: RuntimeWarning: invalid value encountered in matmul\n",
      "  import sys\n",
      "/Users/dragonstone/opt/anaconda3/lib/python3.7/site-packages/ipykernel_launcher.py:15: RuntimeWarning: invalid value encountered in matmul\n",
      "  from ipykernel import kernelapp as app\n"
     ]
    },
    {
     "name": "stdout",
     "output_type": "stream",
     "text": [
      "\n"
     ]
    }
   ],
   "source": [
    "points_6, successes_6 = check_convergence_region(AcceleratedResidualsGrad().optimize,\n",
    "                                                 f_6, x0, 3, size=1000, iterations=100)"
   ]
  },
  {
   "cell_type": "code",
   "execution_count": 177,
   "metadata": {},
   "outputs": [
    {
     "name": "stdout",
     "output_type": "stream",
     "text": [
      "Total 1000 trials\n",
      "p = 2, sigma=3, positive: 0.0, negative: 1.0 \n",
      "p = 4, sigma=3,  positive: 0.0, negative: 1.0 \n",
      "p = 6, sigma=3,  positive: 0.0, negative: 1.0 \n"
     ]
    }
   ],
   "source": [
    "print('Total 1000 trials')\n",
    "print(f'p = 2, sigma=3, positive: {(np.array(successes_2) == 1).sum() / 1000}, negative: {(np.array(successes_2) == 0).sum() / 1000} ')\n",
    "print(f'p = 4, sigma=3,  positive: {(np.array(successes_4) == 1).sum() / 1000}, negative: {(np.array(successes_4) == 0).sum() / 1000} ')\n",
    "print(f'p = 6, sigma=3,  positive: {(np.array(successes_6) == 1).sum() / 1000}, negative: {(np.array(successes_6) == 0).sum() / 1000} ')"
   ]
  }
 ],
 "metadata": {
  "kernelspec": {
   "display_name": "Python 3",
   "language": "python",
   "name": "python3"
  },
  "language_info": {
   "codemirror_mode": {
    "name": "ipython",
    "version": 3
   },
   "file_extension": ".py",
   "mimetype": "text/x-python",
   "name": "python",
   "nbconvert_exporter": "python",
   "pygments_lexer": "ipython3",
   "version": "3.7.4"
  }
 },
 "nbformat": 4,
 "nbformat_minor": 2
}
