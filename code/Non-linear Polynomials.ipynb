{
 "cells": [
  {
   "cell_type": "code",
   "execution_count": 21,
   "metadata": {},
   "outputs": [],
   "source": [
    "import numpy as np\n",
    "from time import time\n",
    "import matplotlib.pyplot as plt\n",
    "from tqdm.notebook import tqdm\n",
    "from scipy.optimize import minimize_scalar\n",
    "\n",
    "\n",
    "%matplotlib inline"
   ]
  },
  {
   "cell_type": "code",
   "execution_count": 74,
   "metadata": {},
   "outputs": [],
   "source": [
    "def make_np_array(x):\n",
    "    if type(x) != np.ndarray and type(x) != list and type(x) != tuple:\n",
    "        return np.array([x])\n",
    "    else:\n",
    "        return np.array(x)"
   ]
  },
  {
   "cell_type": "code",
   "execution_count": 182,
   "metadata": {},
   "outputs": [],
   "source": [
    "def draw_plots(values, times, names):\n",
    "    fig, axs = plt.subplots(nrows=1, ncols=2, figsize=(15, 7))\n",
    "    \n",
    "    \n",
    "    for name_, values_ in zip(names, values):\n",
    "        axs[0].plot(values_, label=name_)\n",
    "    axs[0].set_xlabel('Iteration')\n",
    "    axs[0].set_ylabel('Value')\n",
    "    \n",
    "    for name_, times_ in zip(names, times):\n",
    "        axs[1].plot(times_, label=name_)\n",
    "    \n",
    "    axs[1].set_xlabel('Iteration')\n",
    "    axs[1].set_ylabel('Time, s')\n",
    "    \n",
    "    axs[0].grid()\n",
    "    axs[1].grid()\n",
    "    \n",
    "    axs[0].legend()\n",
    "    axs[1].legend()\n",
    "    \n",
    "    plt.show()"
   ]
  },
  {
   "cell_type": "markdown",
   "metadata": {},
   "source": [
    "As the simplest examples of the non-linear equations we decided to consider polymonials."
   ]
  },
  {
   "cell_type": "markdown",
   "metadata": {},
   "source": [
    "**Generation:** Polynomials are randomly generated. We consider a canonical polynomial:\n",
    "\n",
    "$g(x) = a_qx^q + a_{q - 1}x^{q - 1} + \\ldots + a_0$\n",
    "\n",
    "$a = \\begin{pmatrix} a_0 \\\\ \\vdots \\\\ a_q \\end{pmatrix}$, where $\\forall i$ smallest_coefficient < $a_i$ < largest_coefficient."
   ]
  },
  {
   "cell_type": "markdown",
   "metadata": {},
   "source": [
    "The gradient is:\n",
    "$g'(x) = a_q \\cdot q \\cdot x^{q - 1} + a_{q - 1} \\cdot (q - 1) \\cdot x^{q - 2} + \\ldots + a_1$"
   ]
  },
  {
   "cell_type": "code",
   "execution_count": 199,
   "metadata": {},
   "outputs": [],
   "source": [
    "class PolynomialData():\n",
    "    def __init__(self, degree,\n",
    "                 smallest_coefficient=-100,\n",
    "                 largest_coefficient=100,\n",
    "                 a = None):\n",
    "        self._degree = degree\n",
    "        if a is None:\n",
    "            self._a = smallest_coefficient + (np.random.rand(self._degree + 1) * (largest_coefficient - smallest_coefficient))\n",
    "        else:\n",
    "            self._a = np.array(a[::-1])\n",
    "            \n",
    "    def forward(self, x):\n",
    "        # stacked x is a matrix, [1, ..., x^(q - 1), x^q]\n",
    "        stacked_x = np.array([x ** i for i in range(self._degree + 1)])\n",
    "        \n",
    "        return stacked_x.T @ self._a\n",
    "        \n",
    "    def grad(self, x):\n",
    "        stacked_x = np.array([x ** i for i in range(self._degree)])\n",
    "\n",
    "        return stacked_x.T @ (self._a[1:] * np.arange(1, self._degree + 1))\n",
    "    \n",
    "    def hess(self, x):\n",
    "        stacked_x = np.array([x ** i for i in range(self._degree - 1)])\n",
    "        \n",
    "        return stacked_x.T @ (self._a[2:] * np.arange(2, self._degree + 1) * np.arange(1, self._degree))\n",
    "    \n",
    "    def __str__(self):\n",
    "        return '+'.join([f'{self._a[i]}x^{i}' for i in range(0, self._degree + 1)][::-1])\n",
    "    \n",
    "    def grad_str(self):\n",
    "        return '+'.join([f'{self._a[i]} * {i} * x^{i - 1}' for i in range(1, self._degree + 1)][::-1])\n",
    "    \n",
    "    def hess_str(self):\n",
    "        return '+'.join([f'{self._a[i]} * {i} * {i - 1} * x^{i - 2}' for i in range(2, self._degree + 1)][::-1])"
   ]
  },
  {
   "cell_type": "code",
   "execution_count": 200,
   "metadata": {},
   "outputs": [],
   "source": [
    "p = PolynomialData(2, a=[2, 3, 1])"
   ]
  },
  {
   "cell_type": "markdown",
   "metadata": {},
   "source": [
    "As proposed in the project description we transform the data as follows to get the convex minimization task:\n",
    "\n",
    "$f(x) = \\sum\\limits_{i = 0}^n g_i(x)^p \\to \\min$, $p \\geq 1$"
   ]
  },
  {
   "cell_type": "markdown",
   "metadata": {},
   "source": [
    "Class PolynomialOptimData transforms the PolynomialData this way."
   ]
  },
  {
   "cell_type": "code",
   "execution_count": 185,
   "metadata": {},
   "outputs": [],
   "source": [
    "class PolynomialOptimData():\n",
    "    def __init__(self, g, p = 2):\n",
    "        self._g = g\n",
    "        self._p = p\n",
    "    \n",
    "    def forward(self, x):\n",
    "        g = self._g.forward(x)\n",
    "        return (g ** self._p).sum()\n",
    "        \n",
    "    def grad(self, x):\n",
    "        x = np.array(x)\n",
    "        \n",
    "        g = self._g.forward(x)\n",
    "        grad_g = self._g.grad(x)\n",
    "        return make_np_array(self._p * (g ** (self._p - 1)) @ grad_g)\n",
    "    \n",
    "    def hess(self, x):\n",
    "        x = np.array(x)\n",
    "        \n",
    "        g = self._g.forward(x)\n",
    "        grad_g = self._g.grad(x)\n",
    "        hess_g = self._g.hess(x)\n",
    "        return make_np_array(self._p * (self._p - 1) * (g ** (self._p - 2)) @ grad_g + self._p * (g ** (self._p - 1)) @ hess_g)"
   ]
  },
  {
   "cell_type": "markdown",
   "metadata": {},
   "source": [
    "# Newton's Algorithms"
   ]
  },
  {
   "cell_type": "markdown",
   "metadata": {},
   "source": [
    "Solving g(x) = 0, $x_k = x_{k - 1} - \\frac{g(x)}{g'(x)}$"
   ]
  },
  {
   "cell_type": "code",
   "execution_count": 186,
   "metadata": {},
   "outputs": [],
   "source": [
    "class NewtonSolvingAlgorithm():\n",
    "    def __init__(self):\n",
    "        pass\n",
    "    \n",
    "    def solve(self, equation, x0, iterations=10):\n",
    "        x = x0\n",
    "        x_history = [x]\n",
    "        values_history = [np.linalg.norm(equation.forward(x), ord=2)]\n",
    "        times_history = [0]\n",
    "        \n",
    "        start = time()\n",
    "        for i in range(iterations):\n",
    "            x = x - equation.forward(x) / equation.grad(x)\n",
    "            \n",
    "            values_history.append(np.linalg.norm(equation.forward(x), ord=2))\n",
    "            x_history.append(x)\n",
    "            times_history.append(time() - start)\n",
    "        return x_history, values_history, times_history"
   ]
  },
  {
   "cell_type": "markdown",
   "metadata": {},
   "source": [
    "Optimizing f(x) $\\to$ $\\min$, $x_k = x_{k - 1} - \\frac{f'(x)}{f''(x)}$"
   ]
  },
  {
   "cell_type": "code",
   "execution_count": 187,
   "metadata": {},
   "outputs": [],
   "source": [
    "class NewtonOptimizationAlgorithm():\n",
    "    def __init__(self):\n",
    "        pass\n",
    "    \n",
    "    def optimize(self, function, x0, iterations=10):\n",
    "        x = x0\n",
    "        \n",
    "        x_history = [x]\n",
    "        values_history = [function.forward(x)]\n",
    "        times_history = [0]\n",
    "        \n",
    "        start = time()\n",
    "        for i in range(iterations):\n",
    "            x = x - function.grad(x) / function.hess(x)\n",
    "            \n",
    "            values_history.append(function.forward(x))\n",
    "            x_history.append(x)\n",
    "            times_history.append(time() - start)\n",
    "        return x_history, values_history, times_history"
   ]
  },
  {
   "cell_type": "markdown",
   "metadata": {},
   "source": [
    "# Conjugated Gradients"
   ]
  },
  {
   "cell_type": "code",
   "execution_count": 180,
   "metadata": {},
   "outputs": [],
   "source": [
    "class ConjugateGradient():\n",
    "    def __init__(self):\n",
    "        pass\n",
    "    \n",
    "    def optimize(self, regression, iterations=10, method='fletcher-reeves', x0=None, default_step=0.01,\n",
    "                line_search_iter=50, line_search_tolerance=10):\n",
    "        # random guess\n",
    "        if x0 is None:\n",
    "            x = np.random.rand(regression.A.shape[1])\n",
    "        else: \n",
    "            x = x0\n",
    "        \n",
    "        # conjugate direction\n",
    "        d = -regression.grad(x)\n",
    "        \n",
    "        # initialize starting time\n",
    "        start = time()\n",
    "        # save the history of iterations for plotting and analysis\n",
    "        x_history = [x]\n",
    "        values_history = [regression.forward(x)]\n",
    "        grads_history = [regression.grad(x)]\n",
    "        times_history = [0]\n",
    "        \n",
    "        for i in tqdm(range(iterations)):\n",
    "            # line search alpha\n",
    "            #alpha = line_search(regression.forward, regression.grad, x, d, maxiter=100)[0]\n",
    "            \n",
    "            alpha = minimize_scalar(lambda l: regression.forward(x + l * d),\n",
    "                                       bounds=(0, default_step), method='Golden',\n",
    "                                       options={'maxiter':line_search_iter,\n",
    "                                                'xtol': default_step / line_search_tolerance})\n",
    "            alpha = alpha['x']\n",
    "            if alpha == 0:\n",
    "                print(f'Line search did not converge on iteration {i}, using default step')\n",
    "                alpha = default_step / (i + 1)\n",
    "                #return x_history, values_history, times_history\n",
    "            \n",
    "            # update x_k + 1\n",
    "            x = x + alpha * d\n",
    "            x_history.append(x)\n",
    "            values_history.append(regression.forward(x))\n",
    "            \n",
    "            # compute g_k + 1\n",
    "            g = regression.grad(x)\n",
    "            grads_history.append(g)\n",
    "            \n",
    "            # update d_k + 1\n",
    "            if method == 'fletcher-reeves':\n",
    "                if (grads_history[-2].T @ grads_history[-2]) == 0:\n",
    "                    beta = 0\n",
    "                else:\n",
    "                    beta = (g.T @ g) / (grads_history[-2].T @ grads_history[-2])\n",
    "            elif method == 'polak-ribiere':\n",
    "                if (grads_history[-2].T @ grads_history[-2]) == 0:\n",
    "                    beta = 0\n",
    "                else:\n",
    "                    beta = ((g - grads_history[-2]).T @ g) / (grads_history[-2].T @ grads_history[-2])\n",
    "            else:\n",
    "                raise Exception(f'Unknown method: {method}')\n",
    "            d = -g + beta * d\n",
    "            \n",
    "            # update times history\n",
    "            times_history.append(time() - start)\n",
    "        print(f'Conjugate gradient converged on iteration {i}')\n",
    "        return x_history, values_history, times_history"
   ]
  },
  {
   "cell_type": "code",
   "execution_count": 283,
   "metadata": {},
   "outputs": [],
   "source": [
    "g = PolynomialData(100000)\n",
    "f = PolynomialOptimData(g, p = 2)"
   ]
  },
  {
   "cell_type": "code",
   "execution_count": 284,
   "metadata": {},
   "outputs": [],
   "source": [
    "ns = NewtonSolvingAlgorithm()\n",
    "no = NewtonOptimizationAlgorithm()\n",
    "cg = ConjugateGradient()"
   ]
  },
  {
   "cell_type": "code",
   "execution_count": 285,
   "metadata": {},
   "outputs": [
    {
     "name": "stderr",
     "output_type": "stream",
     "text": [
      "/Users/dragonstone/opt/anaconda3/lib/python3.7/site-packages/ipykernel_launcher.py:14: RuntimeWarning: overflow encountered in power\n",
      "  \n",
      "/Users/dragonstone/opt/anaconda3/lib/python3.7/site-packages/ipykernel_launcher.py:16: RuntimeWarning: overflow encountered in matmul\n",
      "  app.launch_new_instance()\n",
      "/Users/dragonstone/opt/anaconda3/lib/python3.7/site-packages/ipykernel_launcher.py:16: RuntimeWarning: invalid value encountered in matmul\n",
      "  app.launch_new_instance()\n",
      "/Users/dragonstone/opt/anaconda3/lib/python3.7/site-packages/ipykernel_launcher.py:19: RuntimeWarning: overflow encountered in power\n",
      "/Users/dragonstone/opt/anaconda3/lib/python3.7/site-packages/ipykernel_launcher.py:21: RuntimeWarning: overflow encountered in matmul\n",
      "/Users/dragonstone/opt/anaconda3/lib/python3.7/site-packages/ipykernel_launcher.py:21: RuntimeWarning: invalid value encountered in matmul\n"
     ]
    },
    {
     "data": {
      "application/vnd.jupyter.widget-view+json": {
       "model_id": "96e7aa52851d487baf327e460c3c69dc",
       "version_major": 2,
       "version_minor": 0
      },
      "text/plain": [
       "HBox(children=(FloatProgress(value=0.0, max=10.0), HTML(value='')))"
      ]
     },
     "metadata": {},
     "output_type": "display_data"
    },
    {
     "name": "stdout",
     "output_type": "stream",
     "text": [
      "Line search did not converge on iteration 5, using default step\n",
      "\n",
      "Conjugate gradient converged on iteration 9\n"
     ]
    },
    {
     "data": {
      "application/vnd.jupyter.widget-view+json": {
       "model_id": "6c2037cfeee54a5cb038eb5084943d89",
       "version_major": 2,
       "version_minor": 0
      },
      "text/plain": [
       "HBox(children=(FloatProgress(value=0.0, max=10.0), HTML(value='')))"
      ]
     },
     "metadata": {},
     "output_type": "display_data"
    },
    {
     "name": "stdout",
     "output_type": "stream",
     "text": [
      "\n",
      "Conjugate gradient converged on iteration 9\n"
     ]
    }
   ],
   "source": [
    "x_history_ns, values_history_ns, times_history_ns = ns.solve(g, x0=x0)\n",
    "x_history_no, values_history_no, times_history_no = no.optimize(f, x0=x0)\n",
    "x_history_fr, values_history_fr, times_history_fr = cg.optimize(f, x0=x0, default_step=1e-2, method='fletcher-reeves')\n",
    "x_history_pr, values_history_pr, times_history_pr = cg.optimize(f, x0=x0, default_step=1e-2, method='polak-ribiere')"
   ]
  },
  {
   "cell_type": "code",
   "execution_count": 276,
   "metadata": {},
   "outputs": [
    {
     "data": {
      "text/plain": [
       "[<matplotlib.lines.Line2D at 0x11e01da10>]"
      ]
     },
     "execution_count": 276,
     "metadata": {},
     "output_type": "execute_result"
    },
    {
     "data": {
      "image/png": "[encoded data removed]",
      "text/plain": [
       "<Figure size 432x288 with 1 Axes>"
      ]
     },
     "metadata": {
      "needs_background": "light"
     },
     "output_type": "display_data"
    }
   ],
   "source": [
    "plt.plot(values_history_ns)"
   ]
  },
  {
   "cell_type": "code",
   "execution_count": 282,
   "metadata": {},
   "outputs": [
    {
     "data": {
      "image/png": "[encoded data removed]",
      "text/plain": [
       "<Figure size 1080x504 with 2 Axes>"
      ]
     },
     "metadata": {
      "needs_background": "light"
     },
     "output_type": "display_data"
    }
   ],
   "source": [
    "draw_plots([values_history_no, values_history_fr, values_history_pr],\n",
    "          [times_history_no, times_history_fr, times_history_pr],\n",
    "          ['newton optim', 'fletcher-reeves', 'polyak-ribiere'])"
   ]
  },
  {
   "cell_type": "code",
   "execution_count": 281,
   "metadata": {},
   "outputs": [
    {
     "data": {
      "text/plain": [
       "[array([0.55720978]),\n",
       " array([-1.69332247]),\n",
       " array([nan]),\n",
       " array([nan]),\n",
       " array([nan]),\n",
       " array([nan]),\n",
       " array([nan]),\n",
       " array([nan]),\n",
       " array([nan]),\n",
       " array([nan]),\n",
       " array([nan])]"
      ]
     },
     "execution_count": 281,
     "metadata": {},
     "output_type": "execute_result"
    }
   ],
   "source": [
    "x_history_ns"
   ]
  },
  {
   "cell_type": "code",
   "execution_count": 280,
   "metadata": {},
   "outputs": [
    {
     "data": {
      "text/plain": [
       "[23.69530510576867, nan, nan, nan, nan, nan, nan, nan, nan, nan, nan]"
      ]
     },
     "execution_count": 280,
     "metadata": {},
     "output_type": "execute_result"
    }
   ],
   "source": [
    "values_history_ns"
   ]
  },
  {
   "cell_type": "markdown",
   "metadata": {},
   "source": [
    "# Generated PowerFlow"
   ]
  },
  {
   "cell_type": "code",
   "execution_count": 286,
   "metadata": {},
   "outputs": [],
   "source": [
    "class "
   ]
  },
  {
   "cell_type": "code",
   "execution_count": null,
   "metadata": {},
   "outputs": [],
   "source": [
    "GeneratedPowerFlowData()"
   ]
  }
 ],
 "metadata": {
  "kernelspec": {
   "display_name": "Python 3",
   "language": "python",
   "name": "python3"
  },
  "language_info": {
   "codemirror_mode": {
    "name": "ipython",
    "version": 3
   },
   "file_extension": ".py",
   "mimetype": "text/x-python",
   "name": "python",
   "nbconvert_exporter": "python",
   "pygments_lexer": "ipython3",
   "version": "3.7.4"
  }
 },
 "nbformat": 4,
 "nbformat_minor": 2
}
